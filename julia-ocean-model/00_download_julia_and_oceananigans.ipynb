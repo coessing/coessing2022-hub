{
 "cells": [
  {
   "cell_type": "markdown",
   "id": "692d5b29-4dee-4ce6-b049-ae6f3e319467",
   "metadata": {},
   "source": [
    "# Intro to Julia\n",
    "\n",
    "This module will teach you how to get julia up and running and install `Oceananigans.jl`. "
   ]
  },
  {
   "cell_type": "markdown",
   "id": "f6e062a8-f96b-401b-82e6-60432030429f",
   "metadata": {},
   "source": [
    "### First steps\n",
    "\n",
    "The basic software required to run Julia is available online on the official julia website https://julialang.org/downloads. The steps to have Julia up and running are all documented in the \n",
    "\n",
    "El software básico para usar Julia está disponible en su página oficial https://julialang.org/downloads, en forma de código fuente así como en paquetes preparados para instalar en Windows, Mac OS X, y algunas distribuciones de Linux. Desde esa página podrás encontrar también enlaces con explicaciones detalladas sobre cómo instalar y ejecutar Julia, que son específicas para cada sistema, y por lo tanto no desarrollaremos aquí.\n",
    "\n",
    "#### Pros\n",
    "\n",
    "- Fast computation \n",
    "- User friendly\n",
    "\n",
    "#### Cons\n",
    "- Relatively new language "
   ]
  },
  {
   "cell_type": "markdown",
   "id": "e50b649b-a2da-407f-b5c2-fa8d7ace7e8a",
   "metadata": {},
   "source": [
    "Julia is generally similar to Python, so similar that it is possible to call python modules in julia\n"
   ]
  },
  {
   "cell_type": "markdown",
   "id": "63830b70-c1b6-4fbd-be77-569a3dca9b49",
   "metadata": {},
   "source": [
    "The main differences are\n",
    "\n",
    "- Array index\n",
    "- function definitions"
   ]
  },
  {
   "cell_type": "code",
   "execution_count": 22,
   "id": "3d8fd856-f108-4ccc-8a5a-c18dd7aeb185",
   "metadata": {},
   "outputs": [
    {
     "data": {
      "text/plain": [
       "4-element Vector{Int64}:\n",
       " 1\n",
       " 2\n",
       " 3\n",
       " 4"
      ]
     },
     "execution_count": 22,
     "metadata": {},
     "output_type": "execute_result"
    }
   ],
   "source": [
    "a = [1, 2, 3, 4]"
   ]
  },
  {
   "cell_type": "code",
   "execution_count": 12,
   "id": "7406d4ad-8c82-4242-83ec-80f28cc8cba5",
   "metadata": {},
   "outputs": [
    {
     "ename": "LoadError",
     "evalue": "BoundsError: attempt to access 4-element Vector{Int64} at index [0]",
     "output_type": "error",
     "traceback": [
      "BoundsError: attempt to access 4-element Vector{Int64} at index [0]",
      "",
      "Stacktrace:",
      " [1] getindex(A::Vector{Int64}, i1::Int64)",
      "   @ Base ./array.jl:861",
      " [2] top-level scope",
      "   @ In[12]:1",
      " [3] eval",
      "   @ ./boot.jl:373 [inlined]",
      " [4] include_string(mapexpr::typeof(REPL.softscope), mod::Module, code::String, filename::String)",
      "   @ Base ./loading.jl:1196"
     ]
    }
   ],
   "source": [
    "a[0]"
   ]
  },
  {
   "cell_type": "markdown",
   "id": "565ba6aa-339a-4801-adc9-97d3ef429b42",
   "metadata": {},
   "source": [
    "While in Python an array starts from index 0, in julia an array always starts with index 1"
   ]
  },
  {
   "cell_type": "code",
   "execution_count": 23,
   "id": "12cb026b-9700-47c3-8137-f5812385e5b8",
   "metadata": {},
   "outputs": [
    {
     "data": {
      "text/plain": [
       "2"
      ]
     },
     "execution_count": 23,
     "metadata": {},
     "output_type": "execute_result"
    }
   ],
   "source": [
    "function add(x)\n",
    "    x = x + 1\n",
    "end\n",
    "a = 1\n",
    "a = add(a)"
   ]
  },
  {
   "cell_type": "markdown",
   "id": "55bbad59-8774-4cb2-a35b-ed8c5f57ea72",
   "metadata": {},
   "source": [
    "Functions in Julia resemble functions from Matlab, they do not require the indentation and they are defined by the keyword `function`. You can retrieve all the variables which are defined in the workspace and their type with the `varinfo()` function"
   ]
  },
  {
   "cell_type": "code",
   "execution_count": 24,
   "id": "a606e3fc-3e9e-4311-83f7-ae7d90b7a8f3",
   "metadata": {},
   "outputs": [
    {
     "data": {
      "text/latex": [
       "\\begin{tabular}\n",
       "{l | r | l}\n",
       "name & size & summary \\\\\n",
       "\\hline\n",
       "Base &  & Module \\\\\n",
       "Core &  & Module \\\\\n",
       "Main &  & Module \\\\\n",
       "a & 8 bytes & Int64 \\\\\n",
       "add & 0 bytes & add (generic function with 1 method) \\\\\n",
       "b & 8 bytes & Float64 \\\\\n",
       "c & 12 bytes & 4-codeunit String \\\\\n",
       "\\end{tabular}\n"
      ],
      "text/markdown": [
       "| name |     size | summary                              |\n",
       "|:---- | --------:|:------------------------------------ |\n",
       "| Base |          | Module                               |\n",
       "| Core |          | Module                               |\n",
       "| Main |          | Module                               |\n",
       "| a    |  8 bytes | Int64                                |\n",
       "| add  |  0 bytes | add (generic function with 1 method) |\n",
       "| b    |  8 bytes | Float64                              |\n",
       "| c    | 12 bytes | 4-codeunit String                    |\n"
      ],
      "text/plain": [
       "  name     size summary                             \n",
       "  –––– –––––––– ––––––––––––––––––––––––––––––––––––\n",
       "  Base          Module                              \n",
       "  Core          Module                              \n",
       "  Main          Module                              \n",
       "  a     8 bytes Int64                               \n",
       "  add   0 bytes add (generic function with 1 method)\n",
       "  b     8 bytes Float64                             \n",
       "  c    12 bytes 4-codeunit String                   "
      ]
     },
     "execution_count": 24,
     "metadata": {},
     "output_type": "execute_result"
    }
   ],
   "source": [
    "varinfo()"
   ]
  },
  {
   "cell_type": "markdown",
   "id": "d541ee2e-27fb-4bd1-8474-f742fbc84d64",
   "metadata": {},
   "source": [
    "Note that in julia, also functions are variables!"
   ]
  },
  {
   "cell_type": "markdown",
   "id": "bce983dd-78e0-4148-bbae-9ebb8535ec80",
   "metadata": {},
   "source": [
    "### Modules and Packages\n",
    "\n",
    "Just like Python, Julia has an extensive ecosystem of _packages_ than can be loaded and used.\n",
    "The way to interact with packages is through julia's own package manager system, implemented in the module `Pkg`"
   ]
  },
  {
   "cell_type": "code",
   "execution_count": 18,
   "id": "1ddd3d1d-d4c5-4f94-9f1a-d4c6003d0d92",
   "metadata": {},
   "outputs": [
    {
     "name": "stdout",
     "output_type": "stream",
     "text": [
      "\u001b[36m\u001b[1m     Project\u001b[22m\u001b[39m Oceananigans v0.76.7\n",
      "\u001b[32m\u001b[1m      Status\u001b[22m\u001b[39m `~/development/Project.toml`\n",
      " \u001b[90m [79e6a3ab] \u001b[39mAdapt v3.3.3\n",
      " \u001b[90m [2169fc97] \u001b[39mAlgebraicMultigrid v0.5.1\n",
      " \u001b[90m [052768ef] \u001b[39mCUDA v3.11.0\n",
      " \u001b[90m [72cfdca4] \u001b[39mCUDAKernels v0.3.3\n",
      " \u001b[90m [a8cc5b0e] \u001b[39mCrayons v4.1.1\n",
      " \u001b[90m [7445602f] \u001b[39mCubedSphere v0.2.0\n",
      " \u001b[90m [ffbed154] \u001b[39mDocStringExtensions v0.8.6\n",
      " \u001b[90m [7a1cc6ca] \u001b[39mFFTW v1.5.0\n",
      " \u001b[90m [c27321d9] \u001b[39mGlob v1.3.0\n",
      " \u001b[90m [40713840] \u001b[39mIncompleteLU v0.2.0\n",
      " \u001b[90m [42fd0dbc] \u001b[39mIterativeSolvers v0.9.2\n",
      " \u001b[90m [033835bb] \u001b[39mJLD2 v0.4.22\n",
      " \u001b[90m [63c18a36] \u001b[39mKernelAbstractions v0.7.2\n",
      " \u001b[90m [da04e1cc] \u001b[39mMPI v0.19.2\n",
      " \u001b[90m [85f8d34a] \u001b[39mNCDatasets v0.12.4\n",
      " \u001b[90m [6fe1bfb0] \u001b[39mOffsetArrays v1.12.6\n",
      " \u001b[90m [bac558e1] \u001b[39mOrderedCollections v1.4.1\n",
      " \u001b[90m [0e08944d] \u001b[39mPencilArrays v0.17.5\n",
      " \u001b[90m [4a48f351] \u001b[39mPencilFFTs v0.14.0\n",
      " \u001b[90m [6038ab10] \u001b[39mRotations v1.3.1\n",
      " \u001b[90m [d496a93d] \u001b[39mSeawaterPolynomials v0.2.3\n",
      " \u001b[90m [09ab397b] \u001b[39mStructArrays v0.6.11\n",
      " \u001b[90m [bc48ee85] \u001b[39mTullio v0.3.4\n",
      " \u001b[90m [7cb0a576] \u001b[39mMPICH_jll v4.0.1+0\n",
      " \u001b[90m [ade2ca70] \u001b[39mDates\n",
      " \u001b[90m [b77e0a4c] \u001b[39mInteractiveUtils\n",
      " \u001b[90m [37e2e46d] \u001b[39mLinearAlgebra\n",
      " \u001b[90m [56ddb016] \u001b[39mLogging\n",
      " \u001b[90m [44cfe95a] \u001b[39mPkg v1.8.0\n",
      " \u001b[90m [de0858da] \u001b[39mPrintf\n",
      " \u001b[90m [9a3f8284] \u001b[39mRandom\n",
      " \u001b[90m [2f01184e] \u001b[39mSparseArrays\n",
      " \u001b[90m [10745b16] \u001b[39mStatistics\n"
     ]
    }
   ],
   "source": [
    "using Pkg\n",
    "Pkg.status()"
   ]
  },
  {
   "cell_type": "code",
   "execution_count": 20,
   "id": "7b2c51a8-20c0-486a-b640-9bcb9566a4a3",
   "metadata": {},
   "outputs": [
    {
     "name": "stderr",
     "output_type": "stream",
     "text": [
      "\u001b[32m\u001b[1m   Resolving\u001b[22m\u001b[39m package versions...\n"
     ]
    },
    {
     "ename": "LoadError",
     "evalue": "expected the file `src/Oceananigans.jl` to exist for package `Oceananigans` at `/Users/simonesilvestri/development`",
     "output_type": "error",
     "traceback": [
      "expected the file `src/Oceananigans.jl` to exist for package `Oceananigans` at `/Users/simonesilvestri/development`",
      "",
      "Stacktrace:",
      "  [1] pkgerror(msg::String)",
      "    @ Pkg.Types /Applications/Julia-1.7.app/Contents/Resources/julia/share/julia/stdlib/v1.7/Pkg/src/Types.jl:68",
      "  [2] read_package(path::String)",
      "    @ Pkg.Types /Applications/Julia-1.7.app/Contents/Resources/julia/share/julia/stdlib/v1.7/Pkg/src/Types.jl:491",
      "  [3] collect_project!(pkg::Pkg.Types.PackageSpec, path::String, deps_map::Dict{Base.UUID, Vector{Pkg.Types.PackageSpec}})",
      "    @ Pkg.Operations /Applications/Julia-1.7.app/Contents/Resources/julia/share/julia/stdlib/v1.7/Pkg/src/Operations.jl:197",
      "  [4] collect_fixed!(env::Pkg.Types.EnvCache, pkgs::Vector{Pkg.Types.PackageSpec}, names::Dict{Base.UUID, String})",
      "    @ Pkg.Operations /Applications/Julia-1.7.app/Contents/Resources/julia/share/julia/stdlib/v1.7/Pkg/src/Operations.jl:252",
      "  [5] resolve_versions!(env::Pkg.Types.EnvCache, registries::Vector{Pkg.Registry.RegistryInstance}, pkgs::Vector{Pkg.Types.PackageSpec}, julia_version::VersionNumber)",
      "    @ Pkg.Operations /Applications/Julia-1.7.app/Contents/Resources/julia/share/julia/stdlib/v1.7/Pkg/src/Operations.jl:309",
      "  [6] targeted_resolve(env::Pkg.Types.EnvCache, registries::Vector{Pkg.Registry.RegistryInstance}, pkgs::Vector{Pkg.Types.PackageSpec}, preserve::Pkg.Types.PreserveLevel, julia_version::VersionNumber)",
      "    @ Pkg.Operations /Applications/Julia-1.7.app/Contents/Resources/julia/share/julia/stdlib/v1.7/Pkg/src/Operations.jl:1154",
      "  [7] tiered_resolve(env::Pkg.Types.EnvCache, registries::Vector{Pkg.Registry.RegistryInstance}, pkgs::Vector{Pkg.Types.PackageSpec}, julia_version::VersionNumber)",
      "    @ Pkg.Operations /Applications/Julia-1.7.app/Contents/Resources/julia/share/julia/stdlib/v1.7/Pkg/src/Operations.jl:1125",
      "  [8] _resolve(io::IJulia.IJuliaStdio{Base.PipeEndpoint}, env::Pkg.Types.EnvCache, registries::Vector{Pkg.Registry.RegistryInstance}, pkgs::Vector{Pkg.Types.PackageSpec}, preserve::Pkg.Types.PreserveLevel, julia_version::VersionNumber)",
      "    @ Pkg.Operations /Applications/Julia-1.7.app/Contents/Resources/julia/share/julia/stdlib/v1.7/Pkg/src/Operations.jl:1160",
      "  [9] add(ctx::Pkg.Types.Context, pkgs::Vector{Pkg.Types.PackageSpec}, new_git::Set{Base.UUID}; preserve::Pkg.Types.PreserveLevel, platform::Base.BinaryPlatforms.Platform)",
      "    @ Pkg.Operations /Applications/Julia-1.7.app/Contents/Resources/julia/share/julia/stdlib/v1.7/Pkg/src/Operations.jl:1176",
      " [10] add(ctx::Pkg.Types.Context, pkgs::Vector{Pkg.Types.PackageSpec}; preserve::Pkg.Types.PreserveLevel, platform::Base.BinaryPlatforms.Platform, kwargs::Base.Pairs{Symbol, IJulia.IJuliaStdio{Base.PipeEndpoint}, Tuple{Symbol}, NamedTuple{(:io,), Tuple{IJulia.IJuliaStdio{Base.PipeEndpoint}}}})",
      "    @ Pkg.API /Applications/Julia-1.7.app/Contents/Resources/julia/share/julia/stdlib/v1.7/Pkg/src/API.jl:268",
      " [11] add(pkgs::Vector{Pkg.Types.PackageSpec}; io::IJulia.IJuliaStdio{Base.PipeEndpoint}, kwargs::Base.Pairs{Symbol, Union{}, Tuple{}, NamedTuple{(), Tuple{}}})",
      "    @ Pkg.API /Applications/Julia-1.7.app/Contents/Resources/julia/share/julia/stdlib/v1.7/Pkg/src/API.jl:149",
      " [12] add(pkgs::Vector{Pkg.Types.PackageSpec})",
      "    @ Pkg.API /Applications/Julia-1.7.app/Contents/Resources/julia/share/julia/stdlib/v1.7/Pkg/src/API.jl:144",
      " [13] #add#27",
      "    @ /Applications/Julia-1.7.app/Contents/Resources/julia/share/julia/stdlib/v1.7/Pkg/src/API.jl:142 [inlined]",
      " [14] add",
      "    @ /Applications/Julia-1.7.app/Contents/Resources/julia/share/julia/stdlib/v1.7/Pkg/src/API.jl:142 [inlined]",
      " [15] #add#26",
      "    @ /Applications/Julia-1.7.app/Contents/Resources/julia/share/julia/stdlib/v1.7/Pkg/src/API.jl:141 [inlined]",
      " [16] add(pkg::String)",
      "    @ Pkg.API /Applications/Julia-1.7.app/Contents/Resources/julia/share/julia/stdlib/v1.7/Pkg/src/API.jl:141",
      " [17] top-level scope",
      "    @ In[20]:1",
      " [18] eval",
      "    @ ./boot.jl:373 [inlined]",
      " [19] include_string(mapexpr::typeof(REPL.softscope), mod::Module, code::String, filename::String)",
      "    @ Base ./loading.jl:1196"
     ]
    }
   ],
   "source": [
    "Pkg.add(\"DataDeps\")\n",
    "using DataDeps"
   ]
  },
  {
   "cell_type": "markdown",
   "id": "8b3eefe5-be18-4577-b120-bd8f0fc394d9",
   "metadata": {},
   "source": [
    "### Resources\n",
    "\n",
    "- Download from: https://julialang.org/downloads/\n",
    "- Installation instructions: https://julialang.org/downloads/platform/\n",
    "- Tutorials:  https://julialang.org/learning/tutorials/\n",
    "- Oceananigans package documentation: \n",
    "\n",
    "\n",
    "For any question reach out to: silvestri.simone0@gmail.com (or through slack: Simone Silvestri)\n"
   ]
  },
  {
   "cell_type": "markdown",
   "id": "5adcffe5-64a0-41ee-8a0a-6b8b672c734c",
   "metadata": {},
   "source": [
    "## Oceananigans: a Julia library\n",
    "\n",
    "- A library for building numerical experiments of ocean-flavored fluid dynamics\n",
    "- Designed for both “small”- and “large”-scale oceanography\n",
    "- Vision 1: Data-driven Earth system modeling with Climate Modeling Alliance\n",
    "- Vision 2: accelerate and enable innovative computational oceanography\n",
    "- Deep Julia ecosystem integration: KernelAbstractions, CUDA, JLD2, NetCDF, MPI, PencilFFTs, Makie, and many more.\n",
    "\n"
   ]
  },
  {
   "cell_type": "code",
   "execution_count": null,
   "id": "c47f02c0-d071-4164-9bd9-87981f7e4f6e",
   "metadata": {},
   "outputs": [],
   "source": []
  }
 ],
 "metadata": {
  "kernelspec": {
   "display_name": "Julia 1.7.3",
   "language": "julia",
   "name": "julia-1.7"
  },
  "language_info": {
   "file_extension": ".jl",
   "mimetype": "application/julia",
   "name": "julia",
   "version": "1.7.3"
  }
 },
 "nbformat": 4,
 "nbformat_minor": 5
}
