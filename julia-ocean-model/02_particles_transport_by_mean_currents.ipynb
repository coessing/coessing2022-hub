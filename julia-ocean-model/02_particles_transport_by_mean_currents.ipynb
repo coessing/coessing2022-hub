{
 "cells": [
  {
   "cell_type": "markdown",
   "metadata": {},
   "source": [
    "# Module 2: Particle transport by a mean velocity field\n",
    "\n",
    "We already defined and populated `U` and `V` fields (surface velocities averaged over ten years). <br>\n",
    "In this module, we will use these velocity fields to transport particles across the globe.\n",
    "\n",
    "Let us include everything we have done in the previous module and check that our building blocks are there (grid, U, and V). <br>\n",
    "We can use the `NBInclude` package, which allows us to include notebooks."
   ]
  },
  {
   "cell_type": "code",
   "execution_count": 1,
   "metadata": {},
   "outputs": [
    {
     "name": "stderr",
     "output_type": "stream",
     "text": [
      "\u001b[32m\u001b[1m    Updating\u001b[22m\u001b[39m registry at `/srv/julia/pkg/registries/General.toml`\n",
      "\u001b[32m\u001b[1m   Resolving\u001b[22m\u001b[39m package versions...\n",
      "\u001b[32m\u001b[1m  No Changes\u001b[22m\u001b[39m to `/srv/julia/pkg/environments/v1.7/Project.toml`\n",
      "\u001b[32m\u001b[1m  No Changes\u001b[22m\u001b[39m to `/srv/julia/pkg/environments/v1.7/Manifest.toml`\n",
      "┌ Warning: Opening file with JLD2.MmapIO failed, falling back to IOStream\n",
      "└ @ JLD2 /srv/julia/pkg/packages/JLD2/k9Gt0/src/JLD2.jl:233\n"
     ]
    },
    {
     "ename": "LoadError",
     "evalue": "LoadError: SystemError: opening file \"../shared/bathymetry.jld2\": No such file or directory\nin expression starting at /home/jovyan/coessing2022-hub/julia-ocean-model/01_build_a_discrete_ocean.ipynb:In[4]:2",
     "output_type": "error",
     "traceback": [
      "LoadError: SystemError: opening file \"../shared/bathymetry.jld2\": No such file or directory\nin expression starting at /home/jovyan/coessing2022-hub/julia-ocean-model/01_build_a_discrete_ocean.ipynb:In[4]:2",
      "",
      "Stacktrace:",
      "  [1] systemerror(p::String, errno::Int32; extrainfo::Nothing)",
      "    @ Base ./error.jl:174",
      "  [2] #systemerror#68",
      "    @ ./error.jl:173 [inlined]",
      "  [3] systemerror",
      "    @ ./error.jl:173 [inlined]",
      "  [4] open(fname::String; lock::Bool, read::Bool, write::Bool, create::Bool, truncate::Bool, append::Bool)",
      "    @ Base ./iostream.jl:293",
      "  [5] openfile",
      "    @ /srv/julia/pkg/packages/JLD2/k9Gt0/src/JLD2.jl:223 [inlined]",
      "  [6] openfile(T::Type, fname::String, wr::Bool, create::Bool, truncate::Bool, fallback::Type)",
      "    @ JLD2 /srv/julia/pkg/packages/JLD2/k9Gt0/src/JLD2.jl:234",
      "  [7] jldopen(fname::String, wr::Bool, create::Bool, truncate::Bool, iotype::Type{JLD2.MmapIO}; fallback::Type{IOStream}, compress::Bool, mmaparrays::Bool, typemap::Dict{String, Any})",
      "    @ JLD2 /srv/julia/pkg/packages/JLD2/k9Gt0/src/JLD2.jl:290",
      "  [8] jldopen(fname::String, wr::Bool, create::Bool, truncate::Bool, iotype::Type{JLD2.MmapIO})",
      "    @ JLD2 /srv/julia/pkg/packages/JLD2/k9Gt0/src/JLD2.jl:253",
      "  [9] jldopen(fname::String, mode::String; iotype::Type, kwargs::Base.Pairs{Symbol, Union{}, Tuple{}, NamedTuple{(), Tuple{}}})",
      "    @ JLD2 /srv/julia/pkg/packages/JLD2/k9Gt0/src/JLD2.jl:356",
      " [10] jldopen (repeats 2 times)",
      "    @ /srv/julia/pkg/packages/JLD2/k9Gt0/src/JLD2.jl:351 [inlined]",
      " [11] top-level scope",
      "    @ ~/coessing2022-hub/julia-ocean-model/01_build_a_discrete_ocean.ipynb:In[4]:2",
      " [12] eval",
      "    @ ./boot.jl:373 [inlined]",
      " [13] include_string(mapexpr::typeof(identity), mod::Module, code::String, filename::String)",
      "    @ Base ./loading.jl:1196",
      " [14] include_string",
      "    @ ./loading.jl:1206 [inlined]",
      " [15] my_include_string(m::Module, s::String, path::String, prev::Nothing, softscope::Bool)",
      "    @ NBInclude /srv/julia/pkg/packages/NBInclude/MxvbF/src/NBInclude.jl:30",
      " [16] #2",
      "    @ /srv/julia/pkg/packages/NBInclude/MxvbF/src/NBInclude.jl:93 [inlined]",
      " [17] task_local_storage(body::NBInclude.var\"#2#3\"{Bool, Module, String, Nothing, String, String}, key::Symbol, val::Bool)",
      "    @ Base ./task.jl:281",
      " [18] nbinclude(m::Module, path::String; renumber::Bool, counters::UnitRange{Int64}, regex::Regex, anshook::typeof(identity), softscope::Bool)",
      "    @ NBInclude /srv/julia/pkg/packages/NBInclude/MxvbF/src/NBInclude.jl:92",
      " [19] nbinclude(m::Module, path::String)",
      "    @ NBInclude /srv/julia/pkg/packages/NBInclude/MxvbF/src/NBInclude.jl:65",
      " [20] top-level scope",
      "    @ In[1]:3",
      " [21] eval",
      "    @ ./boot.jl:373 [inlined]",
      " [22] include_string(mapexpr::typeof(REPL.softscope), mod::Module, code::String, filename::String)",
      "    @ Base ./loading.jl:1196"
     ]
    }
   ],
   "source": [
    "using NBInclude \n",
    "\n",
    "@nbinclude(\"01_build_a_discrete_ocean.ipynb\")"
   ]
  },
  {
   "cell_type": "markdown",
   "metadata": {
    "tags": []
   },
   "source": [
    "### Defining particles' initial positions\n",
    "\n",
    "Particles in Oceananigans are identified by an x, y, and z position. (In the case of a spherical domain, x and y are longitude and latitude, respectively)\n",
    "\n",
    "Initial positions are specified as arrays. <br> \n",
    "Let us distribute the initial positions around a Center with some random values:\n",
    "\n",
    "$$\\lambda_p = \\lambda_c + S * (R - 0.5),$$\n",
    "\n",
    "where $R$ is a random value between 0 and 1 and $S$ controls the spread of the initial positions"
   ]
  },
  {
   "cell_type": "code",
   "execution_count": null,
   "metadata": {},
   "outputs": [],
   "source": [
    "λ₀, φ₀ = -120.0, -60.0\n",
    "\n",
    "spread_λ = 2.0\n",
    "spread_φ = 2.0\n",
    "\n",
    "n_particles = 100\n",
    "\n",
    "# Arrays of uniformely distributed random numbers between 0 and 1 and built with the `rand(size)` function\n",
    "λₚ = λ₀ .+ spread_λ .* (rand(n_particles) .- 0.5);\n",
    "φₚ = φ₀ .+ spread_φ .* (rand(n_particles) .- 0.5);\n",
    "\n",
    "# z is constant because the simulation is 2D\n",
    "zₚ = 0.5 .* ones(n_particles);\n",
    "\n",
    "# The function `extrema(array)` returns `(minimum(array), maximum(array))`\n",
    "@show extrema(λₚ);\n",
    "@show extrema(φₚ);"
   ]
  },
  {
   "cell_type": "markdown",
   "metadata": {},
   "source": [
    "### Particles in Oceananigans\n",
    "\n",
    "By passing the arrays containing the initial positions to the particles' <br>\n",
    "constructor, we can build a `LagrangianParticles` object, the type which contains particles' <br>\n",
    "properties in Oceananigans"
   ]
  },
  {
   "cell_type": "code",
   "execution_count": null,
   "metadata": {},
   "outputs": [],
   "source": [
    "lagrangian_particles = LagrangianParticles(x=λₚ, y=φₚ, z=zₚ)"
   ]
  },
  {
   "cell_type": "markdown",
   "metadata": {},
   "source": [
    "### Oceananigans' Model type\n",
    "\n",
    "A model in Oceananigans is a container that includes all the physical phenomena we want to represent. <br>\n",
    "\n",
    "In our case, we only want to have particles transported by the velocity fields we previously defined. <br>\n"
   ]
  },
  {
   "cell_type": "code",
   "execution_count": null,
   "metadata": {},
   "outputs": [],
   "source": [
    "model = HydrostaticFreeSurfaceModel(grid = grid, velocities = PrescribedVelocityFields(u = U, v = V, w = W),\n",
    "                                    buoyancy  = nothing,\n",
    "                                    tracers   = (),\n",
    "                                    particles = lagrangian_particles)"
   ]
  },
  {
   "cell_type": "markdown",
   "metadata": {},
   "source": [
    "### Time step size\n",
    "\n",
    "As a grid discretizes space, the time step \"discretizes\" the evolution in time. <br>\n",
    "The time step size is a fundamental parameter of the simulation and defines the resolution in time. <br>\n",
    "as a rule of thumb, smaller time steps -> a more stable simulation!\n",
    "\n",
    "#### CFL condition\n",
    "\n",
    "In a time step of $\\Delta t$ a particle with velocity $V$ will traverse a distance of $V \\cdot \\Delta t$. \n",
    "To avoid bypassing cell information, a particle should not traverse more than one cell in a single time step.\n",
    "\n",
    "If the cell size is $\\Delta x$, there is a maximum $\\Delta t$ that satisfies the above condition, \n",
    "\n",
    "$$\\Delta t \\le \\frac{\\Delta x}{V} \\ ,$$\n",
    "\n",
    "or, rewritten:\n",
    "\n",
    "$$\\text{CFL} = V \\cdot \\frac{\\Delta t}{\\Delta x} \\le 1 $$\n",
    "\n",
    "This last inequality is commonly called the Courant-Friedrichs-Lewy (CFL) condition, where the left-hand side is called the \"CFL\" number. <br>\n",
    "In Oceananigans, it is possible to check the maximum $\\Delta t$  with the `CFL` type that can be \"used\" as a function.\n",
    "\n",
    "Let us try a time step of 6 hours which is reasonable for oceanic time scales"
   ]
  },
  {
   "cell_type": "code",
   "execution_count": null,
   "metadata": {
    "tags": []
   },
   "outputs": [],
   "source": [
    "using Oceananigans.Diagnostics: accurate_cell_advection_timescale\n",
    "\n",
    "Δt  = 6hours\n",
    "\n",
    "@show CFL(Δt)(model);\n",
    "@show prettytime(accurate_cell_advection_timescale(model));"
   ]
  },
  {
   "cell_type": "markdown",
   "metadata": {},
   "source": [
    "The $\\Delta t$ we chose (6 hours) is more than five times larger than the suggested maximum. <br> \n",
    "This means that, where velocity is high, particles will most likely skip some cells!<br>\n",
    "However,  since we are only simulating particles and do not have problems with stability, <br> let us keep this large time step in the interest of (execution) time. "
   ]
  },
  {
   "cell_type": "markdown",
   "metadata": {},
   "source": [
    "### Defining a simulation\n",
    "\n",
    "The last step is to define a Simulation. <br>\n",
    "A Simulation type in Oceananigans is a wrapper around the model, which include <br>\n",
    "all the additional technical details of the simulation:\n",
    "- the time step.\n",
    "- stopping conditions (either `stop_time` or `stop_iteration`)\n",
    "- `Callbacks` or custom functions to be called during the simulation"
   ]
  },
  {
   "cell_type": "code",
   "execution_count": null,
   "metadata": {},
   "outputs": [],
   "source": [
    "simulation = Simulation(model, Δt = Δt, stop_time = 10years);\n",
    "\n",
    "start_time = [time_ns()]\n",
    "\n",
    "simulation.callbacks[:progress] = Callback(progress, IterationInterval(500));\n",
    "\n",
    "# We write u, v and the particles every 10 simulation days into the empty output arrays\n",
    "u_output = []\n",
    "v_output = []\n",
    "particles_output = []\n",
    "simulation.callbacks[:save_output] = Callback(store_output!, TimeInterval(10days))\n",
    "\n",
    "simulation"
   ]
  },
  {
   "cell_type": "markdown",
   "metadata": {},
   "source": [
    "### Let's run our first simulation!\n",
    "\n",
    "All the necessary ingredients are there, time to run the simulation!"
   ]
  },
  {
   "cell_type": "code",
   "execution_count": null,
   "metadata": {},
   "outputs": [],
   "source": [
    "run!(simulation)"
   ]
  },
  {
   "cell_type": "markdown",
   "metadata": {},
   "source": [
    "### Visualize the output\n",
    "\n",
    "A visualization function for the output called `visualize_results(output_file_name)` is already implemented in \"visualize_particles.jl\". <br>\n",
    "(If you want to take a look, go ahead! Ask if you want to know how it works)"
   ]
  },
  {
   "cell_type": "code",
   "execution_count": null,
   "metadata": {},
   "outputs": [],
   "source": [
    "include(\"utils/visualize_particles.jl\")\n",
    "visualize_results(\"output_particles\")"
   ]
  },
  {
   "cell_type": "code",
   "execution_count": null,
   "metadata": {},
   "outputs": [],
   "source": [
    "display_mp4(\"output_particles.mp4\")"
   ]
  },
  {
   "cell_type": "markdown",
   "metadata": {},
   "source": [
    "# Exercises\n",
    "\n",
    "Now that we know all the ingredients to run a simple particle tracking simulation, we can <br>\n",
    "try playing around with them to see how they affect particle tracks.\n",
    "\n",
    "## (1) Check the influence of the initial position\n",
    "\n",
    "Try changing the particle parameters and see where the particles end up\n",
    "- initial position \n",
    "- spread\n",
    "- number of particles\n",
    "\n",
    "We should see particles accumulate in \"convergence\" regions <br>\n",
    "These are regions where velocity is low, and the flow moves _downwards_. <br>\n",
    "Particles are _buoyant_ (they float) and cannot follow the flow in <br>\n",
    "its descent, thus accumulating on the ocean surface. <br>\n",
    "Some interesting positions to try are:\n",
    "\n",
    "***Southern Ocean*** <br>\n",
    "λ₀, φ₀ = -120.0, -60.0\n",
    "\n",
    "***Equatorial Pacific Ocean*** <br>\n",
    "λ₀, φ₀ = -160.0, 0.0\n",
    "\n",
    "***West Africa Coast*** <br>\n",
    "λ₀, φ₀ = 55.2, 8.3\n",
    "\n",
    "***Gulf stream (north Atlantic)*** <br>\n",
    "λ₀, φ₀ = -75.0, 30.5\n",
    "\n",
    "## (2) Check the influence of a coarser grid\n",
    "\n",
    "As we learned, the number of cells (\"pixels\") in a grid is directly correlated to the \"quality\" <br>\n",
    "of the simulation. <br>\n",
    "\n",
    "Try coarsening/refining the grid (remember: the maximum resolution is 1440 X 600) and see the impact on particle trajectories.\n",
    "\n",
    "## (3) Change the velocity fields\n",
    "\n",
    "Try modifying the velocity fields (`U` and `V`) to see the impact of the currents on particle trajectory. <br>\n",
    "Try reducing/increasing the velocity or changing the sign to see the flow moving in the other direction.\n",
    "\n",
    "Otherwise, try increasing/decreasing the magnitude of the `V` velocity when compared to the `U` velocity <br>\n",
    "to see particles move predominantly in the latitude/longitude direction or swap `U` and `V` to see new convergent zones arising\n",
    "\n",
    "### Compare to observations? (maybe after the next module) \n",
    "\n",
    "Since plastics are a _buoyant_ tracer (they float so they \"feel\" only the surface velocity field), <br> \n",
    "the drift of plastics in the ocean generally follows the same dynamics we simulated here.\n",
    "\n",
    "We could compare the results of the simulations with observations of plastic accumulation, but the surface of the ocean is <br>\n",
    "generally turbulent (not time independent as we imposed here), so there might be significant discrepancies! <br>\n",
    "This is an exercise for module 3!"
   ]
  },
  {
   "cell_type": "code",
   "execution_count": null,
   "metadata": {},
   "outputs": [],
   "source": []
  }
 ],
 "metadata": {
  "kernelspec": {
   "display_name": "Julia 1.7.3",
   "language": "julia",
   "name": "julia-1.7"
  },
  "language_info": {
   "file_extension": ".jl",
   "mimetype": "application/julia",
   "name": "julia",
   "version": "1.7.3"
  }
 },
 "nbformat": 4,
 "nbformat_minor": 4
}
