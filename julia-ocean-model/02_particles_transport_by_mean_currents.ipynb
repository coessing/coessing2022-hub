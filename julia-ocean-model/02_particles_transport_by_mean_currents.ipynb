{
 "cells": [
  {
   "cell_type": "markdown",
   "metadata": {},
   "source": [
    "# Particle transport by a mean velocity field\n",
    "\n",
    "We already defined and populated `U` and `V` fields (surface velocities averaged over ten years). <br>\n",
    "In this module, we will use these velocity fields to transport particles across the globe.\n",
    "\n",
    "Let us include everything we have done in the previous module and check that our building blocks are there (grid, U, and V). <br>\n",
    "We can use the `NBInclude` package, which allows us to include notebooks."
   ]
  },
  {
   "cell_type": "code",
   "execution_count": null,
   "metadata": {},
   "outputs": [],
   "source": [
    "using NBInclude \n",
    "\n",
    "@nbinclude(\"01_build_a_discrete_ocean.ipynb\")"
   ]
  },
  {
   "cell_type": "code",
   "execution_count": null,
   "metadata": {},
   "outputs": [],
   "source": [
    "grid, U, V"
   ]
  },
  {
   "cell_type": "markdown",
   "metadata": {
    "tags": []
   },
   "source": [
    "### Defining particles' initial positions\n",
    "\n",
    "Particles in Oceananigans are identified by an x, y, and z position. (In the case of a spherical domain, x and y are longitude and latitude, respectively)\n",
    "\n",
    "Initial positions are specified as arrays. <br> \n",
    "Let us distribute the initial positions around a Center with some random values:\n",
    "\n",
    "$$\\lambda_p = \\lambda_c + S * (R - 0.5),$$\n",
    "\n",
    "where $R$ is a random value between 0 and 1 and $S$ controls the spread of the initial positions"
   ]
  },
  {
   "cell_type": "code",
   "execution_count": null,
   "metadata": {},
   "outputs": [],
   "source": [
    "λ₀, φ₀ = -120.0, -55.0\n",
    "\n",
    "spread_λ = 10.0\n",
    "spread_φ = 10.0\n",
    "\n",
    "n_particles = 200\n",
    "\n",
    "# Arrays of uniformely distributed random numbers between 0 and 1 and built with the `rand(size)` function\n",
    "λₚ = λ₀ .+ spread_λ .* (rand(n_particles) .- 0.5);\n",
    "φₚ = φ₀ .+ spread_φ .* (rand(n_particles) .- 0.5);\n",
    "\n",
    "# z is constant because the simulation is 2D\n",
    "zₚ = 0.5 .* ones(n_particles);\n",
    "\n",
    "# The function `extrema(array)` returns `(minimum(array), maximum(array))`\n",
    "extrema(λₚ), extrema(φₚ)"
   ]
  },
  {
   "cell_type": "markdown",
   "metadata": {},
   "source": [
    "### Particles in Oceananigans\n",
    "\n",
    "By passing the arrays containing the initial positions to the particles' <br>\n",
    "constructor, we can build a `LagrangianParticles` object, the type which contains particles' <br>\n",
    "properties in Oceananigans"
   ]
  },
  {
   "cell_type": "code",
   "execution_count": null,
   "metadata": {},
   "outputs": [],
   "source": [
    "lagrangian_particles = LagrangianParticles(x=λₚ, y=φₚ, z=zₚ)"
   ]
  },
  {
   "cell_type": "markdown",
   "metadata": {},
   "source": [
    "### Oceananigans' Model type\n",
    "\n",
    "A model in Oceananigans is a container that includes all the physical phenomena we want to represent. <br>\n",
    "\n",
    "In our case, we only want to have particles transported by the velocity fields we previously defined. <br>"
   ]
  },
  {
   "cell_type": "code",
   "execution_count": null,
   "metadata": {},
   "outputs": [],
   "source": [
    "model = HydrostaticFreeSurfaceModel(grid = grid, velocities = PrescribedVelocityFields(u = U, v = V, w = W),\n",
    "                                    buoyancy  = nothing,\n",
    "                                    tracers   = (),\n",
    "                                    particles = lagrangian_particles)"
   ]
  },
  {
   "cell_type": "markdown",
   "metadata": {},
   "source": [
    "### Time step size\n",
    "\n",
    "As a grid discretizes space, the time step \"discretizes\" the evolution in time. <br>\n",
    "The time step size is a fundamental parameter of the simulation and defines the resolution in time. <br>\n",
    "as a rule of thumb, smaller time steps -> a more stable simulation!\n",
    "\n",
    "#### CFL condition\n",
    "\n",
    "In a time step of $\\Delta t$ a particle with velocity $V$ will traverse a distance of $V \\cdot \\Delta t$. <br>\n",
    "For fidelity reasons, particle should not traverse more than one grid cell in one time step. <br>\n",
    "If the cell size is $\\Delta x$, there is a maximum $\\Delta t$ that satisfies the above condition, \n",
    "\n",
    "$$\\Delta t_{max} = \\frac{\\Delta x}{V} \\ ,$$\n",
    "\n",
    "We can rewrite this condition as so:\n",
    "\n",
    "$$\\text{CFL} = V \\cdot \\frac{\\Delta t}{\\Delta x} \\le 1  \\ .$$\n",
    "\n",
    "This inequality is commonly called the Courant-Friedrichs-Lewy (CFL) condition where the left-hand side is called the \"CFL\" number. <br> (https://en.wikipedia.org/wiki/Courant%E2%80%93Friedrichs%E2%80%93Lewy_condition) <br>\n",
    "\n",
    "In Oceananigans, it is possible to check the maximum $\\Delta t$  with the `CFL` type that can be \"used\" as a function.\n",
    "\n",
    "Let us try a time step of 6 hours which is reasonable for oceanic time scales"
   ]
  },
  {
   "cell_type": "code",
   "execution_count": null,
   "metadata": {
    "tags": []
   },
   "outputs": [],
   "source": [
    "Δt  = 6hours\n",
    "\n",
    "CFL(Δt)(model)"
   ]
  },
  {
   "cell_type": "markdown",
   "metadata": {},
   "source": [
    "Looking at the CFL number is the $\\Delta t$ we chose appropriate? <br>\n",
    "Can we increase it / Do we have to decrease it?"
   ]
  },
  {
   "cell_type": "markdown",
   "metadata": {},
   "source": [
    "### Defining a simulation\n",
    "\n",
    "The last step is to define a Simulation. <br>\n",
    "A Simulation type in Oceananigans is a wrapper around the model, which include <br>\n",
    "all the additional technical details of the simulation:\n",
    "- the time step.\n",
    "- stopping conditions (either `stop_time` or `stop_iteration`)\n",
    "- `Callbacks` or custom functions to be called during the simulation"
   ]
  },
  {
   "cell_type": "code",
   "execution_count": null,
   "metadata": {},
   "outputs": [],
   "source": [
    "simulation = Simulation(model, Δt = Δt, stop_time = 10years);\n",
    "\n",
    "start_time = [time_ns()]\n",
    "\n",
    "simulation.callbacks[:progress] = Callback(progress, IterationInterval(500));\n",
    "\n",
    "# We write particles every 10 simulation days into the empty output arrays\n",
    "particles_output = []\n",
    "simulation.callbacks[:save_output] = Callback(store_particles_output!, TimeInterval(10days))\n",
    "\n",
    "simulation"
   ]
  },
  {
   "cell_type": "markdown",
   "metadata": {},
   "source": [
    "### Let's run our first simulation!\n",
    "\n",
    "All the necessary ingredients are there, time to run the simulation!"
   ]
  },
  {
   "cell_type": "code",
   "execution_count": null,
   "metadata": {},
   "outputs": [],
   "source": [
    "run!(simulation)"
   ]
  },
  {
   "cell_type": "markdown",
   "metadata": {},
   "source": [
    "### Visualize the output\n",
    "\n",
    "A visualization function for the output called `visualize_results(grid)` is already implemented in \"visualize_particles.jl\". <br>\n",
    "(If you want to take a look, go ahead! Ask if you want to know how it works)"
   ]
  },
  {
   "cell_type": "code",
   "execution_count": null,
   "metadata": {},
   "outputs": [],
   "source": [
    "include(\"utils/visualize_particles.jl\")\n",
    "\n",
    "visualize_mean_velocity_results(model)"
   ]
  },
  {
   "cell_type": "code",
   "execution_count": null,
   "metadata": {},
   "outputs": [],
   "source": [
    "display_mp4(\"output_particles.mp4\")"
   ]
  },
  {
   "cell_type": "markdown",
   "metadata": {},
   "source": [
    "# Exercises\n",
    "\n",
    "Now that we know all the ingredients to run a simple particle tracking simulation, we can <br>\n",
    "try playing around with them to see how they affect particle tracks.\n",
    "\n",
    "## (1) Check the influence of the initial position\n",
    "\n",
    "Try changing the particle parameters and see where the particles end up\n",
    "- initial position \n",
    "- spread\n",
    "- number of particles\n",
    "\n",
    "We should see particles accumulate in \"convergence\" regions <br>\n",
    "These are regions where velocity is low, and the flow moves _downwards_. <br>\n",
    "Particles are _buoyant_ (they float) and cannot follow the flow in <br>\n",
    "its descent, thus accumulating on the ocean surface. <br>\n",
    "Some interesting positions to try are:\n",
    "\n",
    "***Southern Ocean*** <br>\n",
    "λ₀, φ₀ = -120.0, -60.0\n",
    "\n",
    "***Equatorial Pacific Ocean*** <br>\n",
    "λ₀, φ₀ = -160.0, 0.0\n",
    "\n",
    "***West Africa Coast*** <br>\n",
    "λ₀, φ₀ = 55.2, 8.3\n",
    "\n",
    "***Gulf stream (north Atlantic)*** <br>\n",
    "λ₀, φ₀ = -75.0, 30.5\n",
    "\n",
    "## (2) Check the influence of a coarser grid\n",
    "\n",
    "As we learned, the number of cells (\"pixels\") in a grid is directly correlated to the \"quality\" <br>\n",
    "of the simulation. <br>\n",
    "\n",
    "Try coarsening/refining the grid (remember: the maximum resolution is 1440 X 600) and see the impact on particle trajectories.\n",
    "\n",
    "## (3) Change the velocity fields\n",
    "\n",
    "Try modifying the velocity fields (`U` and `V`) to see the impact of the currents on particle trajectory. <br>\n",
    "Try reducing/increasing the velocity or changing the sign to see the flow moving in the other direction.\n",
    "\n",
    "Otherwise, try increasing/decreasing the magnitude of the `V` velocity when compared to the `U` velocity <br>\n",
    "to see particles move predominantly in the latitude/longitude direction or swap `U` and `V` to see new convergent zones arising\n",
    "\n",
    "## Compare to observations? (You need turbulent velocities!!) \n",
    "\n",
    "Since plastics are a _buoyant_ tracer (they float so they \"feel\" only the surface velocity field), <br> \n",
    "the drift of plastics in the ocean generally follows the same dynamics we simulated here.\n",
    "\n",
    "We could compare the results of the simulations with observations of plastic accumulation, but the surface of the ocean is <br>\n",
    "generally turbulent (not time independent as we imposed here), so there might be significant discrepancies! <br>\n",
    "If you want to do some realistic comparison you can look at `03_particles_transport_by_turbulent_currents_optional.ipynb`"
   ]
  },
  {
   "cell_type": "code",
   "execution_count": null,
   "metadata": {},
   "outputs": [],
   "source": []
  }
 ],
 "metadata": {
  "kernelspec": {
   "display_name": "Julia 1.7.3",
   "language": "julia",
   "name": "julia-1.7"
  },
  "language_info": {
   "file_extension": ".jl",
   "mimetype": "application/julia",
   "name": "julia",
   "version": "1.7.3"
  }
 },
 "nbformat": 4,
 "nbformat_minor": 4
}
