{
 "cells": [
  {
   "cell_type": "markdown",
   "metadata": {},
   "source": [
    "Let's include the material of the previous module"
   ]
  },
  {
   "cell_type": "code",
   "execution_count": null,
   "metadata": {},
   "outputs": [],
   "source": [
    "include(\"module_00.jl\")"
   ]
  },
  {
   "cell_type": "code",
   "execution_count": null,
   "metadata": {},
   "outputs": [],
   "source": [
    "include(\"module_01.jl\")"
   ]
  },
  {
   "cell_type": "code",
   "execution_count": null,
   "metadata": {},
   "outputs": [],
   "source": [
    "λ₀ = -75.0\n",
    "φ₀ = 35.0\n",
    "\n",
    "degree_spread_λ = 5.0\n",
    "degree_spread_φ = 5.0\n",
    "\n",
    "n_particles = 20\n",
    "\n",
    "δ_turb = 1.0"
   ]
  },
  {
   "cell_type": "code",
   "execution_count": null,
   "metadata": {},
   "outputs": [],
   "source": [
    "λₚ = λ₀ .+ degree_spread_λ .* (rand(n_particles) .- 0.5);\n",
    "φₚ = φ₀ .+ degree_spread_φ .* (rand(n_particles) .- 0.5);\n",
    "\n",
    "zₚ = 0.5 .* ones(n_particles);\n",
    "lagrangian_particles = LagrangianParticles(x=λₚ, y=φₚ, z=zₚ)"
   ]
  },
  {
   "cell_type": "markdown",
   "metadata": {},
   "source": [
    "We set up the model"
   ]
  },
  {
   "cell_type": "code",
   "execution_count": null,
   "metadata": {},
   "outputs": [],
   "source": [
    "\n",
    "model = HydrostaticFreeSurfaceModel(grid = grid, velocities = PrescribedVelocityFields(u = U, v = V),\n",
    "                                    coriolis  = nothing,\n",
    "                                    buoyancy  = nothing,\n",
    "                                    closure   = nothing,\n",
    "                                    tracers   = (),\n",
    "                                    particles = lagrangian_particles)\n",
    "\n",
    "@info \"model initialized\""
   ]
  },
  {
   "cell_type": "code",
   "execution_count": null,
   "metadata": {},
   "outputs": [],
   "source": [
    "Δt = 6hours\n",
    "\n",
    "simulation = Simulation(model, Δt = Δt, stop_time = 10years)\n",
    "\n",
    "start_time = [time_ns()]\n",
    "\n",
    "if δ_turb != 0 \n",
    "simulation.callbacks[:interp_vel] = Callback(velocity_function, IterationInterval(1))\n",
    "end\n",
    "simulation.callbacks[:progress] = Callback(progress, IterationInterval(500))\n",
    "\n",
    "save_interval = 10days\n",
    "\n",
    "simulation.output_writers[:surface_fields] = JLD2OutputWriter(model,  (; u = model.velocities.u, v = model.velocities.v, particles=model.particles,),\n",
    "                            schedule = TimeInterval(save_interval),\n",
    "                            filename = \"output_particles\",\n",
    "                            overwrite_existing = true)\n"
   ]
  },
  {
   "cell_type": "markdown",
   "metadata": {},
   "source": [
    "u and v are a little bit different because they contain a time series (explain what a time series is)"
   ]
  },
  {
   "cell_type": "code",
   "execution_count": null,
   "metadata": {},
   "outputs": [],
   "source": [
    "# Let's goo!\n",
    "run!(simulation)"
   ]
  },
  {
   "cell_type": "markdown",
   "metadata": {},
   "source": [
    "Describe what we see"
   ]
  },
  {
   "cell_type": "code",
   "execution_count": null,
   "metadata": {},
   "outputs": [],
   "source": [
    "include(\"visualize_particles.jl\")\n",
    "visualize_results(\"output_particles\")"
   ]
  },
  {
   "cell_type": "code",
   "execution_count": null,
   "metadata": {},
   "outputs": [],
   "source": []
  },
  {
   "cell_type": "code",
   "execution_count": null,
   "metadata": {},
   "outputs": [],
   "source": []
  },
  {
   "cell_type": "code",
   "execution_count": null,
   "metadata": {},
   "outputs": [],
   "source": []
  }
 ],
 "metadata": {
  "kernelspec": {
   "display_name": "Julia 1.7.3",
   "language": "julia",
   "name": "julia-1.7"
  },
  "language_info": {
   "file_extension": ".jl",
   "mimetype": "application/julia",
   "name": "julia",
   "version": "1.7.3"
  }
 },
 "nbformat": 4,
 "nbformat_minor": 2
}
