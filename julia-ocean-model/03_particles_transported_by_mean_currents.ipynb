{
 "cells": [
  {
   "cell_type": "markdown",
   "metadata": {},
   "source": [
    "# Module 3: Particle transport by mean velocity\n",
    "\n",
    "We already defined and populated `U` and `V` fields which represent mean velocities averaged over 10 years. <br>\n",
    "In this module we will use these velocity fields to transport particles across the globe\n",
    "\n",
    "Let's include everything we have done in the previous modules (everything is contained in `module_02.jl`)\n",
    "and check that our building blocks are there (grid, U and V)"
   ]
  },
  {
   "cell_type": "code",
   "execution_count": 21,
   "metadata": {},
   "outputs": [
    {
     "name": "stdout",
     "output_type": "stream",
     "text": [
      "grid = 1440×600×1 ImmersedBoundaryGrid{Float64, Periodic, Bounded, Bounded} on CPU with 4×4×4 halo:\n",
      "├── immersed_boundary: GridFittedBoundary{Field{Center, Center, Center, Nothing, LatitudeLongitudeGrid{Float64, Periodic, Bounded, Bounded, OffsetArrays.OffsetVector{Float64, Vector{Float64}}, Float64, Float64, Float64, Float64, OffsetArrays.OffsetVector{Float64, StepRangeLen{Float64, Base.TwicePrecision{Float64}, Base.TwicePrecision{Float64}, Int64}}, OffsetArrays.OffsetVector{Float64, StepRangeLen{Float64, Base.TwicePrecision{Float64}, Base.TwicePrecision{Float64}, Int64}}, OffsetArrays.OffsetVector{Float64, StepRangeLen{Float64, Base.TwicePrecision{Float64}, Base.TwicePrecision{Float64}, Int64}}, CPU}, Tuple{Colon, Colon, Colon}, OffsetArrays.OffsetArray{Bool, 3, Array{Bool, 3}}, Bool, FieldBoundaryConditions{BoundaryCondition{Oceananigans.BoundaryConditions.Periodic, Nothing}, BoundaryCondition{Oceananigans.BoundaryConditions.Periodic, Nothing}, BoundaryCondition{Oceananigans.BoundaryConditions.Flux, Nothing}, BoundaryCondition{Oceananigans.BoundaryConditions.Flux, Nothing}, BoundaryCondition{Oceananigans.BoundaryConditions.Flux, Nothing}, BoundaryCondition{Oceananigans.BoundaryConditions.Flux, Nothing}, BoundaryCondition{Oceananigans.BoundaryConditions.Flux, Nothing}}, Nothing, Oceananigans.Fields.FieldBoundaryBuffers{Nothing, Nothing, Nothing, Nothing}}}\n",
      "├── underlying_grid: 1440×600×1 LatitudeLongitudeGrid{Float64, Periodic, Bounded, Bounded} on CPU with 4×4×4 halo and with precomputed metrics\n",
      "├── longitude: Periodic λ ∈ [-180.0, 180.0) regularly spaced with Δλ=0.25\n",
      "├── latitude:  Bounded  φ ∈ [-75.0, 75.0]   regularly spaced with Δφ=0.25\n",
      "└── z:         Bounded  z ∈ [0.0, 1.0]      regularly spaced with Δz=1.0\n",
      "U = 1440×600×1 Field{Face, Center, Center} on ImmersedBoundaryGrid on CPU\n",
      "├── grid: 1440×600×1 ImmersedBoundaryGrid{Float64, Periodic, Bounded, Bounded} on CPU with 4×4×4 halo\n",
      "├── boundary conditions: FieldBoundaryConditions\n",
      "│   └── west: Periodic, east: Periodic, south: ZeroFlux, north: ZeroFlux, bottom: ZeroFlux, top: ZeroFlux, immersed: ZeroFlux\n",
      "└── data: 1448×608×9 OffsetArray(::Array{Float64, 3}, -3:1444, -3:604, -3:5) with eltype Float64 with indices -3:1444×-3:604×-3:5\n",
      "    └── max=1.48892, min=-1.8952, mean=0.0160354\n",
      "V = 1440×601×1 Field{Center, Face, Center} on ImmersedBoundaryGrid on CPU\n",
      "├── grid: 1440×600×1 ImmersedBoundaryGrid{Float64, Periodic, Bounded, Bounded} on CPU with 4×4×4 halo\n",
      "├── boundary conditions: FieldBoundaryConditions\n",
      "│   └── west: Periodic, east: Periodic, south: Nothing, north: Nothing, bottom: ZeroFlux, top: ZeroFlux, immersed: ZeroFlux\n",
      "└── data: 1448×609×9 OffsetArray(::Array{Float64, 3}, -3:1444, -3:605, -3:5) with eltype Float64 with indices -3:1444×-3:605×-3:5\n",
      "    └── max=2.11723, min=-1.68651, mean=0.00532223\n"
     ]
    }
   ],
   "source": [
    "include(\"module_03.jl\")\n",
    "\n",
    "@show grid;\n",
    "@show U;\n",
    "@show V;"
   ]
  },
  {
   "cell_type": "markdown",
   "metadata": {},
   "source": [
    "### Defining particle initial positions\n",
    "\n",
    "We want to "
   ]
  },
  {
   "cell_type": "code",
   "execution_count": 44,
   "metadata": {},
   "outputs": [],
   "source": [
    "λ₀ = -76.0\n",
    "φ₀ = 35.0\n",
    "\n",
    "degree_spread_λ = 5.0\n",
    "degree_spread_φ = 5.0\n",
    "\n",
    "n_particles = 50\n",
    "\n",
    "λₚ = λ₀ .+ degree_spread_λ .* (rand(n_particles) .- 0.5);\n",
    "φₚ = φ₀ .+ degree_spread_φ .* (rand(n_particles) .- 0.5);\n",
    "\n",
    "zₚ = 0.5 .* ones(n_particles);"
   ]
  },
  {
   "cell_type": "markdown",
   "metadata": {},
   "source": [
    "### Particle in Oceananigans"
   ]
  },
  {
   "cell_type": "code",
   "execution_count": 45,
   "metadata": {},
   "outputs": [
    {
     "data": {
      "text/plain": [
       "50 LagrangianParticles with eltype Particle:\n",
       "├── 3 properties: (:x, :y, :z)\n",
       "├── particle-wall restitution coefficient: 1.0\n",
       "├── 0 tracked fields: ()\n",
       "└── dynamics: no_dynamics"
      ]
     },
     "execution_count": 45,
     "metadata": {},
     "output_type": "execute_result"
    }
   ],
   "source": [
    "lagrangian_particles = LagrangianParticles(x=λₚ, y=φₚ, z=zₚ)"
   ]
  },
  {
   "cell_type": "markdown",
   "metadata": {},
   "source": [
    "### Last building blocks: Model and Simulation\n",
    "\n",
    "A model in Oceananigans includes all the physical phenomena we want to represent. <br>\n",
    "\n",
    "In our case we only want to have particles transported by the velocity fields we previously defined.\n"
   ]
  },
  {
   "cell_type": "code",
   "execution_count": 46,
   "metadata": {},
   "outputs": [
    {
     "data": {
      "text/plain": [
       "HydrostaticFreeSurfaceModel{CPU, ImmersedBoundaryGrid}(time = 0 seconds, iteration = 0)\n",
       "├── grid: 1440×600×1 ImmersedBoundaryGrid{Float64, Periodic, Bounded, Bounded} on CPU with 4×4×4 halo\n",
       "├── timestepper: QuasiAdamsBashforth2TimeStepper\n",
       "├── tracers: ()\n",
       "├── closure: Nothing\n",
       "├── buoyancy: Nothing\n",
       "├── coriolis: Nothing\n",
       "└── particles: 50 Lagrangian particles with 3 properties: (:x, :y, :z)"
      ]
     },
     "execution_count": 46,
     "metadata": {},
     "output_type": "execute_result"
    }
   ],
   "source": [
    "\n",
    "model = HydrostaticFreeSurfaceModel(grid = grid, velocities = PrescribedVelocityFields(u = U, v = V),\n",
    "                                    coriolis  = nothing,\n",
    "                                    buoyancy  = nothing,\n",
    "                                    closure   = nothing,\n",
    "                                    tracers   = (),\n",
    "                                    particles = lagrangian_particles)"
   ]
  },
  {
   "cell_type": "markdown",
   "metadata": {},
   "source": [
    "### Defining a simulation\n",
    "\n",
    "The last step before running a model is to define a Simulation. <br>\n",
    "A Simulation in Oceananigans specifies all the technical details of the simulation:\n",
    "- What is the time step?\n",
    "- When are we stopping the simulation?\n",
    "- What data do we want to collect?"
   ]
  },
  {
   "cell_type": "code",
   "execution_count": 47,
   "metadata": {},
   "outputs": [
    {
     "name": "stdout",
     "output_type": "stream",
     "text": [
      "simulation = Simulation(model, Δt = Δt, stop_time = 10years) = Simulation of HydrostaticFreeSurfaceModel{CPU, ImmersedBoundaryGrid}(time = 0 seconds, iteration = 0)\n",
      "├── Next time step: 6 hours\n",
      "├── Elapsed wall time: 0 seconds\n",
      "├── Wall time per iteration: NaN years\n",
      "├── Stop time: 10 years\n",
      "├── Stop iteration : Inf\n",
      "├── Wall time limit: Inf\n",
      "├── Callbacks: OrderedDict with 4 entries:\n",
      "│   ├── stop_time_exceeded => Callback of stop_time_exceeded on IterationInterval(1)\n",
      "│   ├── stop_iteration_exceeded => Callback of stop_iteration_exceeded on IterationInterval(1)\n",
      "│   ├── wall_time_limit_exceeded => Callback of wall_time_limit_exceeded on IterationInterval(1)\n",
      "│   └── nan_checker => Callback of NaNChecker for u on IterationInterval(100)\n",
      "├── Output writers: OrderedDict with no entries\n",
      "└── Diagnostics: OrderedDict with no entries\n"
     ]
    }
   ],
   "source": [
    "Δt = 6hours\n",
    "\n",
    "@show simulation = Simulation(model, Δt = Δt, stop_time = 10years)\n",
    "\n",
    "start_time = [time_ns()]\n",
    "\n",
    "simulation.callbacks[:progress] = Callback(progress, IterationInterval(500));\n",
    "save_interval = 10days;\n",
    "\n",
    "simulation.output_writers[:surface_fields] = JLD2OutputWriter(model,  (; u = model.velocities.u, v = model.velocities.v, particles=model.particles,),\n",
    "                            schedule = TimeInterval(save_interval),\n",
    "                            filename = \"output_particles\",\n",
    "                            overwrite_existing = true);\n"
   ]
  },
  {
   "cell_type": "markdown",
   "metadata": {},
   "source": [
    "### Let's run our first simulation!\n",
    "\n",
    "Every ingredient is complete, let's run!"
   ]
  },
  {
   "cell_type": "code",
   "execution_count": 48,
   "metadata": {},
   "outputs": [
    {
     "name": "stderr",
     "output_type": "stream",
     "text": [
      "┌ Info: Initializing simulation...\n",
      "└ @ Oceananigans.Simulations /Users/simonesilvestri/.julia/packages/Oceananigans/qvnQL/src/Simulations/run.jl:167\n",
      "┌ Info: Time:    0 seconds, iteration: 0, wall time: 1.062 seconds\n",
      "└ @ Main /Users/simonesilvestri/development/coessing2022-hub/julia-ocean-model/module_03.jl:12\n",
      "┌ Info:     ... simulation initialization complete (135.193 ms)\n",
      "└ @ Oceananigans.Simulations /Users/simonesilvestri/.julia/packages/Oceananigans/qvnQL/src/Simulations/run.jl:202\n",
      "┌ Info: Executing initial time step...\n",
      "└ @ Oceananigans.Simulations /Users/simonesilvestri/.julia/packages/Oceananigans/qvnQL/src/Simulations/run.jl:112\n",
      "┌ Info:     ... initial time step complete (968.750 μs).\n",
      "└ @ Oceananigans.Simulations /Users/simonesilvestri/.julia/packages/Oceananigans/qvnQL/src/Simulations/run.jl:119\n",
      "┌ Info: Time:     125 days, iteration: 500, wall time: 907.915 ms\n",
      "└ @ Main /Users/simonesilvestri/development/coessing2022-hub/julia-ocean-model/module_03.jl:12\n",
      "┌ Info: Time:     250 days, iteration: 1000, wall time: 557.089 ms\n",
      "└ @ Main /Users/simonesilvestri/development/coessing2022-hub/julia-ocean-model/module_03.jl:12\n",
      "┌ Info: Time:  1.027 years, iteration: 1500, wall time: 519.491 ms\n",
      "└ @ Main /Users/simonesilvestri/development/coessing2022-hub/julia-ocean-model/module_03.jl:12\n",
      "┌ Info: Time:  1.370 years, iteration: 2000, wall time: 944.022 ms\n",
      "└ @ Main /Users/simonesilvestri/development/coessing2022-hub/julia-ocean-model/module_03.jl:12\n",
      "┌ Info: Time:  1.712 years, iteration: 2500, wall time: 247.665 ms\n",
      "└ @ Main /Users/simonesilvestri/development/coessing2022-hub/julia-ocean-model/module_03.jl:12\n",
      "┌ Info: Time:  2.055 years, iteration: 3000, wall time: 228.087 ms\n",
      "└ @ Main /Users/simonesilvestri/development/coessing2022-hub/julia-ocean-model/module_03.jl:12\n",
      "┌ Info: Time:  2.397 years, iteration: 3500, wall time: 285.639 ms\n",
      "└ @ Main /Users/simonesilvestri/development/coessing2022-hub/julia-ocean-model/module_03.jl:12\n",
      "┌ Info: Time:  2.740 years, iteration: 4000, wall time: 351.086 ms\n",
      "└ @ Main /Users/simonesilvestri/development/coessing2022-hub/julia-ocean-model/module_03.jl:12\n",
      "┌ Info: Time:  3.082 years, iteration: 4500, wall time: 261.918 ms\n",
      "└ @ Main /Users/simonesilvestri/development/coessing2022-hub/julia-ocean-model/module_03.jl:12\n",
      "┌ Info: Time:  3.425 years, iteration: 5000, wall time: 273.030 ms\n",
      "└ @ Main /Users/simonesilvestri/development/coessing2022-hub/julia-ocean-model/module_03.jl:12\n",
      "┌ Info: Time:  3.767 years, iteration: 5500, wall time: 268.405 ms\n",
      "└ @ Main /Users/simonesilvestri/development/coessing2022-hub/julia-ocean-model/module_03.jl:12\n",
      "┌ Info: Time:  4.110 years, iteration: 6000, wall time: 313.932 ms\n",
      "└ @ Main /Users/simonesilvestri/development/coessing2022-hub/julia-ocean-model/module_03.jl:12\n",
      "┌ Info: Time:  4.452 years, iteration: 6500, wall time: 355.688 ms\n",
      "└ @ Main /Users/simonesilvestri/development/coessing2022-hub/julia-ocean-model/module_03.jl:12\n",
      "┌ Info: Time:  4.795 years, iteration: 7000, wall time: 252.035 ms\n",
      "└ @ Main /Users/simonesilvestri/development/coessing2022-hub/julia-ocean-model/module_03.jl:12\n",
      "┌ Info: Time:  5.137 years, iteration: 7500, wall time: 258.200 ms\n",
      "└ @ Main /Users/simonesilvestri/development/coessing2022-hub/julia-ocean-model/module_03.jl:12\n",
      "┌ Info: Time:  5.479 years, iteration: 8000, wall time: 247.838 ms\n",
      "└ @ Main /Users/simonesilvestri/development/coessing2022-hub/julia-ocean-model/module_03.jl:12\n",
      "┌ Info: Time:  5.822 years, iteration: 8500, wall time: 275.261 ms\n",
      "└ @ Main /Users/simonesilvestri/development/coessing2022-hub/julia-ocean-model/module_03.jl:12\n",
      "┌ Info: Time:  6.164 years, iteration: 9000, wall time: 295.608 ms\n",
      "└ @ Main /Users/simonesilvestri/development/coessing2022-hub/julia-ocean-model/module_03.jl:12\n",
      "┌ Info: Time:  6.507 years, iteration: 9500, wall time: 294.030 ms\n",
      "└ @ Main /Users/simonesilvestri/development/coessing2022-hub/julia-ocean-model/module_03.jl:12\n",
      "┌ Info: Time:  6.849 years, iteration: 10000, wall time: 260.161 ms\n",
      "└ @ Main /Users/simonesilvestri/development/coessing2022-hub/julia-ocean-model/module_03.jl:12\n",
      "┌ Info: Time:  7.192 years, iteration: 10500, wall time: 271.139 ms\n",
      "└ @ Main /Users/simonesilvestri/development/coessing2022-hub/julia-ocean-model/module_03.jl:12\n",
      "┌ Info: Time:  7.534 years, iteration: 11000, wall time: 255.455 ms\n",
      "└ @ Main /Users/simonesilvestri/development/coessing2022-hub/julia-ocean-model/module_03.jl:12\n",
      "┌ Info: Time:  7.877 years, iteration: 11500, wall time: 319.438 ms\n",
      "└ @ Main /Users/simonesilvestri/development/coessing2022-hub/julia-ocean-model/module_03.jl:12\n",
      "┌ Info: Time:  8.219 years, iteration: 12000, wall time: 262.227 ms\n",
      "└ @ Main /Users/simonesilvestri/development/coessing2022-hub/julia-ocean-model/module_03.jl:12\n",
      "┌ Info: Time:  8.562 years, iteration: 12500, wall time: 287.778 ms\n",
      "└ @ Main /Users/simonesilvestri/development/coessing2022-hub/julia-ocean-model/module_03.jl:12\n",
      "┌ Info: Time:  8.904 years, iteration: 13000, wall time: 274.990 ms\n",
      "└ @ Main /Users/simonesilvestri/development/coessing2022-hub/julia-ocean-model/module_03.jl:12\n",
      "┌ Info: Time:  9.247 years, iteration: 13500, wall time: 309.847 ms\n",
      "└ @ Main /Users/simonesilvestri/development/coessing2022-hub/julia-ocean-model/module_03.jl:12\n",
      "┌ Info: Time:  9.589 years, iteration: 14000, wall time: 323.508 ms\n",
      "└ @ Main /Users/simonesilvestri/development/coessing2022-hub/julia-ocean-model/module_03.jl:12\n",
      "┌ Info: Time:  9.932 years, iteration: 14500, wall time: 331.441 ms\n",
      "└ @ Main /Users/simonesilvestri/development/coessing2022-hub/julia-ocean-model/module_03.jl:12\n",
      "┌ Info: Simulation is stopping. Model time 10 years has hit or exceeded simulation stop time 10 years.\n",
      "└ @ Oceananigans.Simulations /Users/simonesilvestri/.julia/packages/Oceananigans/qvnQL/src/Simulations/simulation.jl:167\n"
     ]
    }
   ],
   "source": [
    "# Let's goo!\n",
    "run!(simulation)"
   ]
  },
  {
   "cell_type": "markdown",
   "metadata": {},
   "source": [
    "### Visualize the output\n",
    "\n",
    "I have already defined a visualization function for the output in \"visualize_particles.jl\". <br>\n",
    "(If you want to take a look, go ahead and ask if there are questions)"
   ]
  },
  {
   "cell_type": "code",
   "execution_count": null,
   "metadata": {},
   "outputs": [],
   "source": [
    "include(\"visualize_particles.jl\")\n",
    "visualize_results(\"output_particles\")"
   ]
  },
  {
   "cell_type": "code",
   "execution_count": null,
   "metadata": {},
   "outputs": [],
   "source": [
    "display_mp4(\"output_particles.mp4\")"
   ]
  },
  {
   "cell_type": "markdown",
   "metadata": {},
   "source": [
    "# Try it yourself!\n",
    "\n",
    "Try changing the particle parameters and see where the particles end up\n",
    "- initial position \n",
    "- spread\n",
    "- number of particles\n",
    "\n",
    "You should see particles accumulate in regions of \"convergence\"  <br>\n",
    "Some interesting positions to try are:\n",
    "\n",
    "***Southern Ocean*** <br>\n",
    "λ₀, φ₀ = -120.0, -60.0\n",
    "\n",
    "***Equatorial Pacific Ocean*** <br>\n",
    "λ₀, φ₀ = -160.0, 0.0\n",
    "\n",
    "***West Africa Coast*** <br>\n",
    "λ₀, φ₀ = 55.2, 8.3\n",
    "\n",
    "***Gulf stream (north Atlantic)*** <br>\n",
    "λ₀, φ₀ = -76.0, 30.65"
   ]
  },
  {
   "cell_type": "code",
   "execution_count": null,
   "metadata": {},
   "outputs": [],
   "source": []
  }
 ],
 "metadata": {
  "kernelspec": {
   "display_name": "Julia 1.7.3",
   "language": "julia",
   "name": "julia-1.7"
  },
  "language_info": {
   "file_extension": ".jl",
   "mimetype": "application/julia",
   "name": "julia",
   "version": "1.7.3"
  }
 },
 "nbformat": 4,
 "nbformat_minor": 4
}
