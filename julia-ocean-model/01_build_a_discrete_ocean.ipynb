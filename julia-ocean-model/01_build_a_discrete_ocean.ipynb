{
 "cells": [
  {
   "cell_type": "markdown",
   "metadata": {
    "tags": []
   },
   "source": [
    "# Building an Ocean model\n",
    "\n",
    "The objective: understand the basics behind a simple particle tracking simulation using Oceananigans.jl\n",
    "\n",
    "## What is Oceananigans.jl?\n",
    "\n",
    "***Oceananigans.jl*** is an ocean modeling library built in the Julia programming language. <br>\n",
    "Oceananigans is designed to be user-friendly and flexible and is capable of performing all types of <br>\n",
    "simulations, from _small-scale_ \"isotropic\" simulations to _large-scale_ realistic oceans! <br>\n",
    "\n",
    "In this lab, you will learn the syntax of Oceananigans.jl and bits of ***Julia*** (data structures, load data, plotting) <br>\n",
    "mainly in the context of the Oceananigans package. You will learn how to set <br>\n",
    "up and run a simple simulation with Oceananigans.\n",
    "\n",
    "We will go through all the Oceananigans' building blocks (if time allows it!):\n",
    "1) Grids (this module)<br>\n",
    "2) Fields (this module)<br>\n",
    "3) Models (module 2)<br>\n",
    "4) Simulation (module 2)<br>\n",
    "\n",
    "If you are interested in learning more about Julia and Oceananigans or contributing get in touch wither through <br>\n",
    "email or on the Oceananigans web page!"
   ]
  },
  {
   "cell_type": "markdown",
   "metadata": {},
   "source": [
    "# Install a package, load and visualize data"
   ]
  },
  {
   "cell_type": "markdown",
   "metadata": {},
   "source": [
    "## Packages in julia\n",
    "\n",
    "Like Python, also Julia relies on a package system. <br>\n",
    "\n",
    "Julia provides an in-build package manager to simplify adding and loading packages. <br>\n",
    "For example, to install the package \"Downloads\" (https://github.com/JuliaLang/Downloads.jl) it is sufficient to run `Pkg.add(\"Downloads\")`. <br>\n",
    "Once installed, we can use the package through `using Downloads`"
   ]
  },
  {
   "cell_type": "code",
   "execution_count": null,
   "metadata": {},
   "outputs": [],
   "source": [
    "using Pkg\n",
    "Pkg.add(\"Downloads\")\n",
    "using Downloads"
   ]
  },
  {
   "cell_type": "markdown",
   "metadata": {},
   "source": [
    "Oceananigans is already installed on the hub, so it is not \n",
    "necessary to `Pkg.add(\"Oceananigans\")`. \n",
    "\n",
    "We can use Oceananigans with"
   ]
  },
  {
   "cell_type": "code",
   "execution_count": null,
   "metadata": {},
   "outputs": [],
   "source": [
    "# Pkg.add(\"Oceananigans\")\n",
    "using Oceananigans"
   ]
  },
  {
   "cell_type": "markdown",
   "metadata": {},
   "source": [
    "### First step: load a bathymetry file\n",
    "\n",
    "The ocean exists in a complex domain: it has a variable seabed height and is bounded by continents and islands. <br> \n",
    "All this information is visualized through a _bathymetry_ map. <br>\n",
    "The term \"bathymetry\" refers to the ocean's depth relative to sea level. <br>\n",
    "In the same way, a _topographic_ map describes the elevation of the terrain, a _bathymetric_ map illustrates the land that lies underwater. \n",
    "\n",
    "The bathymetry will define the domain in which we set up the ocean model. <br>\n",
    "\n",
    "A dataset containing the bathymetric information can be in ***../../shared/bathymetry.jld2***\n"
   ]
  },
  {
   "cell_type": "markdown",
   "metadata": {},
   "source": [
    "#### JLD2 filetype\n",
    "\n",
    "Note that the file has the `*.jld2` extension. <br>\n",
    "This is a Julia filetype which is exactly the same as `*.hdf5` in python https://www.geeksforgeeks.org/hdf5-files-in-python/ <br>\n",
    "We can open this type of files with the `JLD2` package using the `jldopen` function"
   ]
  },
  {
   "cell_type": "code",
   "execution_count": null,
   "metadata": {},
   "outputs": [],
   "source": [
    "using JLD2\n",
    "\n",
    "file_path = \"../../shared/bathymetry.jld2\"\n",
    "file_bathymetry = jldopen(file_path)"
   ]
  },
  {
   "cell_type": "markdown",
   "metadata": {},
   "source": [
    "A _JLDFile_ is a `Dictionary`, a collection of datasets that can be accessed using _strings_ as keys <br>\n",
    "(akin to how Dictionaries work in python). <br>\n",
    "The bathymetry can be accessed with the \"bathymetry\" key."
   ]
  },
  {
   "cell_type": "code",
   "execution_count": null,
   "metadata": {},
   "outputs": [],
   "source": [
    "bathymetry = file_bathymetry[\"bathymetry\"]"
   ]
  },
  {
   "cell_type": "code",
   "execution_count": null,
   "metadata": {},
   "outputs": [],
   "source": [
    "typeof(bathymetry)"
   ]
  },
  {
   "cell_type": "markdown",
   "metadata": {},
   "source": [
    "The bathymetric map is a `Matrix` (an alias for a two-dimensional array `Array`) <br>\n",
    "of size 1440x600. You can think of these numbers as the _resolution_ (number of pixel) of the map. <br>"
   ]
  },
  {
   "cell_type": "markdown",
   "metadata": {},
   "source": [
    "### Plotting 2D data\n",
    "\n",
    "Let us plot the bathymetry and visualize underwater elevation <br>\n",
    "Plotting in Julia can be done through the package `CairoMakie` <br>\n",
    "\n",
    "The steps for plotting in CairoMakie are:\n",
    "- define a figure as `fig = Figure()`. A resolution can be specified. It is possible to index the figure as a matrix\n",
    "- specify an axis in the figure `ax = Axis(fig[1, 1])` (1, 1 stands for position 1, 1 in the figure layout)\n",
    "- plot something inside the axis (using `ax` as an argument)\n",
    "\n",
    "Since we will work with simulations of the ocean surface (two-dimensional), <br>\n",
    "we can use the `heatmap!` function, which plots matrices (`contour!` could have been another choice). <br>\n",
    "In a heatmap, the `colorrange` keyword specifies the contour limits. <br>\n",
    "The colormap is chosen with the `colormap` keyword (choice of different colormaps, :balance, :hot, :viridis, :plasma, etc...)"
   ]
  },
  {
   "cell_type": "code",
   "execution_count": null,
   "metadata": {},
   "outputs": [],
   "source": [
    "using CairoMakie\n",
    "\n",
    "fig = Figure(resolution = (1000, 500))\n",
    "ax  = Axis(fig[1, 1])\n",
    "\n",
    "heatmap!(ax, bathymetry, colorrange = (-5500, 100), colormap = :terrain)\n",
    "\n",
    "current_figure()"
   ]
  },
  {
   "cell_type": "markdown",
   "metadata": {},
   "source": [
    "# Build a computational Grid"
   ]
  },
  {
   "cell_type": "markdown",
   "metadata": {},
   "source": [
    "The fluid in the ocean is _continuous_, but a computer can only operate on _discrete_ quantities (vectors, arrays, matrices). <br>\n",
    "To _represent_ a continuous fluid on a computer, we need to _discretize_ our geometry into \"computational cells\".\n",
    "The entirety of all the computational cells and their arrangement form a ***grid*** (or a ***mesh***).\n",
    "\n",
    "Grids are the backbone of ***all*** fluid flow simulations: constructing an adequate grid goes a long way in ensuring a good quality model.\n",
    "\n",
    "If we want to discretize the ocean, we need a sphere! <br>\n",
    "Oceananigans allows to construct a spherical grid with the `LatitudeLongitudeGrid` constructor.\n",
    "\n",
    "Let us choose the number of points in the latitude and longitude direction (`Nlat` and `Nlon`) and construct the grid <br>\n",
    "We will simulate the transport over the ocean surface, so we do not need a \"vertical\" direction. <br>\n",
    "The size of the grid will, hence, be `(Nlat, Nlon, 1)`"
   ]
  },
  {
   "cell_type": "code",
   "execution_count": null,
   "metadata": {},
   "outputs": [],
   "source": [
    "Nlon = 360\n",
    "Nlat = 150\n",
    "\n",
    "initial_grid = LatitudeLongitudeGrid(size = (Nlon, Nlat, 1), longitude = (-180, 180), latitude = (-75, 75), z = (0, 1))"
   ]
  },
  {
   "cell_type": "markdown",
   "metadata": {},
   "source": [
    "`initial_grid` is a _structure_, i.e., it is a variable which contains \n",
    "Take a second to look at the pieces of information contained in this grid <br>\n",
    "\n",
    "At the moment, this grid is just a spherical shell. <br>\n",
    "To convert it into a realistic representation of the ocean, we have to load in the bathymetric map <br>\n",
    "\n",
    "some convenience functions to interpolate our domain (the bathymetric map) onto the grid <br> are implemented in the file \"useful_functions.jl\" (within the folder \"utils\")\n",
    "\n",
    "In Julia we can load source files `(*.jl)` through the function `include`. <br>\n",
    "Including a source file will load all the functions defined in it.<br>\n",
    "(you are welcome to look at the functions defined in \"utils/useful_functions.jl\")"
   ]
  },
  {
   "cell_type": "code",
   "execution_count": null,
   "metadata": {},
   "outputs": [],
   "source": [
    "include(\"utils/useful_functions.jl\")\n",
    "\n",
    "grid = immersed_boundary_grid(initial_grid, bathymetry)"
   ]
  },
  {
   "cell_type": "markdown",
   "metadata": {},
   "source": [
    "You can use the `visualize_cartesian_grid` function (defined in \"useful_functions.jl\") to plot the grid. <br> \n",
    "It uses the `CairoMakie` package to visualize a wireframe of the computational cells and a \n",
    "heatmap of the discrete continental mask."
   ]
  },
  {
   "cell_type": "code",
   "execution_count": null,
   "metadata": {},
   "outputs": [],
   "source": [
    "fig = visualize_cartesian_grid(grid)\n",
    "current_figure()"
   ]
  },
  {
   "cell_type": "markdown",
   "metadata": {},
   "source": [
    "Think about the cells in a grid as the \"pixels\" of an image; A larger number of pixels allow us to see more detailed images. <br>\n",
    "The same happens in an ocean simulation; a larger number of cells (pixels) in a grid, <br>\n",
    "allows us to \"resolve\" more detailed physics."
   ]
  },
  {
   "cell_type": "markdown",
   "metadata": {},
   "source": [
    "## Exercise: change the grid resolution\n",
    "\n",
    "try changing the number of points in the longitudinal (`Nlat`) and the latitudinal (`Nlon`) direction, <br>\n",
    "and see how the representation of the continents changes.\n",
    "\n",
    "It is also possible to change the latitude and longitude of the domain to \"zoom in\" in particular regions <br>\n",
    "For example, try `latitude = (-35, 30)` and `latitude = (-30, 30)` to zoom into west africa's coast\n",
    "\n",
    "#### Note!\n",
    "the bathymetry data has a size of (1440 x 600), so the maximum resolution allowable is `Nx = 1440`, `Ny = 600`"
   ]
  },
  {
   "cell_type": "code",
   "execution_count": null,
   "metadata": {},
   "outputs": [],
   "source": [
    "## Write the new grid here\n",
    "## look at the examples above:\n",
    "\n",
    "# - define Nlon and Nlat\n",
    "# - build an initial_grid (choose latitude = (ᵒwest, ᵒeast), longitude = (ᵒsouth, ᵒnorth))\n",
    "# - build the grid with the immersed_boundary_grid function\n",
    "# - visualize with the visualize_figure function\n",
    "# - display the figure with current_figure()"
   ]
  },
  {
   "cell_type": "markdown",
   "metadata": {},
   "source": [
    "# Load and interact with a velocity field"
   ]
  },
  {
   "cell_type": "markdown",
   "metadata": {},
   "source": [
    "### Load velocity datasets\n",
    "\n",
    "To load the (precomputed) velocity datasets, we again use the `JLD2` package."
   ]
  },
  {
   "cell_type": "code",
   "execution_count": null,
   "metadata": {},
   "outputs": [],
   "source": [
    "file_velocities = jldopen(\"../../shared/prescribed_mean_fields.jld2\")"
   ]
  },
  {
   "cell_type": "markdown",
   "metadata": {},
   "source": [
    "This file is a Dictionary containing two datasets:\n",
    "- um\n",
    "- vm \n",
    "\n",
    "Here `um` is the _zonal_ surface velocity (the surface velocity in the West-East direction) <br>\n",
    "and `vm` is the _meridional_ surface velocity (the surface velocity in the South-North direction, along meridians). <br>\n",
    " \n",
    "These datasets contain the velocities ***averaged*** over a period of 10 years. <br>\n",
    "Let us assign these datasets to two variables and look at their structure."
   ]
  },
  {
   "cell_type": "code",
   "execution_count": null,
   "metadata": {},
   "outputs": [],
   "source": [
    "const Um = file_velocities[\"um\"]\n",
    "const Vm = file_velocities[\"vm\"]"
   ]
  },
  {
   "cell_type": "code",
   "execution_count": null,
   "metadata": {},
   "outputs": [],
   "source": [
    "typeof(Um)"
   ]
  },
  {
   "cell_type": "code",
   "execution_count": null,
   "metadata": {},
   "outputs": [],
   "source": [
    "typeof(Vm)"
   ]
  },
  {
   "cell_type": "markdown",
   "metadata": {},
   "source": [
    "Note that both the Arrays (`Um` and `Vm`) are ***3D*** arrays! Oceananigans handles always three-dimensional data for simplicity, <br>\n",
    "a two-dimensional dataset (as in this case) is represented by a 3D array with ***one*** point in the unused direction\n",
    "\n",
    "Let us plot the zonal velocity with `CairoMakie`. <br>\n",
    "Since `Um` is a 3D array, we can plot it as `Um[:, :, 1]` (heatmap plots only 2D arrays)"
   ]
  },
  {
   "cell_type": "code",
   "execution_count": null,
   "metadata": {},
   "outputs": [],
   "source": [
    "# Mean zonal velocity\n",
    "u = Um[:, :, 1]\n",
    "\n",
    "fig = Figure(resolution = (1000, 500))\n",
    "ax  = Axis(fig[1, 1])\n",
    "heatmap!(ax, u, colorrange = (-0.2, 0.2), colormap = :viridis)\n",
    "current_figure()"
   ]
  },
  {
   "cell_type": "markdown",
   "metadata": {},
   "source": [
    "Let us plot the meridional velocity (along latitude lines) in the same way"
   ]
  },
  {
   "cell_type": "code",
   "execution_count": null,
   "metadata": {},
   "outputs": [],
   "source": [
    "# Mean meridional velocity\n",
    "v = Vm[:, :, 1]\n",
    "\n",
    "fig = Figure(resolution = (1000, 500))\n",
    "ax  = Axis(fig[1, 1])\n",
    "heatmap!(ax, v, colorrange = (-0.1, 0.1), colormap = :viridis)\n",
    "current_figure()"
   ]
  },
  {
   "cell_type": "markdown",
   "metadata": {},
   "source": [
    "### Oceananigans' `Field` type\n",
    "\n",
    "Oceananigans represents variables discretized onto a particular grid with a `Field` type. <br> \n",
    "Fields are essentially containers that include the grid, the data allocated on the grid (the previously seen 3D arrays), <br>\n",
    "and the associated boundary conditions.\n",
    "\n",
    "We can define empty fields (i.e., empty containers associated with a grid) for our velocities and fill them with the velocity data we loaded.\n",
    "\n",
    "The function `VelocityFields` returns three `Field`s (for U, V and W velocity) with data equal to 0 everywhere. <br> \n",
    "We can use this function to initiate the velocities and fill them with the data we loaded. <br>\n",
    "(Note that the W velocity is zero as the simulation will be 2D)"
   ]
  },
  {
   "cell_type": "code",
   "execution_count": null,
   "metadata": {},
   "outputs": [],
   "source": [
    "U, V, W = VelocityFields(grid)\n",
    "\n",
    "set_velocity_from_array!(U, Um)\n",
    "set_velocity_from_array!(V, Vm)"
   ]
  },
  {
   "cell_type": "markdown",
   "metadata": {},
   "source": [
    "### Combining fields\n",
    "\n",
    "Fields are handy because they can be combined through expressions. <br>\n",
    "as an example, let us calculate the mean kinetic energy at the surface defined as\n",
    "\n",
    "$$K = 0.5 * (U^2 + V^2)$$\n",
    "\n",
    "To do that we can define an operation, through usual operators (`+`, `-`, `*`, `/`, `^` and so on...)\n",
    "and wrap it in a `Field`. This will associate the field with the operation.\n",
    "\n",
    "We then compute the operation with the `compute!` function"
   ]
  },
  {
   "cell_type": "code",
   "execution_count": null,
   "metadata": {},
   "outputs": [],
   "source": [
    "operation_to_calculate = 0.5 * (U^2 + V^2)\n",
    "\n",
    "K = Field(operation_to_calculate)\n",
    "\n",
    "compute!(K)"
   ]
  },
  {
   "cell_type": "markdown",
   "metadata": {},
   "source": [
    "We can plot kinetic energy with `CairoMakie` (as has been done before), but only after extracting the data! <br>\n",
    "\n",
    "To access the data associated with an Oceananigans field we use the function `interior`"
   ]
  },
  {
   "cell_type": "code",
   "execution_count": null,
   "metadata": {},
   "outputs": [],
   "source": [
    "k = interior(K)\n",
    "\n",
    "# The data associated with a field is always three dimensional!\n",
    "k"
   ]
  },
  {
   "cell_type": "code",
   "execution_count": null,
   "metadata": {},
   "outputs": [],
   "source": [
    "fig = Figure(resolution = (1000, 500))\n",
    "ax = Axis(fig[1, 1])\n",
    "heatmap!(ax, k[:, :, 1], colorrange = (0, 0.05), colormap = :solar)\n",
    "\n",
    "current_figure()"
   ]
  },
  {
   "cell_type": "markdown",
   "metadata": {},
   "source": [
    "## Exercise: interact with the velocity field\n",
    "\n",
    "Define and plot a new field as a function of `U` and `V`.\n",
    "\n",
    "#### Remember!\n",
    "- `heatmap!` plots 2D AbstractArrays.\n",
    "- The `interior` function retrieves the data associated with a field.\n",
    "- Fields (and associated data) are _always_ three-dimensional.\n",
    "\n",
    "#### Tips\n",
    "- Use the `typeof` and `size` function to confirm that the variable you want to plot is a 2D array (or matrix).\n",
    "- Follow the example above for plotting and use `colorrange = (extrema(field))` and `colormap = :blues`.\n",
    "- Do not forget to display the figure with `current_figure()` at the end of the cell!"
   ]
  },
  {
   "cell_type": "code",
   "execution_count": null,
   "metadata": {},
   "outputs": [],
   "source": [
    "## Write the new field here\n",
    "## look at the examples above:\n",
    "\n",
    "# - define the operation you want to calculate (ex: U + 0.5 * V)\n",
    "# - wrap it around a Field constructor (field = Field(expression))\n",
    "# - compute the field with compute!(field)\n",
    "# - extract the data with data = interior(field)\n",
    "# - display the data with heatmap!"
   ]
  }
 ],
 "metadata": {
  "kernelspec": {
   "display_name": "Julia 1.7.3",
   "language": "julia",
   "name": "julia-1.7"
  },
  "language_info": {
   "file_extension": ".jl",
   "mimetype": "application/julia",
   "name": "julia",
   "version": "1.7.3"
  }
 },
 "nbformat": 4,
 "nbformat_minor": 4
}
