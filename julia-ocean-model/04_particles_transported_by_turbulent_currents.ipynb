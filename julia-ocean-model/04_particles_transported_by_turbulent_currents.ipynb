{
 "cells": [
  {
   "cell_type": "markdown",
   "metadata": {},
   "source": [
    "Let's include the material of the previous module"
   ]
  },
  {
   "cell_type": "code",
   "execution_count": 4,
   "metadata": {},
   "outputs": [
    {
     "name": "stderr",
     "output_type": "stream",
     "text": [
      "\u001b[32m\u001b[1m    Updating\u001b[22m\u001b[39m git-repo `https://github.com/CliMA/Oceananigans.jl`\n"
     ]
    },
    {
     "ename": "LoadError",
     "evalue": "LoadError: package `Oceananigans [9e8cae18]` has same name or UUID as the active project\nin expression starting at /Users/simonesilvestri/global-solution/for-nigeria/lab-nigeria/module_00.jl:2\nin expression starting at /Users/simonesilvestri/global-solution/for-nigeria/lab-nigeria/module_01.jl:3\nin expression starting at /Users/simonesilvestri/global-solution/for-nigeria/lab-nigeria/module_02.jl:5\nin expression starting at /Users/simonesilvestri/global-solution/for-nigeria/lab-nigeria/module_03.jl:1",
     "output_type": "error",
     "traceback": [
      "LoadError: package `Oceananigans [9e8cae18]` has same name or UUID as the active project\nin expression starting at /Users/simonesilvestri/global-solution/for-nigeria/lab-nigeria/module_00.jl:2\nin expression starting at /Users/simonesilvestri/global-solution/for-nigeria/lab-nigeria/module_01.jl:3\nin expression starting at /Users/simonesilvestri/global-solution/for-nigeria/lab-nigeria/module_02.jl:5\nin expression starting at /Users/simonesilvestri/global-solution/for-nigeria/lab-nigeria/module_03.jl:1",
      "",
      "Stacktrace:",
      "  [1] pkgerror(msg::String)",
      "    @ Pkg.Types /Applications/Julia-1.7.app/Contents/Resources/julia/share/julia/stdlib/v1.7/Pkg/src/Types.jl:68",
      "  [2] add(ctx::Pkg.Types.Context, pkgs::Vector{Pkg.Types.PackageSpec}; preserve::Pkg.Types.PreserveLevel, platform::Base.BinaryPlatforms.Platform, kwargs::Base.Pairs{Symbol, IJulia.IJuliaStdio{Base.PipeEndpoint}, Tuple{Symbol}, NamedTuple{(:io,), Tuple{IJulia.IJuliaStdio{Base.PipeEndpoint}}}})",
      "    @ Pkg.API /Applications/Julia-1.7.app/Contents/Resources/julia/share/julia/stdlib/v1.7/Pkg/src/API.jl:261",
      "  [3] add(pkgs::Vector{Pkg.Types.PackageSpec}; io::IJulia.IJuliaStdio{Base.PipeEndpoint}, kwargs::Base.Pairs{Symbol, Union{}, Tuple{}, NamedTuple{(), Tuple{}}})",
      "    @ Pkg.API /Applications/Julia-1.7.app/Contents/Resources/julia/share/julia/stdlib/v1.7/Pkg/src/API.jl:149",
      "  [4] add(pkgs::Vector{Pkg.Types.PackageSpec})",
      "    @ Pkg.API /Applications/Julia-1.7.app/Contents/Resources/julia/share/julia/stdlib/v1.7/Pkg/src/API.jl:144",
      "  [5] #add#26",
      "    @ /Applications/Julia-1.7.app/Contents/Resources/julia/share/julia/stdlib/v1.7/Pkg/src/API.jl:141 [inlined]",
      "  [6] add",
      "    @ /Applications/Julia-1.7.app/Contents/Resources/julia/share/julia/stdlib/v1.7/Pkg/src/API.jl:141 [inlined]",
      "  [7] add(; name::Nothing, uuid::Nothing, version::Nothing, url::String, rev::String, path::Nothing, mode::Pkg.Types.PackageMode, subdir::Nothing, kwargs::Base.Pairs{Symbol, Union{}, Tuple{}, NamedTuple{(), Tuple{}}})",
      "    @ Pkg.API /Applications/Julia-1.7.app/Contents/Resources/julia/share/julia/stdlib/v1.7/Pkg/src/API.jl:166",
      "  [8] top-level scope",
      "    @ ~/global-solution/for-nigeria/lab-nigeria/module_00.jl:2",
      "  [9] include(fname::String)",
      "    @ Base.MainInclude ./client.jl:451",
      " [10] top-level scope",
      "    @ ~/global-solution/for-nigeria/lab-nigeria/module_01.jl:3",
      " [11] include(fname::String)",
      "    @ Base.MainInclude ./client.jl:451",
      " [12] top-level scope",
      "    @ ~/global-solution/for-nigeria/lab-nigeria/module_02.jl:5",
      " [13] include(fname::String)",
      "    @ Base.MainInclude ./client.jl:451",
      " [14] top-level scope",
      "    @ ~/global-solution/for-nigeria/lab-nigeria/module_03.jl:1",
      " [15] include(fname::String)",
      "    @ Base.MainInclude ./client.jl:451",
      " [16] top-level scope",
      "    @ In[4]:1",
      " [17] eval",
      "    @ ./boot.jl:373 [inlined]",
      " [18] include_string(mapexpr::typeof(REPL.softscope), mod::Module, code::String, filename::String)",
      "    @ Base ./loading.jl:1196"
     ]
    }
   ],
   "source": [
    "include(\"module_03.jl\")"
   ]
  },
  {
   "cell_type": "code",
   "execution_count": null,
   "metadata": {},
   "outputs": [],
   "source": []
  },
  {
   "cell_type": "markdown",
   "metadata": {},
   "source": [
    "We set up the model and then we run stuff!!"
   ]
  },
  {
   "cell_type": "code",
   "execution_count": null,
   "metadata": {},
   "outputs": [],
   "source": []
  }
 ],
 "metadata": {
  "kernelspec": {
   "display_name": "Julia 1.7.3",
   "language": "julia",
   "name": "julia-1.7"
  },
  "language_info": {
   "file_extension": ".jl",
   "mimetype": "application/julia",
   "name": "julia",
   "version": "1.7.3"
  }
 },
 "nbformat": 4,
 "nbformat_minor": 4
}
