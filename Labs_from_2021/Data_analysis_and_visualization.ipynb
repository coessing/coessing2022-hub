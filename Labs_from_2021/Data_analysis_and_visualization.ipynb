{
 "cells": [
  {
   "cell_type": "markdown",
   "metadata": {},
   "source": [
    "# Python lab: data analysis and plotting with pandas\n",
    "### By Paige Martin\n",
    "\n",
    "This is meant to be a lab that you can walk yourself through on your own time! Any questions and discussions can be posted to the `#python-2021` channel in Slack!\n",
    "\n",
    "## This python lab will familiarize you with:\n",
    "\n",
    "- Some of the basic python and jupyter notebook functionality\n",
    "- Using the pandas library to analyze text/spreadsheet data\n",
    "- Loading csv (or other text) files\n",
    "- Manipulating data\n",
    "- Using DateTime functionality\n",
    "- Plotting timeseries with matplotlib.pyplot\n",
    "- Various plotting features in pyplot\n",
    "- Typing equations in markdown cells using latex\n",
    "- Optional advanced section: bar charts with confidence intervals\n",
    "\n",
    "### There are 5 challenges scattered throughout this notebook that ask you to try writing your own code snippets, based on the content you go through here (don't worry, there are tips to help you through!). If you're inspired, post any of your challenges to the `#python-2021` channel in Slack! I'd love to see what you've done, and it's a great way to learn from one another!\n",
    "\n",
    "To convert this lab into a pdf, go to the File menu and choose 'Download As...' --> pdf. If this does not work, try first downloading as --> html and then save as a pdf. \n",
    "\n",
    "\n",
    "### In this lab, you will load and plot temperature, air quality, and rainfall data from Canberra, Australia (where Paige lives!)"
   ]
  },
  {
   "cell_type": "markdown",
   "metadata": {},
   "source": [
    "#### A few notes about python usage:\n",
    "\n",
    "- Python indexing of arrays/dataframes is done using square brackets `[ ]` and starts at 0!\n",
    "- Strings, or words, are denoted by quotes in python, and can be either single ' or double \". They are equivalent!\n",
    "- When doing a loop in python, make sure you indent each line that is within the loop!"
   ]
  },
  {
   "cell_type": "markdown",
   "metadata": {},
   "source": [
    "#### First, as always, we write `%maplotlib inline` so that our plots appear within this notebook. Then we load the libraries we want in this lab. See comments for what each individual line does."
   ]
  },
  {
   "cell_type": "code",
   "execution_count": null,
   "metadata": {},
   "outputs": [],
   "source": [
    "# %matplotlib inline # usually don't need this line anymore, but uncomment this if your figures below do not show up\n",
    "\n",
    "import pandas as pd # loads the pandas library\n",
    "import matplotlib.pyplot as plt # loads the plotting library\n",
    "import numpy as np # loads the numerical library\n",
    "import warnings\n",
    "warnings.filterwarnings('ignore') # this and the previous line hide warning messages"
   ]
  },
  {
   "cell_type": "markdown",
   "metadata": {},
   "source": [
    "## Load some temperature data\n",
    "\n",
    "#### We are loading in temperature data from Canberra, Australia! In the previous cell, we abbreviated the pandas library as 'pd'. So when we write `pd.read_csv` that means that we want to use the 'read_csv' file from (denoted by the '.') the pandas library."
   ]
  },
  {
   "cell_type": "code",
   "execution_count": null,
   "metadata": {},
   "outputs": [],
   "source": [
    "T = pd.read_csv('../shared/IDCJAC0010_070351_1800_Data.csv')"
   ]
  },
  {
   "cell_type": "markdown",
   "metadata": {},
   "source": [
    "#### The above cell loads in what's called a pandas dataframe, so we now have temperature data stored as a pandas dataframe named 'T'. To view the dataset that we just loaded, you can just type the name of the dataframe, or `T`. This will print out a lot of lines though, so we often just us `.head()` to print the first 5 lines of the dataset. (Similarly, `.tail()` prints out the last 5 rows!)"
   ]
  },
  {
   "cell_type": "code",
   "execution_count": null,
   "metadata": {},
   "outputs": [],
   "source": [
    "T.head() # print first 5 rows of our dataframe T"
   ]
  },
  {
   "cell_type": "markdown",
   "metadata": {},
   "source": [
    "#### Now we can see the structure of our dataframe! Notice the columns are labeled with different variables, while the rows display different values of these variables. So, the columns are the variables in the dataset!\n",
    "\n",
    "#### Each column in our dataframe appears to be formatted differently. For instance, 'Product code' is a mix of numbers and letters, while 'Year' is just a number. To view the data formats of each row, use  `.dtypes`:"
   ]
  },
  {
   "cell_type": "code",
   "execution_count": null,
   "metadata": {},
   "outputs": [],
   "source": [
    "T.dtypes"
   ]
  },
  {
   "cell_type": "markdown",
   "metadata": {},
   "source": [
    "#### Notice that there are separate columns for Year, Month, and Day. In pandas, there is a specific 'datetime' format which is really handy, but the relevant columns in T are not being interpreted as a \"datetime\" format, but rather as integers ('int64'). Let's change that!\n",
    "\n",
    "#### In the cell below we use the \"to_datetime()\" function from pandas to convert the three columns into a single \"DateTime\" column. Notice how we can create a column simply by calling T 'of' (denoted by the square brackets `[ ]`) and putting the name of our new column in quotes, in this case 'DateTime'."
   ]
  },
  {
   "cell_type": "code",
   "execution_count": null,
   "metadata": {},
   "outputs": [],
   "source": [
    "T['DateTime'] = pd.to_datetime(T[['Year','Month','Day']])"
   ]
  },
  {
   "cell_type": "markdown",
   "metadata": {},
   "source": [
    "#### Let's print the first few rows of the dataframe again. Notice that there has been a new column added at the far right: one called \"DateTime\"!"
   ]
  },
  {
   "cell_type": "code",
   "execution_count": null,
   "metadata": {},
   "outputs": [],
   "source": [
    "T.head()"
   ]
  },
  {
   "cell_type": "markdown",
   "metadata": {},
   "source": [
    "#### Let's once more look at the format of the columns to make sure that our 'DateTime' column is being interpreted correctly."
   ]
  },
  {
   "cell_type": "code",
   "execution_count": null,
   "metadata": {},
   "outputs": [],
   "source": [
    "T.dtypes"
   ]
  },
  {
   "cell_type": "markdown",
   "metadata": {},
   "source": [
    "#### The 'DateTime' column is now listed as a datetime format! ('datetime64[ns]' - the 'ns' is because the time is stored in nanoseconds)\n",
    "\n",
    "#### Take note of the 'NaN' values under \"Maximum temperature (Degree C)\" in T. This means \"Not a Number\", i.e. the value is undefined. This is very common especially in observational data, as every data point in time may not have been recorded properly due to instrument failure, for instance. Pandas and python treat NaNs pretty intuitively (e.g. they are not included in the plots below). But, they can sometimes be a bit of a pain when manipulating data, as we will see a bit later"
   ]
  },
  {
   "cell_type": "markdown",
   "metadata": {},
   "source": [
    "## Plot the temperature data"
   ]
  },
  {
   "cell_type": "markdown",
   "metadata": {},
   "source": [
    "#### Now let's see if we can plot the data! We call upon the pyplot library (that we imported at the start of this notebook) and use the `plot()` function."
   ]
  },
  {
   "cell_type": "code",
   "execution_count": null,
   "metadata": {},
   "outputs": [],
   "source": [
    "plt.plot(T['Maximum temperature (Degree C)'])"
   ]
  },
  {
   "cell_type": "markdown",
   "metadata": {},
   "source": [
    "#### Great, look how easy that was to plot! But, notice that the x-axis is clearly not formatted as a date, so let's fix that. We can pass the \"x\" variable into the plot() function before the temperature data."
   ]
  },
  {
   "cell_type": "code",
   "execution_count": null,
   "metadata": {},
   "outputs": [],
   "source": [
    "plt.plot(T['DateTime'],T['Maximum temperature (Degree C)'])"
   ]
  },
  {
   "cell_type": "markdown",
   "metadata": {},
   "source": [
    "#### Now we better add some labels, and let's make the figure a bit bigger as well."
   ]
  },
  {
   "cell_type": "code",
   "execution_count": null,
   "metadata": {},
   "outputs": [],
   "source": [
    "# Set the figure size to be 12 inches wide and 4 inches tall\n",
    "plt.figure(figsize=(12,4))\n",
    "\n",
    "plt.plot(T['DateTime'],T['Maximum temperature (Degree C)'])\n",
    "\n",
    "# Add plot labels\n",
    "plt.title('Temperature in Canberra, Australia (${}^{\\circ}$C)',fontsize=18) # add title\n",
    "plt.xlabel('Year',fontsize=16) # add xaxis label\n",
    "plt.ylabel('${}^{\\circ}$C',fontsize=16) # add yaxis label"
   ]
  },
  {
   "cell_type": "markdown",
   "metadata": {},
   "source": [
    "#### Notice that the degree symbol (for degree Celsius) was written in latex form. In a Jupyter notebook markdown cell, you can use latex formatting for equations, which is very handy! Latex formatting must be written between dollar signs (`$` or `$$` to center your equations - see below). "
   ]
  },
  {
   "cell_type": "markdown",
   "metadata": {},
   "source": [
    "### Writing out equations using latex\n",
    "\n",
    "#### As a quick aside, let's look at an example of latex. For instance, let's write out the formula for finding the mean of the temperature dataset. The formula is written in the cell below - run the cell to see how latex formatting looks!"
   ]
  },
  {
   "cell_type": "markdown",
   "metadata": {},
   "source": [
    "#### Take the time mean of the temperature data T\n",
    "\n",
    "$$\\text{mean} = \\frac{\\Sigma_i T[i]}{n},$$\n",
    "\n",
    "where $n =$ length of dataset.\n",
    "\n",
    "What this states is that the mean is defined as the sum ($\\Sigma$) over each point in time ($i$) of the temperature value at time i ($T_i$) divided by the length of the timeseries."
   ]
  },
  {
   "cell_type": "markdown",
   "metadata": {},
   "source": [
    "#### Now let's calculate the mean (or average) temperature just for kicks! For this, we can just add the function `.mean()` to the end of the variable we want to take the mean of."
   ]
  },
  {
   "cell_type": "code",
   "execution_count": null,
   "metadata": {},
   "outputs": [],
   "source": [
    "T['Maximum temperature (Degree C)'].mean()"
   ]
  },
  {
   "cell_type": "markdown",
   "metadata": {},
   "source": [
    "### Back to plotting!"
   ]
  },
  {
   "cell_type": "markdown",
   "metadata": {},
   "source": [
    "#### Great, let's get back to our plot. Let's make a few changes to the plot just for fun. Let's:\n",
    "\n",
    "- Trim off the extra x-values that have no data at left and right ends of the plot\n",
    "- Change the color of the plotted timeseries (a list of named colors for pyplot can be found here: https://matplotlib.org/3.1.0/gallery/color/named_colors.html\n",
    "\n",
    "#### I've added comments describing the newly added lines of code in the cell below."
   ]
  },
  {
   "cell_type": "code",
   "execution_count": null,
   "metadata": {},
   "outputs": [],
   "source": [
    "plt.figure(figsize=(12,4))\n",
    "\n",
    "# Add the argument 'color' to the plotting function\n",
    "plt.plot(T['DateTime'],T['Maximum temperature (Degree C)'],color='darkorange')\n",
    "\n",
    "plt.title('Temperature in Canberra, Australia (${}^{\\circ}$C)',fontsize=18)\n",
    "plt.xlabel('Year',fontsize=16)\n",
    "plt.ylabel('${}^{\\circ}$C',fontsize=16)\n",
    "\n",
    "# Align the axes with the first and last values in the timeseries, eliminiating extra white space\n",
    "plt.margins(x=0)"
   ]
  },
  {
   "cell_type": "markdown",
   "metadata": {},
   "source": [
    "### !Challenge #1! It's your turn to do some coding and test your knowledge! --------------------------------\n",
    "Copy and paste the above cell (tip: use the buttons near the top of the window - hover over them to see what they do!) below this one. Switch the color of the data (go to the above website or just try typing a color you know, like 'red'!)."
   ]
  },
  {
   "cell_type": "markdown",
   "metadata": {},
   "source": [
    "#### So, the plot above looks very nice if we are simply interested in looking at how the temperature in Canberra has fluctuated over the last 12 years or so. \n",
    "\n",
    "#### Now let's take a look at the trend in the data. Sometimes, we may want to detrend our data, meaning that we remove a linear fit to the data. This is important if doing, e.g., Fourier analysis. To detrend our data we can use the *scipy.signal* function 'detrend'. First, we have to import the signal library within the scipy package:"
   ]
  },
  {
   "cell_type": "code",
   "execution_count": null,
   "metadata": {},
   "outputs": [],
   "source": [
    "from scipy import signal"
   ]
  },
  {
   "cell_type": "markdown",
   "metadata": {},
   "source": [
    "#### Now let's try to detrend the temperature timeseries... (you should get an error message!)"
   ]
  },
  {
   "cell_type": "code",
   "execution_count": null,
   "metadata": {},
   "outputs": [],
   "source": [
    "T_detrended = signal.detrend(T['Maximum temperature (Degree C)'])"
   ]
  },
  {
   "cell_type": "markdown",
   "metadata": {},
   "source": [
    "#### Oh no!! We got an error message *(tip: the important bit is at the end of the printed message)*. But that's ok, it tells us what went wrong! You should get an error that says something like: *'array must not contain infs or NaNs'*. So it's complaining about our NaN values, as discussed earlier. \n",
    "\n",
    "#### We can use the \"isna()\" (named for \"is NaN?\") function to test what values in a column are NaN."
   ]
  },
  {
   "cell_type": "code",
   "execution_count": null,
   "metadata": {},
   "outputs": [],
   "source": [
    "pd.isna(T['Maximum temperature (Degree C)'])"
   ]
  },
  {
   "cell_type": "markdown",
   "metadata": {},
   "source": [
    "#### That printed out the row number and either True (is a NaN) or False (is a regular number). We can use the isna() function combined with the detrend function to apply a detrending only to the actual numbers, avoiding the NaNs. To do this we will use a logical \"not\", depicted as \"~\" in python. That is, we want to apply detrend to all of the values that are not NaN.\n",
    "\n",
    "#### In order to not overwrite the data, let's copy (using numpy's `copy()` function) the temperature column into a new column of the dataframe, and then detrend this new column. Let's call the column 'T_detrend'."
   ]
  },
  {
   "cell_type": "code",
   "execution_count": null,
   "metadata": {},
   "outputs": [],
   "source": [
    "T['T_detrend'] = np.copy(T['Maximum temperature (Degree C)'])"
   ]
  },
  {
   "cell_type": "code",
   "execution_count": null,
   "metadata": {},
   "outputs": [],
   "source": [
    "T.head()"
   ]
  },
  {
   "cell_type": "markdown",
   "metadata": {},
   "source": [
    "#### Now we apply the detrend function only to the values that are not (~) NaNs (pd.isna())."
   ]
  },
  {
   "cell_type": "code",
   "execution_count": null,
   "metadata": {
    "scrolled": true
   },
   "outputs": [],
   "source": [
    "T['T_detrend'][~(pd.isna(T['T_detrend']))] = signal.detrend(T['T_detrend'][~(pd.isna(T['T_detrend']))])"
   ]
  },
  {
   "cell_type": "markdown",
   "metadata": {},
   "source": [
    "#### (You may have gotten a warning after running the cell above, but you can just ignore that for now!)\n",
    "\n",
    "#### Ok, let's plot both the original temperature timeseries and the detrended timeseries as subplots in the same figure."
   ]
  },
  {
   "cell_type": "code",
   "execution_count": null,
   "metadata": {},
   "outputs": [],
   "source": [
    "plt.figure(figsize=(10,10))\n",
    "\n",
    "# Make subplots with 2 rows and 1 column, with the third number indicating the 1st plot\n",
    "plt.subplot(211) \n",
    "plt.plot(T['DateTime'],T['Maximum temperature (Degree C)'])\n",
    "plt.title('Original timeseries',fontsize=18)\n",
    "\n",
    "# Align the axes with the first and last values in the timeseries, eliminiating extra white space\n",
    "plt.margins(x=0)\n",
    "\n",
    "# Make subplots with 2 rows and 1 column, with the third number indicating the 2nd plot\n",
    "plt.subplot(212)\n",
    "plt.plot(T['DateTime'],T['T_detrend'])\n",
    "plt.title('Detrended timeseries',fontsize=18)\n",
    "\n",
    "# Align the axes with the first and last values in the timeseries, eliminiating extra white space\n",
    "plt.margins(x=0)"
   ]
  },
  {
   "cell_type": "markdown",
   "metadata": {},
   "source": [
    "#### Creating subplots is really handy, especially if you have lots of figures you'd like to show together. When publishing papers in research journals, they usually want you to have one file per figure, so that's a great time to use subplots!\n",
    "\n",
    "#### The two plots look almost identical, but notice the different y-axis scales! \n",
    "\n"
   ]
  },
  {
   "cell_type": "markdown",
   "metadata": {},
   "source": [
    "### !Challenge #2! It's your turn to do some coding and test your knowledge! --------------------------------\n",
    "Plot the two temperature datasets (original and detrended) on the same axes. That is, plot them together on the same figure, but as one plot, not using subplot this time! Remember to add a new cell (click the \"+\" button!) first!\n",
    "\n",
    "Tip: just use the `plt.plot()` function twice within the same figure!\n"
   ]
  },
  {
   "cell_type": "markdown",
   "metadata": {},
   "source": [
    "#### While sometimes you may want to remove a trend from a timeseries, other times you may be interested in the trend! Let's look at just the trend itself to see how temperature has evolved in Canberra over the past 12 years. We do this by subtracting the detrended data from the original."
   ]
  },
  {
   "cell_type": "code",
   "execution_count": null,
   "metadata": {},
   "outputs": [],
   "source": [
    "plt.figure(figsize=(10,5))\n",
    "\n",
    "\n",
    "plt.plot(T['DateTime'],T['Maximum temperature (Degree C)']-T['T_detrend'])\n",
    "plt.title('Temperature trend',fontsize=18)\n",
    "plt.margins(x=0)\n"
   ]
  },
  {
   "cell_type": "markdown",
   "metadata": {},
   "source": [
    "#### The line increases in time - this implies that the average temperature in Canberra has been increasing over the last 12 years! Not too surprising given the predicted climate change impacts on Australia..."
   ]
  },
  {
   "cell_type": "markdown",
   "metadata": {},
   "source": [
    "### !Challenge #3! It's your turn to do some coding and test your knowledge! --------------------------------\n",
    "Plot the original temperature dataset and the trend line on the same axes. This should be very similar to the last challenge! But this time, I want you add a legend by typing `plt.legend()` on the last line of your cell. You will also need to type the following at the end of the plot() function (but still within the parentheses!): `,label='data'` for the temperature data and `,label='trend'` for the trend line.\n",
    "\n",
    "Remember to add a new cell (click the \"+\" button!) first!"
   ]
  },
  {
   "cell_type": "markdown",
   "metadata": {},
   "source": [
    "### !Challenge #4! It's your turn to do some coding and test your knowledge! --------------------------------\n",
    "Now recreate the plot you just made but convert from degrees Celsius to Kelvin. The conversion is T(K) = T(C) + 273.15. Below this cell, add a new markdown cell and write out this equation using latex. Then add a new cell below to create the plot that is in Kelvin. Make sure you change the necessary labels on the plot!"
   ]
  },
  {
   "cell_type": "markdown",
   "metadata": {},
   "source": [
    "## Fancy plotting example: plotting two different datasets (with different units) on the same plot"
   ]
  },
  {
   "cell_type": "markdown",
   "metadata": {},
   "source": [
    "#### In order to plot two datasets, we need to load a second dataset. Let's load a dataset of air quality measurements in Canberra. We call the data 'aqi', short for air quality index."
   ]
  },
  {
   "cell_type": "code",
   "execution_count": null,
   "metadata": {},
   "outputs": [],
   "source": [
    "# Use pandas library to load csv file\n",
    "aqi = pd.read_csv('../shared/Civic_Air_Quality_Station.csv')\n",
    "aqi.head()"
   ]
  },
  {
   "cell_type": "markdown",
   "metadata": {},
   "source": [
    "#### There are many columns of data here, and you may need to scroll to the right to see all of the columns (depending on your screen size). The number we will plot here is called *PM2.5*. This refers to the concentration of particulate matter (PM) in the air that has a diameter of less than 2.5 microns. \n",
    "\n",
    "The reason why I decided to use this data in the lab was to show you just how bad the air quality was in Australia during the horrendous bushfire season in the last year. For those of us living for days on end in thick smoke, it was the PM2.5 particles that we were most concerned about breathing in due to their negative health effects. But PM2.5 particles can also come from human-caused pollution sources, not just from forrest fires.\n",
    "\n",
    "#### Anyway, back to this exercise. It looks like there is already a single column with datetime information, but let's double check that it is being correctly identified as datetime by pandas."
   ]
  },
  {
   "cell_type": "code",
   "execution_count": null,
   "metadata": {},
   "outputs": [],
   "source": [
    "aqi.dtypes"
   ]
  },
  {
   "cell_type": "markdown",
   "metadata": {},
   "source": [
    "#### Nope, the 'DateTime' column appears to be an object. Let's fix this by telling pandas to interpret as a datetime format."
   ]
  },
  {
   "cell_type": "code",
   "execution_count": null,
   "metadata": {},
   "outputs": [],
   "source": [
    "aqi['DateTime'] = pd.to_datetime(aqi['DateTime'],yearfirst=True,dayfirst='True')"
   ]
  },
  {
   "cell_type": "markdown",
   "metadata": {},
   "source": [
    "#### Now let's take another look at the dataset. This time let's look at the last 5 rows using the \"tail\" function."
   ]
  },
  {
   "cell_type": "code",
   "execution_count": null,
   "metadata": {},
   "outputs": [],
   "source": [
    "aqi.head()"
   ]
  },
  {
   "cell_type": "markdown",
   "metadata": {},
   "source": [
    "#### The dates here should look strange - they aren't in order! We can force them into ascending time order by running a sort function:"
   ]
  },
  {
   "cell_type": "code",
   "execution_count": null,
   "metadata": {},
   "outputs": [],
   "source": [
    "aqi = aqi.sort_values(by=['DateTime'],ascending=True)"
   ]
  },
  {
   "cell_type": "markdown",
   "metadata": {},
   "source": [
    "#### If you rerun the 'aqi.tail()' cell now, you should see that the dates appear to be in order, with the most recent data at the end.\n",
    "\n",
    "#### So, we have our data loaded with the two columns we are interested in. Let's plot the PM2.5 numbers on the same plot as the temperature data! This is a bit trickier than just adding two lines to the same plot, since we need to account for different units (Celsius vs a concentration of particles)."
   ]
  },
  {
   "cell_type": "code",
   "execution_count": null,
   "metadata": {},
   "outputs": [],
   "source": [
    "fig,ax = plt.subplots(figsize=(16,6))\n",
    "ax.plot(T['DateTime'],T['Maximum temperature (Degree C)'],label='Max. daily temperature',\n",
    "       alpha=0.5)\n",
    "ax.set_ylabel('Temperature (${}^\\circ C$)',fontsize=14)\n",
    "ax.tick_params(axis='y',labelsize=12)\n",
    "\n",
    "#plt.xlim(aqi['DateTime'][17809],aqi['DateTime'][0])\n",
    "\n",
    "ax2 = ax.twinx()\n",
    "ax2.plot(aqi['DateTime'],aqi['PM2.5'],label='Concentration of PM2.5 particles')\n",
    "ax2.set_ylabel('PM2.5 concentration ($\\mu g/m^3$)',fontsize=14)\n",
    "ax2.tick_params(axis='y', size=12,labelsize=12)\n",
    "ax2.set_ylim(0,700)\n",
    "plt.fill_between(aqi.index,0,aqi['PM2.5'],alpha=0.3)\n",
    "ax2.yaxis.set_label_coords(1.075,0.45)\n",
    "plt.xlim(aqi['DateTime'][17809],aqi['DateTime'][0])"
   ]
  },
  {
   "cell_type": "markdown",
   "metadata": {},
   "source": [
    "#### We have both timeseries on the same plot - hooray! Now you can see that the PM2.5 concentrations were very small for years before 2020. Clearly, the air quality does not show a yearly cycle like the temperature does! Also very clear is that the air quality was nearly two orders of magnitude worse than usual at the start of 2020. For reference, the Australian health authorities consider a PM2.5 concentration greater than 200 to be hazardous to health.\n",
    "\n",
    "#### Let's try to make the plot look a bit nicer by specifying different colors for the different data. Since we will use the color argument a couple of times, let's define the colors as their own variables. Let's also add a horizontal line at the 200 concentration level to visually highlight the hazardous concentration number."
   ]
  },
  {
   "cell_type": "code",
   "execution_count": null,
   "metadata": {},
   "outputs": [],
   "source": [
    "# Define color names\n",
    "Tcolor = 'red'\n",
    "AQIcolor = 'k'\n",
    "\n",
    "fig,ax = plt.subplots(figsize=(16,6))\n",
    "ax.plot(T['DateTime'],T['Maximum temperature (Degree C)'],color=Tcolor,label='Max. daily temperature')\n",
    "ax.set_ylabel('Temperature (${}^\\circ C$)',color=Tcolor,fontsize=14)\n",
    "ax.tick_params(axis='y', colors=Tcolor,labelsize=12)\n",
    "\n",
    "\n",
    "ax2 = ax.twinx()\n",
    "ax2.plot(aqi['DateTime'],aqi['PM2.5'],color=AQIcolor,label='Concentration of PM2.5 particles')\n",
    "ax2.set_ylabel('PM2.5 concentration ($\\mu g/m^3$)',color=AQIcolor,fontsize=14)\n",
    "ax2.tick_params(axis='y', colors=AQIcolor,size=12,labelsize=12)\n",
    "ax2.set_ylim(0,700)\n",
    "plt.axhline(200,color='grey',linestyle='dashed')\n",
    "ax2.yaxis.set_label_coords(1.075,0.45)\n",
    "plt.xlim(aqi['DateTime'][17809],aqi['DateTime'][0])\n",
    "\n",
    "plt.title('Temperature and PM2.5 in Canberra, Australia',fontsize=18)"
   ]
  },
  {
   "cell_type": "markdown",
   "metadata": {},
   "source": [
    "#### You can see that the left y-axis labels are now in red, the same color as the temperature data! And what's nice about having defined our plotting colors at the top of the cell is that you can easily change the colors of either of the datasets! Play around with different colors until you find a combination you like! (Color names listed here: https://matplotlib.org/3.1.0/gallery/color/named_colors.html, or you can define your own color using RGB html color codes - click on \"Specifying Colors\" at the above website!)\n",
    "\n",
    "#### Just for fun, here are another couple of other nice functions for visualizing data. You can use the \"alpha\" argument to change the transparency of plotted data. You can also fill in the area beneath a curve with a solid color. I've also zoomed in below to emphasize the grey shading beneath the PM2.5 data curve."
   ]
  },
  {
   "cell_type": "code",
   "execution_count": null,
   "metadata": {},
   "outputs": [],
   "source": [
    "# Define color names\n",
    "Tcolor = 'red'\n",
    "AQIcolor = 'k'\n",
    "\n",
    "fig,ax = plt.subplots(figsize=(16,6))\n",
    "ax.plot(T['DateTime'],T['Maximum temperature (Degree C)'],color=Tcolor,label='Max. daily temperature',\n",
    "       alpha=0.5) # make the temperature data semi-transparent\n",
    "ax.set_ylabel('Temperature (${}^\\circ C$)',color=Tcolor,fontsize=14)\n",
    "ax.tick_params(axis='y', colors=Tcolor,labelsize=12)\n",
    "\n",
    "\n",
    "ax2 = ax.twinx()\n",
    "ax2.plot(aqi['DateTime'],aqi['PM2.5'],color=AQIcolor,label='Concentration of PM2.5 particles')\n",
    "ax2.set_ylabel('PM2.5 concentration ($\\mu g/m^3$)',color=AQIcolor,fontsize=14)\n",
    "ax2.tick_params(axis='y', colors=AQIcolor,size=12,labelsize=12)\n",
    "ax2.set_ylim(0,700)\n",
    "plt.axhline(200,color='grey',linestyle='dashed')\n",
    "plt.fill_between(aqi['DateTime'],0,aqi['PM2.5'],color=AQIcolor,alpha=0.3) # fill the area under the curve with a lighter shade of AQIcolor (grey in this case)\n",
    "ax2.yaxis.set_label_coords(1.075,0.45)\n",
    "plt.xlim('2018-10','2020-02') \n",
    "\n",
    "plt.title('Temperature and PM2.5 in Canberra, Australia',fontsize=18)"
   ]
  },
  {
   "cell_type": "markdown",
   "metadata": {},
   "source": [
    "### !Challenge #5! It's your turn to do some coding and test your knowledge! --------------------------------\n",
    "Copy and paste the previous cell and make some changes to the plot! Change the colors, the line thicknesses (use the `linewidth=` argument within the plot function), the fontsizes, the x-axis limits, etc. Play around! If you like your final plot, share it on Slack in `#python-2021`! I'd love to see your visualizations! :)\n",
    "\n",
    "Remember to add a new cell or copy and past the above cell to get started!"
   ]
  },
  {
   "cell_type": "markdown",
   "metadata": {},
   "source": [
    "## Optional section: making a bar chart!"
   ]
  },
  {
   "cell_type": "markdown",
   "metadata": {},
   "source": [
    "#### In this exercise, we will load in a new dataset of rainfall in Canberra. Then we will organize the rainfall by monthly average and make a bar chart to display the data!\n",
    "\n",
    "#### Load the rainfall data"
   ]
  },
  {
   "cell_type": "code",
   "execution_count": null,
   "metadata": {},
   "outputs": [],
   "source": [
    "rain = pd.read_csv('../shared/IDCJAC0009_070307_1800_Data.csv')\n",
    "rain.head()"
   ]
  },
  {
   "cell_type": "markdown",
   "metadata": {},
   "source": [
    "#### Again, we need to convert some columns to 'DateTime' format."
   ]
  },
  {
   "cell_type": "code",
   "execution_count": null,
   "metadata": {},
   "outputs": [],
   "source": [
    "rain['DateTime'] = pd.to_datetime(rain[['Year','Month','Day']])"
   ]
  },
  {
   "cell_type": "markdown",
   "metadata": {},
   "source": [
    "#### Now let's just plot the dataset as is to see what it looks like"
   ]
  },
  {
   "cell_type": "code",
   "execution_count": null,
   "metadata": {},
   "outputs": [],
   "source": [
    "# Plot daily rainfall\n",
    "plt.figure(figsize=(8,6))\n",
    "plt.plot(rain['DateTime'],rain['Rainfall amount (millimetres)'])"
   ]
  },
  {
   "cell_type": "markdown",
   "metadata": {},
   "source": [
    "#### It's a bit hard to interpret what's going on here, with daily rainfall amounts over 40 years! \n",
    "\n",
    "#### We can bin the rainfall into different time intervals. For instance, if we want to bin the rainfall into 10-day intervals, we can `resample()` using the string '10D' to mean 10 days. Then we use the function `sum()` to sum over each day in the 10-day interval. In the plot, you can see that the data is starting to look less messy now."
   ]
  },
  {
   "cell_type": "code",
   "execution_count": null,
   "metadata": {},
   "outputs": [],
   "source": [
    "# Calculate and plot 10-daily rainfall\n",
    "rain = rain.set_index(rain['DateTime']) # first we need to set the datetime as the index of our dataframe\n",
    "rain_10day = rain.resample('10D').sum()\n",
    "\n",
    "plt.figure(figsize=(8,6))\n",
    "plt.plot(rain_10day.index,rain_10day['Rainfall amount (millimetres)'])\n",
    "plt.xlim('2003-01-01','2020-01-01')"
   ]
  },
  {
   "cell_type": "markdown",
   "metadata": {},
   "source": [
    "#### In many ways, it is more intuitive to plot daily rainfall accumulation as a bar chart instead of as a timeseries. So let's do that! And to make it slightly more interesting, we adjust the width of each bar in the plot according to the number of days that has been summed over. (Although it is summed over 10-day intervals, there are some days with no rain.) This time, let's sum over monthly rainfall accumulation."
   ]
  },
  {
   "cell_type": "code",
   "execution_count": null,
   "metadata": {},
   "outputs": [],
   "source": [
    "# Calculate monthly accumulation rainfall\n",
    "rain_m = rain.resample('M').sum()\n",
    "\n",
    "plt.figure(figsize=(12,6))\n",
    "# Use the 'bar()' function and add the 'width' argument to specify the width of the bars\n",
    "plt.bar(rain_m.index,rain_m['Rainfall amount (millimetres)'],width=rain_m['Period over which rainfall was measured (days)'])\n",
    "plt.xlim('2015-01-01','2020-01-01') # set the x-axis limits\n",
    "plt.ylim(0,200) # set the y-axis limits"
   ]
  },
  {
   "cell_type": "markdown",
   "metadata": {},
   "source": [
    "#### Now let's say we want to plot the average rainfall accumulation for each month across the 40-year timeseries. We will need to sum over all days in each month and then average each month across all of the years. To do that, we can use a 'for loop'."
   ]
  },
  {
   "cell_type": "code",
   "execution_count": null,
   "metadata": {},
   "outputs": [],
   "source": [
    "# Make loop to define pd series of monthly average rainfall\n",
    "\n",
    "# Initialize an array with length 12\n",
    "month_rain = np.arange(12)\n",
    "\n",
    "# Loop through 12 times to define the monthly average rainfall accumulation\n",
    "for i in np.arange(12):\n",
    "    month_rain[i] = rain_m[rain_m.index.month == i+1].mean()['Rainfall amount (millimetres)']\n",
    "    \n",
    "month_rain # print out the month_rain just to verify that it has worked!"
   ]
  },
  {
   "cell_type": "markdown",
   "metadata": {},
   "source": [
    "#### Now we will go ahead and create a new pandas dataframe that we will call 'rain_bar' with this new data and with the list of each of the months for our 'DateTime' column"
   ]
  },
  {
   "cell_type": "code",
   "execution_count": null,
   "metadata": {},
   "outputs": [],
   "source": [
    "# Create new pandas dataframe with average monthly rainfall totals\n",
    "\n",
    "rain_bar = pd.DataFrame({'DateTime':rain['DateTime'].dt.month_name().unique(),\n",
    "                         'Monthly Rainfall': month_rain})\n",
    "rain_bar"
   ]
  },
  {
   "cell_type": "markdown",
   "metadata": {},
   "source": [
    "#### It looks good so far, so let's go ahead and plot it!"
   ]
  },
  {
   "cell_type": "code",
   "execution_count": null,
   "metadata": {},
   "outputs": [],
   "source": [
    "plt.figure(figsize=(15,5))\n",
    "plt.bar(rain_bar['DateTime'],rain_bar['Monthly Rainfall'])"
   ]
  },
  {
   "cell_type": "markdown",
   "metadata": {},
   "source": [
    "#### We just made a bar plot! Let's fancy it up a bit. This is the kind of thing a lot of data science programmers might do! I won't go through each step here, but see if you can figure out what the code is doing in the following cell! (Ask on Slack or search online if you want to learn more about this!)"
   ]
  },
  {
   "cell_type": "code",
   "execution_count": null,
   "metadata": {},
   "outputs": [],
   "source": [
    "plt.figure(figsize=(15,5))\n",
    "bars = plt.bar(rain_bar['DateTime'],rain_bar['Monthly Rainfall'])\n",
    "for spine in plt.gca().spines.values():\n",
    "    spine.set_visible(False)\n",
    "#plt.tick_params(top='off', bottom='off', right='off') #, labelbottom='on')\n",
    "plt.tick_params(\n",
    "    axis='x',          # changes apply to the x-axis\n",
    "    which='both',      # both major and minor ticks are affected\n",
    "    bottom=False,      # ticks along the bottom edge are off\n",
    "    top=False) #,         # ticks along the top edge are off\n",
    "plt.tick_params(\n",
    "    axis='y',          # changes apply to the x-axis\n",
    "    which='both',      # both major and minor ticks are affected\n",
    "    left=False,      # ticks along the bottom edge are off\n",
    "    labelleft=False)\n",
    "\n",
    "# Label rainfall amounts on each bar\n",
    "for bar in bars:\n",
    "    plt.gca().text(bar.get_x() + bar.get_width()/2, bar.get_height() - 5, str(int(bar.get_height())) + ' mm', \n",
    "                 ha='center', color='w', fontsize=11) #ha is horizontal alignment\n",
    "    \n",
    "bars[4].set_color('salmon') # color the minimum rainfall month to highlight it\n",
    "    \n",
    "plt.title('Average monthly rainfall totals in Canberra, Australia',fontsize=24)\n",
    "plt.xticks(fontsize=14,rotation=45)"
   ]
  },
  {
   "cell_type": "markdown",
   "metadata": {},
   "source": [
    "#### Doing some statistics on your data is always a must-do! So let's add some confidence intervals to these bars."
   ]
  },
  {
   "cell_type": "code",
   "execution_count": null,
   "metadata": {},
   "outputs": [],
   "source": [
    "# Redo loop to define pd series of monthly average rainfall, this time also defining the confidence intervals for each month\n",
    "month_rain = np.arange(12)\n",
    "err = np.arange(12) # defined as: mean +/- 1.96*std/sqrt(N)\n",
    "for i in np.arange(12):\n",
    "    month_rain[i] = rain_m[rain_m.index.month == i+1].mean()['Rainfall amount (millimetres)']\n",
    "    err[i] = 1.96*rain_m[rain_m.index.month == i+1]['Rainfall amount (millimetres)'].std()/np.sqrt(len(rain_m))\n",
    "month_rain"
   ]
  },
  {
   "cell_type": "markdown",
   "metadata": {},
   "source": [
    "#### Plotting time!"
   ]
  },
  {
   "cell_type": "code",
   "execution_count": null,
   "metadata": {},
   "outputs": [],
   "source": [
    "plt.figure(figsize=(15,5))\n",
    "bars = plt.bar(rain_bar['DateTime'],rain_bar['Monthly Rainfall'],yerr=err,capsize=5)\n",
    "for spine in plt.gca().spines.values():\n",
    "    spine.set_visible(False)\n",
    "plt.tick_params(\n",
    "     axis='x',          # changes apply to the x-axis\n",
    "     which='both',      # both major and minor ticks are affected\n",
    "     bottom=False,      # ticks along the bottom edge are off\n",
    "     top=False) #,         # ticks along the top edge are off\n",
    "    \n",
    "plt.title('Average monthly rainfall totals in Canberra, Australia',fontsize=24)"
   ]
  },
  {
   "cell_type": "markdown",
   "metadata": {},
   "source": [
    "#### That's it! You made it to the end! So now you've had several examples of manipulating data and plotting. Test your skills by playing around with any of the cells here and by doing the other python labs available!"
   ]
  },
  {
   "cell_type": "code",
   "execution_count": null,
   "metadata": {},
   "outputs": [],
   "source": []
  }
 ],
 "metadata": {
  "kernelspec": {
   "display_name": "Python 3",
   "language": "python",
   "name": "python3"
  },
  "language_info": {
   "codemirror_mode": {
    "name": "ipython",
    "version": 3
   },
   "file_extension": ".py",
   "mimetype": "text/x-python",
   "name": "python",
   "nbconvert_exporter": "python",
   "pygments_lexer": "ipython3",
   "version": "3.7.3"
  },
  "toc": {
   "base_numbering": 1,
   "nav_menu": {},
   "number_sections": false,
   "sideBar": true,
   "skip_h1_title": false,
   "title_cell": "Table of Contents",
   "title_sidebar": "Contents",
   "toc_cell": false,
   "toc_position": {},
   "toc_section_display": true,
   "toc_window_display": false
  }
 },
 "nbformat": 4,
 "nbformat_minor": 2
}
