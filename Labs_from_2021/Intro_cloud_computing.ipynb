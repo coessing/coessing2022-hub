{
 "cells": [
  {
   "cell_type": "markdown",
   "metadata": {},
   "source": [
    "# Introduction to the cloud\n",
    "\n",
    "This notebook introduces you to the basics of cloud computing, and how it differs from computing on your local computer or on an HPC (high performance computing) system."
   ]
  },
  {
   "cell_type": "markdown",
   "metadata": {},
   "source": [
    "## What is \"the cloud\"?\n",
    "\n",
    "The \"cloud\" is used as a term to refer to a collection of servers (or computers) that are owned by a third party. Data is stored and accessed from these remote servers via the internet, removing the need to store data on your local computer. Files and data stored on the cloud are physically stored in the collection of servers, but these servers can be located anywhere! "
   ]
  },
  {
   "cell_type": "markdown",
   "metadata": {},
   "source": [
    "## What is cloud computing?\n",
    "\n",
    "Cloud computing is the term that describes using cloud resources to run computer code and do computations. Many of you may be used to running python (or other programming languages) on your own local computer or laptop, where you use your computer's processor to analyze data stored on your own computer. With cloud computing, you use your own computer to connect to remote servers via the internet, and let the computations and data storage be handled by those remote servers instead of your personal computer. \n",
    "\n",
    "Cloud computing has many benefits, including the ability to work easier with very large datasets. Since many climate models produce lots of data, cloud computing is particularly appealing for climate and ocean data analysis!"
   ]
  },
  {
   "cell_type": "markdown",
   "metadata": {},
   "source": [
    "## What does JupyterHub have to do with cloud computing?\n",
    "\n",
    "If you are reading this notebook, then you are probably running the COESSING JupyterHub, in which case you are using cloud computing right now! This JupyterHub is connected to a cloud provider and provides an interface for us, as users, to connect to the remote servers and read data/do computations. \n",
    "\n",
    "If you have attended COESSING in previous years, you may remember that we used Jupyter notebooks to run python code, and that Jupyter notebooks run in your computer browser. When you run a Jupyter notebook on your local computer, the code is executed using your local computer's processors, even though you are running it through a web browser. JupyterHub also runs through a web browser, but in this case it is connected to a cloud provider and so the computations are carried out on the cloud, rather than on your local computer. When running Jupyter notebooks using JupyterHub, you must be connected to the internet.\n",
    "\n",
    "However, because all of the data and computations are being done remotely, you do not need high bandwidth internet to run a JupyterHub; you simply need a stable internet connection."
   ]
  },
  {
   "cell_type": "markdown",
   "metadata": {},
   "source": [
    "## Bringing ocean and climate science into the cloud\n",
    "\n",
    "For years, computing within the climate sciences has been done on local computers and high-performance computing (HPC) systems run by specific universities and institutions. This method often relies on the traditional \"download\" method, where users get access to data stored on a specific institution's HPC system, download the data to their own system (sometimes a local computer, sometimes a different HPC that the user can use for computations), and then analyzes the downloaded data. In this traditional method, the data is transferred to the location where the computations are done. This model works very well with reasonably-sized datasets; however, with higher resolution ocean and climate models, and more satellite data being collected, datasets are exploding in size, which creates a bottle-neck when needing to download the data. \n",
    "\n",
    "In cloud computing, we often use the term \"bringing the compute to your data\". This phrase refers to the idea of doing computations on the same servers that store the datasets, eliminating the need to download data. This is why we need an internet connection, so that we can connect to the remote cloud servers that store the data, and run our computations on those servers. This method also eliminates the need to obtain access to specific institution's servers in order to access data. In this way, it helps provide equitable access to datasets.\n",
    "\n",
    "Another advantage of cloud computing is the ability to do large computations without the need to build an HPC system. It is very costly to build a HPC cluster, requiring a large amount of up-front funding. Cloud computing, on the other hand, can be used on an as-needed basis, meaning that users need only pay for the computation and data access that they use, without the need to pay a large amount up front for the hardware.\n",
    "\n",
    "We have the Pangeo community to thank for promoting cloud computing in earth and environmental science. Pangeo is a very welcoming community, and is all about open science, open-source software, open data, and supporting analysis of big datasets. Many of the notebooks in the COESSING JuptyerHub are taken from the large bank of examples in the [Pangeo Gallery](https://gallery.pangeo.io), which I encourage you to look at if you want to dive into cloud computing even more!"
   ]
  },
  {
   "cell_type": "markdown",
   "metadata": {},
   "source": [
    "## Benefits of cloud computing for scientists\n",
    "\n",
    "1. **Cloud-based dataset storage:** storing datasets on the cloud removes the need to obtain credentials to access datasets stored at specific institutions.\n",
    "2. **Data-proximate computing:** bringing the compute to the data eliminates having to download large amounts of data, making analysis of large datasets feasible\n",
    "3. **Cost-effectiveness:** cloud computing remove the need to build hardware locally, which would require large start-up costs. Instead, costs for computations and data storage are calculated on demand. (*Note: The COESSING JupyterHub is freely available for all COESSING participants due to the generous contributions from the nonprofit organization [2i2c](https://2i2c.org).*)\n",
    "4. **Collaboration:** if everyone accesses datasets from the same centralized location on the same platform, this makes collaboration with colleagues much simpler\n",
    "\n",
    "All of these benefits are particularly relevant to scientists in West Africa, where funding and internet bandwidth can be very limited compared to, e.g., their US and European counterparts. The COESSING JupyterHub this year is meant to introduce you all to cloud computing, and to trial usage among West African scientists. We are so happy that you are interested in helping us test this out, and we welcome any and all feedback on the Slack channel `#python-2021`."
   ]
  },
  {
   "cell_type": "markdown",
   "metadata": {},
   "source": [
    "## Some challenges of cloud computing\n",
    "\n",
    "While there are some clear benefits to cloud computing, there are some challenges as well. A couple such challenges include:\n",
    "\n",
    "1. **Cloud-optimzed data:** cloud providers use object storage instead of regular file systems that we are used to on our personal computers. Most datasets are optimized for standard filesystem storage, and so need some re-working to function in object storage.\n",
    "2. **Funding:** cloud computing requires a different funding model than traditional academic funding (at least in places like the US)"
   ]
  },
  {
   "cell_type": "markdown",
   "metadata": {},
   "source": [
    "## More info\n",
    "\n",
    "If you would like to read more about cloud computing in the earth and environmental sciences, here are a few resources (most of these are Pangeo-focused, but Pangeo works with many groups, including NASA, NCAR, and many others):\n",
    "\n",
    "- [Pangeo website](https://pangeo.io)\n",
    "    - [cloud architecture](https://pangeo.io/architecture.html)\n",
    "    - [about Pangeo cloud](https://pangeo.io/cloud.html)\n",
    "    - [Pangeo gallery](https://gallery.pangeo.io)\n",
    "- [article about Pangeo and its history](https://medium.com/pangeo/pangeo-2-0-2bedf099582d)\n",
    "- [paper about doing science in the cloud](https://www.computer.org/csdl/magazine/cs/2021/02/09354557/1reXu4gJjri)"
   ]
  },
  {
   "cell_type": "markdown",
   "metadata": {},
   "source": [
    "## Available datasets on COESSING JupyterHub\n",
    "\n",
    "The COESSING JupyterHub is set up very similarly to the hub used by many members of the Pangeo community, and so we have access to datasets stored on the cloud via Pangeo! These datasets can be found in the [Pangeo Data Catalog](https://catalog.pangeo.io/browse/master/). We will be using the ECCO v4 [dataset](https://catalog.pangeo.io/browse/master/ocean/ECCOv4r3/) in some python tutorials during COESSING 2021!"
   ]
  },
  {
   "cell_type": "code",
   "execution_count": null,
   "metadata": {},
   "outputs": [],
   "source": []
  }
 ],
 "metadata": {
  "kernelspec": {
   "display_name": "Python 3",
   "language": "python",
   "name": "python3"
  },
  "language_info": {
   "codemirror_mode": {
    "name": "ipython",
    "version": 3
   },
   "file_extension": ".py",
   "mimetype": "text/x-python",
   "name": "python",
   "nbconvert_exporter": "python",
   "pygments_lexer": "ipython3",
   "version": "3.7.3"
  },
  "toc": {
   "base_numbering": 1,
   "nav_menu": {},
   "number_sections": false,
   "sideBar": true,
   "skip_h1_title": false,
   "title_cell": "Table of Contents",
   "title_sidebar": "Contents",
   "toc_cell": false,
   "toc_position": {},
   "toc_section_display": true,
   "toc_window_display": false
  }
 },
 "nbformat": 4,
 "nbformat_minor": 4
}
