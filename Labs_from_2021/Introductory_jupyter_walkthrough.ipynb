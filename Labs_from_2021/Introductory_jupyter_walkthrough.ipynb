{
 "cells": [
  {
   "cell_type": "markdown",
   "metadata": {},
   "source": [
    "# This is a walk-through of how to use Jupyter and an overview of basic python packages for scientific computing"
   ]
  },
  {
   "cell_type": "markdown",
   "metadata": {},
   "source": [
    "Follow this tutorial step-by-step before completing other labs, particularly if you have no prior python or jupyter experience. "
   ]
  },
  {
   "cell_type": "markdown",
   "metadata": {},
   "source": [
    "### Using Jupyter notebook"
   ]
  },
  {
   "cell_type": "markdown",
   "metadata": {},
   "source": [
    "First, let's understand how this notebook works. Notebooks are written by cells that can be evaluated individually. In the cell below, the text \"This is a Markdown cell\" has been typed. Double click on the words to view the cell."
   ]
  },
  {
   "cell_type": "markdown",
   "metadata": {},
   "source": [
    "This is a Markdown cell"
   ]
  },
  {
   "cell_type": "markdown",
   "metadata": {},
   "source": [
    "Now try to create your own cell. First, click once on this cell, then add a new markdown cell by clicking the \"+\" button above. This should create a new cell beneath this one. Before we can type markdown text, you need to click on the dropdown menu above that says \"Code\" and instead choose \"Markdown\". Type whatever text you want! Then either click the \"Run\" button above or type Shift+Return to evaluate the cell. Once you have done so, the text should look just like it does here!"
   ]
  },
  {
   "cell_type": "markdown",
   "metadata": {},
   "source": [
    "Now let's create text a bit larger by typing out \"#\" in front of the text. In the 3 cells below, double click on the words to see how the larger fontsize is created."
   ]
  },
  {
   "cell_type": "markdown",
   "metadata": {},
   "source": [
    "# Largest header"
   ]
  },
  {
   "cell_type": "markdown",
   "metadata": {},
   "source": [
    "## Slightly smaller header"
   ]
  },
  {
   "cell_type": "markdown",
   "metadata": {},
   "source": [
    "### Smaller header"
   ]
  },
  {
   "cell_type": "markdown",
   "metadata": {},
   "source": [
    "These markdown cells are useful for writing comments in your Jupyter notebook - a very important part of writing reproducible code!\n",
    "\n",
    "Notice the buttons near the top of this window - these are very useful! \n",
    "\n",
    "- To add new cells, click the \"+\" button above.\n",
    "- To move cells up and down, use the up and down arrow buttons.\n",
    "- To switch cells between markdown (for writing text) and code (for writing python code), select the appropriate word from the menu that says \"Markdown\".\n",
    "- Hover over the other buttons to see what they do!"
   ]
  },
  {
   "cell_type": "markdown",
   "metadata": {},
   "source": [
    "### On to some python coding!\n",
    "\n",
    "We can use basic python to, e.g., do some simple math! Comments (i.e. text that is not evaluated as python code) are denoted by a \"#\". Evaluate the examples in the cells below."
   ]
  },
  {
   "cell_type": "code",
   "execution_count": null,
   "metadata": {},
   "outputs": [],
   "source": [
    "5+7 # addition"
   ]
  },
  {
   "cell_type": "code",
   "execution_count": null,
   "metadata": {},
   "outputs": [],
   "source": [
    "7**2 # squaring numbers"
   ]
  },
  {
   "cell_type": "code",
   "execution_count": null,
   "metadata": {},
   "outputs": [],
   "source": [
    "(4+5)/3 # mathematical expressions"
   ]
  },
  {
   "cell_type": "code",
   "execution_count": null,
   "metadata": {},
   "outputs": [],
   "source": [
    "print('this will print out text from a coding cell')"
   ]
  },
  {
   "cell_type": "code",
   "execution_count": null,
   "metadata": {},
   "outputs": [],
   "source": [
    "# Assigning variables\n",
    "x = 3 + 7\n",
    "print('The variable x has the value',x)"
   ]
  },
  {
   "cell_type": "markdown",
   "metadata": {},
   "source": [
    "You can see that the answers or outputs are printed below each cell. To do more interesting things, we need to import libraries. Let's start by importing one called numpy, and let's denote it \"np\"."
   ]
  },
  {
   "cell_type": "code",
   "execution_count": null,
   "metadata": {},
   "outputs": [],
   "source": [
    "import numpy as np"
   ]
  },
  {
   "cell_type": "markdown",
   "metadata": {},
   "source": [
    "The package numpy allows us to do some basic array manipulation and more complicated math. Evaluate the following cells for some examples."
   ]
  },
  {
   "cell_type": "code",
   "execution_count": null,
   "metadata": {},
   "outputs": [],
   "source": [
    "# Calculate sine and cosine, and use the number pi\n",
    "np.sin(np.pi)"
   ]
  },
  {
   "cell_type": "code",
   "execution_count": null,
   "metadata": {},
   "outputs": [],
   "source": [
    "# Assign arrays, or matrices, of numbers\n",
    "a = np.array((1,3,6,11))\n",
    "b = np.arange(10)\n",
    "print(a,b)"
   ]
  },
  {
   "cell_type": "markdown",
   "metadata": {},
   "source": [
    "There are many more useful functions in the numpy library that you will likely see in other python labs this week. \n",
    "\n",
    "Let's move on to another library. This one is for plotting! Note that we need to include the first line \"%matplotlib inline\" in order to view the plots in this notebook."
   ]
  },
  {
   "cell_type": "code",
   "execution_count": null,
   "metadata": {},
   "outputs": [],
   "source": [
    "%matplotlib inline\n",
    "import matplotlib.pyplot as plt"
   ]
  },
  {
   "cell_type": "markdown",
   "metadata": {},
   "source": [
    "Let's make a simple plot."
   ]
  },
  {
   "cell_type": "code",
   "execution_count": null,
   "metadata": {},
   "outputs": [],
   "source": [
    "# Define an array x\n",
    "x = np.arange(-2*np.pi, 2*np.pi, 0.1) # this defines an array that spans numbers from -2pi to 2pi with an interval of 0.1\n",
    "y = np.cos(x)\n",
    "\n",
    "plt.plot(x,y)"
   ]
  },
  {
   "cell_type": "markdown",
   "metadata": {},
   "source": [
    "It's always good practice to label the axes and give your plot a title. Let's also make the plot a bit bigger and change the color and linestyle, just for fun."
   ]
  },
  {
   "cell_type": "code",
   "execution_count": null,
   "metadata": {},
   "outputs": [],
   "source": [
    "plt.figure(figsize=(12,8))\n",
    "plt.plot(x,y,color='r',linestyle='dashed')\n",
    "plt.title('Example cosine curve',fontsize=18)\n",
    "plt.xlabel('x')\n",
    "plt.ylabel('y')"
   ]
  },
  {
   "cell_type": "markdown",
   "metadata": {},
   "source": [
    "# Let's get to know some other useful libraries\n",
    "\n",
    "### Pandas"
   ]
  },
  {
   "cell_type": "markdown",
   "metadata": {},
   "source": [
    "Another useful library is called pandas. Pandas is a great library for reading in and analyzing txt and csv files. It is a very convenient way to store data in columns, and each data column can be in very different formats (e.g. numbers, dates, text, etc.). Data is typically loaded in as a \"dataframe\". Let's look at a simple example."
   ]
  },
  {
   "cell_type": "code",
   "execution_count": null,
   "metadata": {},
   "outputs": [],
   "source": [
    "import pandas as pd  # load the pandas library as \"pd\"\n",
    "\n",
    "# Create an example dataframe called df (taken from the pandas userguide at pandas.pydata.org)\n",
    "df = pd.DataFrame({'A': 1.,\n",
    "                   'B': pd.Timestamp('20130102'),\n",
    "                   'C': pd.Series(1, index=list(range(4)), dtype='float32'),\n",
    "                   'D': np.array([3] * 4, dtype='int32'),\n",
    "                   'E': pd.Categorical([\"test\", \"train\", \"test\", \"train\"]),\n",
    "                   'F': 'foo'})\n",
    "\n",
    "df # print out the dataframe"
   ]
  },
  {
   "cell_type": "markdown",
   "metadata": {},
   "source": [
    "See how nicely the data is formatted as a pandas dataframe! And you can see that some columns are floats (decimal numbers), integers, dates, and text. If you're not sure what kind of format your data has:"
   ]
  },
  {
   "cell_type": "code",
   "execution_count": null,
   "metadata": {},
   "outputs": [],
   "source": [
    "df.dtypes"
   ]
  },
  {
   "cell_type": "markdown",
   "metadata": {},
   "source": [
    "Now you can see the format of each column in the dataframe. To select a single column of data:"
   ]
  },
  {
   "cell_type": "code",
   "execution_count": null,
   "metadata": {},
   "outputs": [],
   "source": [
    "df['E']"
   ]
  },
  {
   "cell_type": "markdown",
   "metadata": {},
   "source": [
    "There are a LOT more useful functions in pandas, and you will use this library in other labs at this school."
   ]
  },
  {
   "cell_type": "markdown",
   "metadata": {},
   "source": [
    "### cartopy "
   ]
  },
  {
   "cell_type": "markdown",
   "metadata": {},
   "source": [
    "The cartopy library is a way to make nice map visualizations! If you have attended previous COESSING schools, you may remember the library called basemap. While basemap still exists, it is no longer being updated and so cartopy is the map plotting package of choice these days. There is an excellent cartopy tutorial made by the amazing Josué Martinez-Moreno, so we won't take time to go over it here."
   ]
  },
  {
   "cell_type": "markdown",
   "metadata": {},
   "source": [
    "### netCDF4"
   ]
  },
  {
   "cell_type": "markdown",
   "metadata": {},
   "source": [
    "netCDF4 is a nice package to load netcdf (.nc) files. If you look at the python lab from COESSING 2019 (last year!) you can see examples of using this package."
   ]
  },
  {
   "cell_type": "markdown",
   "metadata": {},
   "source": [
    "### xarray"
   ]
  },
  {
   "cell_type": "markdown",
   "metadata": {},
   "source": [
    "The xarray package is very useful particularly when dealing with large amounts of data, e.g. from ocean/climate models. It also streamlines many useful features, and allows you to take averages of data or plot data all in one line. It's pretty nifty!"
   ]
  },
  {
   "cell_type": "markdown",
   "metadata": {},
   "source": [
    "# A few tips:\n",
    "\n",
    "\n",
    "- Don't be shy to play around with python and Jupyter! If you aren't sure if you did something correctly, the computer will often tell if you did! So try writing some code, try writing some nice text cells - have fun!\n",
    "- Error messages are (usually) your friends! Don't be upset if you see an error message. Usually they are quite useful. Read the error message and see if you can fix it yourself! Googling error messages is also a great way to find answers on the internet.\n",
    "- Especially when typing out code, make sure your spelling is exact! The computer can only interpret exact python code, and so (I find) most of my errors are because of a spelling typo. (Which is great - they are easy to fix!) :)"
   ]
  },
  {
   "cell_type": "markdown",
   "metadata": {},
   "source": [
    "# Finally:\n",
    "\n",
    "It's time to put your knowledge to the test by completing other python notebooks and labs that are part of this school! There are several other specific python-learning notebooks, as well as several labs on other topics that are in python! So you have plenty of chances to practice python this week.\n",
    "\n",
    "If you have any python-related questions, post them on the Slack channel python-help! This channel will be monitored mostly in the morning in Ghanaian time (since the python instructors are in Australia!)\n",
    "\n",
    "Of course, you can always Google your questions! Nearly every question about python has been asked before and likely has an answer on the internet. :) "
   ]
  },
  {
   "cell_type": "code",
   "execution_count": null,
   "metadata": {},
   "outputs": [],
   "source": []
  }
 ],
 "metadata": {
  "kernelspec": {
   "display_name": "Python 3",
   "language": "python",
   "name": "python3"
  },
  "language_info": {
   "codemirror_mode": {
    "name": "ipython",
    "version": 3
   },
   "file_extension": ".py",
   "mimetype": "text/x-python",
   "name": "python",
   "nbconvert_exporter": "python",
   "pygments_lexer": "ipython3",
   "version": "3.7.3"
  },
  "toc": {
   "base_numbering": 1,
   "nav_menu": {},
   "number_sections": false,
   "sideBar": true,
   "skip_h1_title": false,
   "title_cell": "Table of Contents",
   "title_sidebar": "Contents",
   "toc_cell": false,
   "toc_position": {},
   "toc_section_display": true,
   "toc_window_display": false
  }
 },
 "nbformat": 4,
 "nbformat_minor": 2
}
