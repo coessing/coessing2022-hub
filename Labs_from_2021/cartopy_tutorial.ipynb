{
 "cells": [
  {
   "cell_type": "markdown",
   "metadata": {},
   "source": [
    "**NOTE: this notebook is from 2021 and has not been updated. Some of the cells produce an error.**"
   ]
  },
  {
   "cell_type": "markdown",
   "metadata": {},
   "source": [
    "# Tutorial of [Cartopy](https://scitools.org.uk/cartopy/docs/latest/) & [GeoPandas](https://geopandas.org)\n",
    "\n",
    "#### Presented by Josué Martinez Moreno!\n",
    "\n",
    "### Cartopy Goals:\n",
    "\n",
    "- Create your first map with cartopy.\n",
    "- Explore different projections and their attributes. \n",
    "- Experiment creating a new map.\n",
    "- Create your first scientific map.\n",
    "- Understand the basics of cartopy.\n",
    "- Create your own projection.\n",
    "\n",
    "### GeoPandas:\n",
    "\n",
    "- Introduce GeoPandas\n",
    "- Manipulate and plot `GeoJSON` in maps.\n",
    "- Plot `.shp` files \n",
    "- Create a simple animation.\n",
    "\n",
    "\n",
    "In this tutorial, you can just follow along and evaluate cells to see how to make nice, pretty plots! :)"
   ]
  },
  {
   "cell_type": "markdown",
   "metadata": {},
   "source": [
    "### Let's create our first map!"
   ]
  },
  {
   "cell_type": "code",
   "execution_count": null,
   "metadata": {},
   "outputs": [],
   "source": [
    "# Import libraries:\n",
    "# Import coordinate reference system\n",
    "import cartopy.crs as ccrs\n",
    "import cartopy.feature as cfeature\n",
    "import matplotlib.pyplot as plt\n",
    "import numpy as np\n",
    "%matplotlib inline"
   ]
  },
  {
   "cell_type": "code",
   "execution_count": null,
   "metadata": {},
   "outputs": [],
   "source": [
    "# Creating a map can be as simple as:\n",
    "fig = plt.figure(figsize=(10, 5))\n",
    "# Create axis with a map projection\n",
    "ax = plt.axes(projection=ccrs.PlateCarree())\n",
    "# Draw coastlines\n",
    "ax.coastlines()\n"
   ]
  },
  {
   "cell_type": "markdown",
   "metadata": {},
   "source": [
    "#### This map is a bit boring, so let's add some colors:"
   ]
  },
  {
   "cell_type": "code",
   "execution_count": null,
   "metadata": {},
   "outputs": [],
   "source": [
    "fig = plt.figure(figsize=(10, 5))\n",
    "# Another way to create an axis with a map projection\n",
    "ax = fig.add_subplot(1, 1, 1, projection=ccrs.PlateCarree())\n",
    "# Default topography image\n",
    "ax.stock_img()\n",
    "# Draw coastlines\n",
    "ax.coastlines()"
   ]
  },
  {
   "cell_type": "markdown",
   "metadata": {},
   "source": [
    "### Cartopy has multiple [projections](https://scitools.org.uk/cartopy/docs/latest/crs/projections.html):\n",
    "The following examples will include:\n",
    "- PlateCarree\n",
    "- Robinson\n",
    "- Orthographic\n",
    "- Sinusoidal\n",
    "- UTM (@Paige mentioned interest on this projection)"
   ]
  },
  {
   "cell_type": "markdown",
   "metadata": {},
   "source": [
    "### Let's start with a Robinson projection:"
   ]
  },
  {
   "cell_type": "code",
   "execution_count": null,
   "metadata": {},
   "outputs": [],
   "source": [
    "fig = plt.figure(figsize=(10, 5))\n",
    "# Another way to create an axis with a map projection\n",
    "ax = fig.add_subplot(1, 1, 1, projection=ccrs.Robinson())\n",
    "# Default topography image\n",
    "ax.stock_img()\n",
    "# Draw coastlines\n",
    "ax.coastlines()"
   ]
  },
  {
   "cell_type": "markdown",
   "metadata": {},
   "source": [
    "### Time to play arround with other projections!"
   ]
  },
  {
   "cell_type": "markdown",
   "metadata": {},
   "source": [
    "Clue: Replace the argument projection with any of the projections availabe at:\n",
    "\n",
    "https://scitools.org.uk/cartopy/docs/latest/crs/projections.html"
   ]
  },
  {
   "cell_type": "code",
   "execution_count": null,
   "metadata": {},
   "outputs": [],
   "source": [
    "# Experiment 1\n"
   ]
  },
  {
   "cell_type": "code",
   "execution_count": null,
   "metadata": {},
   "outputs": [],
   "source": [
    "# Experiment 2\n"
   ]
  },
  {
   "cell_type": "markdown",
   "metadata": {},
   "source": [
    "Remember UTM projections need a zone, after that zone things will be strongly deformed. "
   ]
  },
  {
   "cell_type": "code",
   "execution_count": null,
   "metadata": {},
   "outputs": [],
   "source": [
    "class EAfricaPP(ccrs.UTM):\n",
    "    \"\"\"\n",
    "    UTM Zone 33 projection for Africa domain.\n",
    "\n",
    "    Ellipsoid is International 1924, Datum is ED50.\n",
    "\n",
    "    \"\"\"\n",
    "    def __init__(self):\n",
    "        globe = ccrs.Globe(ellipse='intl')\n",
    "        super().__init__(\"30N\", globe=globe)\n",
    "\n",
    "    @property\n",
    "    def x_limits(self):\n",
    "        return (-1e6, 8.5e6)\n",
    "\n",
    "    @property\n",
    "    def y_limits(self):\n",
    "        return (-5e6, 4.3e6)"
   ]
  },
  {
   "cell_type": "code",
   "execution_count": null,
   "metadata": {},
   "outputs": [],
   "source": [
    "fig = plt.figure(figsize=(10, 5))\n",
    "# Another way to create an axis with a map projection\n",
    "ax = fig.add_subplot(1, 1, 1, projection=EAfricaPP())\n",
    "# Default topography image\n",
    "ax.stock_img()\n",
    "# Draw coastlines\n",
    "ax.coastlines()"
   ]
  },
  {
   "cell_type": "markdown",
   "metadata": {},
   "source": [
    "**Can you spot what is wrong?** UTM projections are not recommended to use in an area as big as the one we showed, in fact, the most UTM have a true scale around $\\pm$ 3° from the central coordinate."
   ]
  },
  {
   "cell_type": "code",
   "execution_count": null,
   "metadata": {},
   "outputs": [],
   "source": [
    "fig = plt.figure(figsize=(10, 5))\n",
    "# Another way to create an axis with a map projection\n",
    "ax = fig.add_subplot(1, 1, 1, projection=ccrs.UTM(\"30N\"))\n",
    "# Default topography image\n",
    "ax.stock_img()\n",
    "# Draw coastlines\n",
    "ax.coastlines()\n",
    "\n",
    "projection_extend = ax.get_extent()\n",
    "ax.set_extent([projection_extend[0], projection_extend[1], -5e6, 4.3e6], crs=ccrs.UTM(zone=\"30N\"))"
   ]
  },
  {
   "cell_type": "markdown",
   "metadata": {},
   "source": [
    "You can play changing the UTM coordinates, by changing the values of the `ax.set_extend` function. The projection extend is specified bellow:"
   ]
  },
  {
   "cell_type": "code",
   "execution_count": null,
   "metadata": {},
   "outputs": [],
   "source": [
    "projection_extend"
   ]
  },
  {
   "cell_type": "code",
   "execution_count": null,
   "metadata": {},
   "outputs": [],
   "source": [
    "fig = plt.figure(figsize=(10, 5))\n",
    "# Another way to create an axis with a map projection\n",
    "ax = fig.add_subplot(1, 1, 1, projection=ccrs.UTM(\"30N\"))\n",
    "# Default topography image\n",
    "ax.add_feature(cfeature.BORDERS, linestyle='-')\n",
    "ax.add_feature(cfeature.LAND)\n",
    "ax.add_feature(cfeature.OCEAN)\n",
    "ax.add_feature(cfeature.LAKES, alpha=0.5)\n",
    "ax.add_feature(cfeature.RIVERS)\n",
    "# Draw coastlines\n",
    "ax.coastlines()\n",
    "\n",
    "projection_extend = ax.get_extent()\n",
    "ax.set_extent([717912.57-10e5, 717912.57+10e5, 878906.19-10e5,878906.19+10e5], crs=ccrs.UTM(zone=\"30N\"))"
   ]
  },
  {
   "cell_type": "code",
   "execution_count": null,
   "metadata": {},
   "outputs": [],
   "source": [
    "class GhanaUTM(ccrs.UTM):\n",
    "    \"\"\"\n",
    "    UTM Zone 30N projection for Africa domain.\n",
    "\n",
    "    Ellipsoid is International 1924, Datum is ED50.\n",
    "\n",
    "    \"\"\"\n",
    "    def __init__(self,space_surrounding=5e5):\n",
    "        globe = ccrs.Globe(ellipse='intl')\n",
    "        super().__init__(\"30N\", globe=globe)\n",
    "        self.ghana_coord=[717912.57, 878906.19]\n",
    "        self.space_surrounding = space_surrounding\n",
    "\n",
    "    @property\n",
    "    def x_limits(self):\n",
    "        return (self.ghana_coord[0]-self.space_surrounding, self.ghana_coord[0]+self.space_surrounding)\n",
    "\n",
    "    @property\n",
    "    def y_limits(self):\n",
    "        return (self.ghana_coord[1]-self.space_surrounding, self.ghana_coord[1]+self.space_surrounding)"
   ]
  },
  {
   "cell_type": "code",
   "execution_count": null,
   "metadata": {},
   "outputs": [],
   "source": [
    "fig = plt.figure(figsize=(10, 5))\n",
    "# Another way to create an axis with a map projection\n",
    "ax = fig.add_subplot(1, 1, 1, projection=GhanaUTM(space_surrounding=5e5))\n",
    "# Default topography image\n",
    "ax.add_feature(cfeature.BORDERS, linestyle='-')\n",
    "ax.add_feature(cfeature.LAND)\n",
    "ax.add_feature(cfeature.OCEAN)\n",
    "ax.add_feature(cfeature.RIVERS)\n",
    "ax.add_feature(cfeature.LAKES, alpha=0.5)\n",
    "# Draw coastlines\n",
    "ax.coastlines()"
   ]
  },
  {
   "cell_type": "markdown",
   "metadata": {},
   "source": [
    "## Now we are ready to plot some gridded data on top of the maps:"
   ]
  },
  {
   "cell_type": "code",
   "execution_count": null,
   "metadata": {},
   "outputs": [],
   "source": [
    "#Import library to read netCDFs\n",
    "import xarray as xr"
   ]
  },
  {
   "cell_type": "markdown",
   "metadata": {},
   "source": [
    "#### Load mean SST data from NOAA\n",
    "\n",
    "This dataset is stored in the /shared folder on the JupyterHub."
   ]
  },
  {
   "cell_type": "code",
   "execution_count": null,
   "metadata": {},
   "outputs": [],
   "source": [
    "# Lazy opening of dataset.\n",
    "# Lazy means means that only the metadata of the netcdf is read. \n",
    "monthly_mean_sst = xr.open_dataset('~/shared/sst.mnmean.nc')"
   ]
  },
  {
   "cell_type": "code",
   "execution_count": null,
   "metadata": {},
   "outputs": [],
   "source": [
    "# Compute mean over record.\n",
    "mean_sst = monthly_mean_sst.mean('time').sst"
   ]
  },
  {
   "cell_type": "code",
   "execution_count": null,
   "metadata": {},
   "outputs": [],
   "source": [
    "# Create figure\n",
    "fig = plt.figure(figsize=(10, 5))\n",
    "# Add figure axes\n",
    "ax = fig.add_axes([0,0,1,1])\n",
    "# Plot data\n",
    "plt.pcolormesh(mean_sst.lon,mean_sst.lat,mean_sst,cmap='Reds',shading='auto')"
   ]
  },
  {
   "cell_type": "markdown",
   "metadata": {},
   "source": [
    "#### This is horrible, let's use cartopy!"
   ]
  },
  {
   "cell_type": "code",
   "execution_count": null,
   "metadata": {},
   "outputs": [],
   "source": [
    "# Create figure\n",
    "fig = plt.figure(figsize=(10, 5))\n",
    "# Add figure axes\n",
    "ax = fig.add_axes([0,0,1,1], projection=ccrs.Robinson())\n",
    "# Plot data\n",
    "p = plt.pcolormesh(mean_sst.lon,mean_sst.lat,mean_sst,transform=ccrs.PlateCarree(),cmap='Reds')\n",
    "# Draw coastlines\n",
    "ax.coastlines()"
   ]
  },
  {
   "cell_type": "markdown",
   "metadata": {},
   "source": [
    "#### We don't expect to have Sea surface temperature over the continents, so let's mask the land."
   ]
  },
  {
   "cell_type": "code",
   "execution_count": null,
   "metadata": {},
   "outputs": [],
   "source": [
    "# Import map features such as land, continents, contry boundaries and other.\n",
    "import cartopy.feature as cfeature"
   ]
  },
  {
   "cell_type": "code",
   "execution_count": null,
   "metadata": {},
   "outputs": [],
   "source": [
    "# Create figure\n",
    "fig = plt.figure(figsize=(10, 5))\n",
    "# Add figure axes\n",
    "ax = fig.add_axes([0,0,1,1], projection=ccrs.Robinson())\n",
    "# Plot data\n",
    "p = plt.pcolormesh(mean_sst.lon,mean_sst.lat,mean_sst,transform=ccrs.PlateCarree(),cmap='Reds')\n",
    "# Draw continents\n",
    "ax.add_feature(cfeature.LAND,zorder=10)"
   ]
  },
  {
   "cell_type": "markdown",
   "metadata": {},
   "source": [
    "#### With that continental feature, we cant differentiate between low temperatures and the continentes, so let's customize a bit more our map."
   ]
  },
  {
   "cell_type": "markdown",
   "metadata": {},
   "source": [
    "First, we will create some custom features:"
   ]
  },
  {
   "cell_type": "code",
   "execution_count": null,
   "metadata": {},
   "outputs": [],
   "source": [
    "# Create country boundaries using Natural Earth Features: https://www.naturalearthdata.com\n",
    "countries = cfeature.NaturalEarthFeature('cultural', 'admin_0_boundary_lines_land', \n",
    "                                        scale='110m',\n",
    "                                        edgecolor='black',\n",
    "                                        facecolor='none')\n",
    "\n",
    "# Create continents mask with 50 meter resolution data\n",
    "land_50m = cfeature.NaturalEarthFeature('physical', 'land', \n",
    "                                        scale='50m',\n",
    "                                        edgecolor='face',\n",
    "                                        facecolor='gray')\n",
    "\n",
    "# Create continents mask with 10 meter resolution data\n",
    "land_10m = cfeature.NaturalEarthFeature('physical', 'land', \n",
    "                                        scale='10m',\n",
    "                                        edgecolor='face',\n",
    "                                        facecolor='gray')\n",
    "\n",
    "# Create ocean mask\n",
    "oceans_50m = cfeature.NaturalEarthFeature('physical', 'ocean', \n",
    "                                        scale='50m',\n",
    "                                        edgecolor='face',\n",
    "                                        facecolor='stealblue')"
   ]
  },
  {
   "cell_type": "code",
   "execution_count": null,
   "metadata": {},
   "outputs": [],
   "source": [
    "# Create figure\n",
    "fig = plt.figure(figsize=(10, 5))\n",
    "# Add figure axes\n",
    "ax = fig.add_axes([0,0,1,1], projection=ccrs.Orthographic(20, -0))\n",
    "# Plot data\n",
    "p = plt.pcolormesh(mean_sst.lon,mean_sst.lat,mean_sst,transform=ccrs.PlateCarree(),cmap='Reds')\n",
    "# Add land feature\n",
    "ax.add_feature(land_50m, zorder=10)\n",
    "# Add countries feature\n",
    "ax.add_feature(countries,zorder=11)\n",
    "# Add colorbar\n",
    "plt.colorbar()"
   ]
  },
  {
   "cell_type": "markdown",
   "metadata": {},
   "source": [
    "#### `xarray` is a package that natively allows users to plot using cartopy"
   ]
  },
  {
   "cell_type": "markdown",
   "metadata": {},
   "source": [
    "Note that by default xarray deals with the same issue."
   ]
  },
  {
   "cell_type": "code",
   "execution_count": null,
   "metadata": {},
   "outputs": [],
   "source": [
    "# Create figure\n",
    "fig = plt.figure(figsize=(10, 5))\n",
    "# Plot data\n",
    "p = mean_sst.plot(subplot_kws=dict(projection=ccrs.Orthographic(-100, 30), facecolor=\"gray\"), transform=ccrs.PlateCarree(),cmap='Reds')\n",
    "# Add land feature\n",
    "p.axes.add_feature(land_50m, zorder=10)"
   ]
  },
  {
   "cell_type": "code",
   "execution_count": null,
   "metadata": {},
   "outputs": [],
   "source": [
    "# Create figure\n",
    "fig = plt.figure(figsize=(10, 5))\n",
    "# Plot data\n",
    "p = mean_sst.plot(subplot_kws=dict(projection=ccrs.Orthographic(20, -0), facecolor=\"gray\"), transform=ccrs.PlateCarree(),cmap='Reds',vmin=-5,vmax=30)\n",
    "# Add land feature\n",
    "p.axes.add_feature(land_10m, zorder=10)"
   ]
  },
  {
   "cell_type": "code",
   "execution_count": null,
   "metadata": {},
   "outputs": [],
   "source": [
    "# Create figure\n",
    "fig = plt.figure(figsize=(10, 5))\n",
    "# Plot data\n",
    "p = mean_sst.plot(subplot_kws=dict(projection=ccrs.Robinson(central_longitude = 0), facecolor=\"gray\"), transform=ccrs.PlateCarree(),cmap='Reds',vmin=-5,vmax=30)\n",
    "# Add land feature\n",
    "p.axes.add_feature(land_50m, zorder=10)"
   ]
  },
  {
   "cell_type": "markdown",
   "metadata": {},
   "source": [
    "#### Now let's plot only a section of the data:"
   ]
  },
  {
   "cell_type": "code",
   "execution_count": null,
   "metadata": {},
   "outputs": [],
   "source": [
    "# Rotate coordinates from 0-360 degrees to -180 to 180.\n",
    "mean_sst_rotate_coords = mean_sst.assign_coords(lon=(((mean_sst.lon + 180) % 360) - 180)).sortby('lon')\n",
    "# Slice data\n",
    "SST_atlantic_ocean = mean_sst_rotate_coords.sel({'lat':slice(30,-50),'lon':slice(-50,40)})"
   ]
  },
  {
   "cell_type": "code",
   "execution_count": null,
   "metadata": {},
   "outputs": [],
   "source": [
    "# Create figure\n",
    "fig = plt.figure(figsize=(10, 5))\n",
    "# Plot data\n",
    "p = SST_atlantic_ocean.plot(subplot_kws=dict(projection=ccrs.Orthographic(central_longitude = 0)), transform=ccrs.PlateCarree(),cmap='Reds',vmin=18,vmax=28)\n",
    "# Add land feature\n",
    "p.axes.add_feature(land_50m, zorder=10)"
   ]
  },
  {
   "cell_type": "code",
   "execution_count": null,
   "metadata": {},
   "outputs": [],
   "source": [
    "# Create figure\n",
    "fig = plt.figure(figsize=(10, 5))\n",
    "# Plot data\n",
    "p = SST_atlantic_ocean.plot(subplot_kws=dict(projection=ccrs.Orthographic(central_longitude = 0)), transform=ccrs.PlateCarree(),cmap='Reds',vmin=18,vmax=28)\n",
    "# Add land feature\n",
    "p.axes.add_feature(land_50m, zorder=10)\n",
    "# Set extent of map to global\n",
    "p.axes.set_global()"
   ]
  },
  {
   "cell_type": "code",
   "execution_count": null,
   "metadata": {},
   "outputs": [],
   "source": [
    "# Create figure\n",
    "fig = plt.figure(figsize=(10, 5))\n",
    "# Plot data\n",
    "p = SST_atlantic_ocean.plot(subplot_kws=dict(projection=ccrs.Orthographic(central_longitude = 0)), transform=ccrs.PlateCarree(),cmap='Reds',vmin=18,vmax=28)\n",
    "# Add land feature\n",
    "p.axes.add_feature(land_50m, zorder=10)\n",
    "# Set extent of map allows to select the coordinates of the map (Similar result as before).\n",
    "p.axes.set_extent((-89,89,-89,89))"
   ]
  },
  {
   "cell_type": "markdown",
   "metadata": {},
   "source": [
    "### Now let's create our own projection:\n",
    "\n",
    "We will explore Myriahedral projections. \n",
    "\n",
    "Have a look here to learn more about them:\n",
    "https://philogb.github.io/page/myriahedral/.\n",
    "\n",
    "Here we will reproduce the Cylindrical myriahedral projection, however some of the other projections will be significantly more challenging.\n",
    "\n",
    "The Cylindrical Myriahedral projection is a natural development from a Sinusoidal projection, therefore, we will start ploting the data in a sinusoidal projection."
   ]
  },
  {
   "cell_type": "code",
   "execution_count": null,
   "metadata": {},
   "outputs": [],
   "source": [
    "# Create figure\n",
    "fig = plt.figure(figsize=(10, 5))\n",
    "# Add axes\n",
    "ax = fig.add_axes([0,0,1,1], projection=ccrs.Sinusoidal(0))\n",
    "# Plot data\n",
    "p = plt.pcolormesh(mean_sst_rotate_coords.lon,mean_sst_rotate_coords.lat,mean_sst_rotate_coords,transform=ccrs.PlateCarree(),cmap='Reds')\n",
    "# Set extent of map.\n",
    "ax.set_global()\n",
    "# Add land feature\n",
    "ax.add_feature(land_50m, zorder=10)\n",
    "# Add colorbar\n",
    "plt.colorbar()"
   ]
  },
  {
   "cell_type": "markdown",
   "metadata": {},
   "source": [
    "Now we set the extend of the plot to only obtain the width of a gore, in this case -15° to 15°"
   ]
  },
  {
   "cell_type": "code",
   "execution_count": null,
   "metadata": {},
   "outputs": [],
   "source": [
    "# Create figure\n",
    "fig = plt.figure(figsize=(10, 5))\n",
    "# Add axes\n",
    "ax = fig.add_axes([0,0,1,1], projection=ccrs.Sinusoidal(0))\n",
    "# Plot data\n",
    "p = plt.pcolormesh(mean_sst_rotate_coords.lon,mean_sst_rotate_coords.lat,mean_sst_rotate_coords,transform=ccrs.PlateCarree(),cmap='Reds')\n",
    "# Set extent of map to slice data.\n",
    "ax.set_extent((-15,15,-90,90))\n",
    "# Add land feature\n",
    "ax.add_feature(land_50m, zorder=10)"
   ]
  },
  {
   "cell_type": "markdown",
   "metadata": {},
   "source": [
    "In order to mask the data we have to provide a boundary to the map:"
   ]
  },
  {
   "cell_type": "code",
   "execution_count": null,
   "metadata": {},
   "outputs": [],
   "source": [
    "# Import additional libraries to construct Myriahedral projection\n",
    "import numpy as np \n",
    "import matplotlib.path as mpath\n",
    "import matplotlib.patches as mpatches\n",
    "\n",
    "# Create figure and axes\n",
    "fig = plt.figure(figsize=(10, 5))\n",
    "ax = fig.add_axes([0,0,1,1], projection=ccrs.Sinusoidal(0))\n",
    "\n",
    "# Geometry of ellipse to bound map.\n",
    "theta = np.linspace(-np.pi, np.pi, 100)\n",
    "psi = np.linspace(-np.pi, np.pi, 100)\n",
    "r, R = 15, 90\n",
    "verts = np.vstack([ r * np.cos(theta), -R *np.sin(psi) ]).T\n",
    "\n",
    "bound = mpath.Path(verts)\n",
    "# Set bounds to map.\n",
    "ax.set_boundary(bound,ccrs.PlateCarree(0))\n",
    "\n",
    "# Slice data to region of interest\n",
    "data = mean_sst_rotate_coords.sel(lon=slice(-15,15))\n",
    "# Plot data\n",
    "p = plt.pcolormesh(data.lon,data.lat,data,transform=ccrs.PlateCarree(),cmap='Reds')\n",
    "\n",
    "# Add land\n",
    "ax.add_feature(land_50m, zorder=10)\n"
   ]
  },
  {
   "cell_type": "markdown",
   "metadata": {},
   "source": [
    "Now let's create all the gores."
   ]
  },
  {
   "cell_type": "code",
   "execution_count": null,
   "metadata": {},
   "outputs": [],
   "source": [
    "# Define a function to generate the gore boundary.\n",
    "def gore_boundary(gore_width):\n",
    "    # Sphere coordinates\n",
    "    theta = np.linspace(-np.pi, np.pi, 100)\n",
    "    psi = np.linspace(-np.pi, np.pi, 100)\n",
    "    r, R = gore_width/2, 90\n",
    "    # Ellipse verts\n",
    "    verts = np.vstack([ r * np.cos(theta), - R *np.sin(psi) ]).T\n",
    "    # Bounding path\n",
    "    bound = mpath.Path(verts)\n",
    "    return bound"
   ]
  },
  {
   "cell_type": "code",
   "execution_count": null,
   "metadata": {},
   "outputs": [],
   "source": [
    "import numpy as np \n",
    "import matplotlib.path as mpath\n",
    "import matplotlib.patches as mpatches\n",
    "\n",
    "fig = plt.figure(figsize=(10, 5))\n",
    "\n",
    "# Width of gorges \n",
    "gore_width = 30\n",
    "gores = 360//gore_width\n",
    "\n",
    "for ii in range(gores):\n",
    "    # Project data into Sinusoidal projection.\n",
    "    ax = fig.add_axes([ii*(1/gores),0,1/gores,1], projection=ccrs.Sinusoidal(ii*(gore_width)+gore_width/2))\n",
    "    # Set boundary according to an ellipse of radius r and R\n",
    "    ax.set_boundary(gore_boundary(gore_width),ccrs.PlateCarree(ii*(gore_width)+gore_width/2))\n",
    "    # Slice data\n",
    "    data = mean_sst.sel(lon=slice(ii*(gore_width),ii*(gore_width)+gore_width))\n",
    "    # Pcolormesh data over map\n",
    "    p = plt.pcolormesh(data.lon,data.lat,data,transform=ccrs.PlateCarree(),cmap='Reds')\n",
    "    # Add land to each subplot\n",
    "    ax.add_feature(land_50m, zorder=10)"
   ]
  },
  {
   "cell_type": "markdown",
   "metadata": {},
   "source": [
    "### Now you can play with different projections and the cyldrical Myriahedral projection."
   ]
  },
  {
   "cell_type": "markdown",
   "metadata": {},
   "source": [
    "# GeoPandas & Cartopy"
   ]
  },
  {
   "cell_type": "code",
   "execution_count": null,
   "metadata": {},
   "outputs": [],
   "source": [
    "import geopandas as gpd"
   ]
  },
  {
   "cell_type": "markdown",
   "metadata": {},
   "source": [
    "Let's look at some geojson data from http://www.ecreee.org/."
   ]
  },
  {
   "cell_type": "markdown",
   "metadata": {},
   "source": [
    "More data can be found at: https://open.africa/.\n",
    "\n",
    "For Ghana: (https://open.africa/group/ghana)"
   ]
  },
  {
   "cell_type": "markdown",
   "metadata": {},
   "source": [
    "### Let's first explore the data."
   ]
  },
  {
   "cell_type": "code",
   "execution_count": null,
   "metadata": {},
   "outputs": [],
   "source": [
    "electical_system = gpd.read_file(\"~/shared/ghana_electrical.geojson\")\n",
    "electical_system.crs = \"EPSG:4326\"\n",
    "electical_system.head()"
   ]
  },
  {
   "cell_type": "markdown",
   "metadata": {},
   "source": [
    "We can plot histograms, a particular field. `GeoPandas` uses a syntax similar to `Pandas`."
   ]
  },
  {
   "cell_type": "code",
   "execution_count": null,
   "metadata": {},
   "outputs": [],
   "source": [
    "electical_system['year'].hist(bins=10)"
   ]
  },
  {
   "cell_type": "markdown",
   "metadata": {},
   "source": [
    "### Let's combine what we have learnt (`Cartopy`, `Pandas`) + `GeoPandas`"
   ]
  },
  {
   "cell_type": "code",
   "execution_count": null,
   "metadata": {},
   "outputs": [],
   "source": [
    "import matplotlib.ticker as mticker"
   ]
  },
  {
   "cell_type": "code",
   "execution_count": null,
   "metadata": {},
   "outputs": [],
   "source": [
    "fig = plt.figure(figsize=(10, 5))\n",
    "# Another way to create an axis with a map projection\n",
    "proj = GhanaUTM(space_surrounding=5e5)\n",
    "\n",
    "ax = fig.add_subplot(1, 1, 1, projection=proj)\n",
    "                      \n",
    "# Default topography image\n",
    "ax.add_feature(cfeature.BORDERS, linestyle='--',linewidth=0.5)\n",
    "ax.add_feature(cfeature.LAND)\n",
    "ax.add_feature(cfeature.OCEAN)\n",
    "ax.add_feature(cfeature.RIVERS,alpha=0.5)\n",
    "ax.add_feature(cfeature.LAKES, alpha=0.5)\n",
    "# Draw coastlines\n",
    "ax.coastlines()\n",
    "\n",
    "data2plot = electical_system.to_crs(proj.proj4_init)\n",
    "\n",
    "data2plot.plot(ax=ax,linestyle='-',color='g')\n",
    "\n",
    "gl = ax.gridlines(crs=ccrs.PlateCarree(), draw_labels=True,\n",
    "                  linewidth=0.5, color='gray', alpha=0.5, linestyle='--')\n",
    "\n",
    "gl.xlocator = mticker.FixedLocator(np.arange(-4,1,2))\n",
    "gl.ylocator = mticker.FixedLocator(np.arange(5,13,3))\n",
    "\n",
    "# Remove legends on different sides of map\n",
    "gl.top_labels = False\n",
    "gl.left_labels = False\n",
    "# gl. bottom_labels = False\n",
    "# gl.right_labels =False"
   ]
  },
  {
   "cell_type": "code",
   "execution_count": null,
   "metadata": {},
   "outputs": [],
   "source": [
    "fig = plt.figure(figsize=(10, 5))\n",
    "# Another way to create an axis with a map projection\n",
    "proj = GhanaUTM(space_surrounding=5e5)\n",
    "\n",
    "ax = fig.add_subplot(1, 1, 1, projection=proj)\n",
    "                      \n",
    "# Default topography image\n",
    "ax.add_feature(cfeature.BORDERS, linestyle='--',linewidth=0.5)\n",
    "ax.add_feature(cfeature.LAND)\n",
    "ax.add_feature(cfeature.OCEAN)\n",
    "ax.add_feature(cfeature.RIVERS,alpha=0.5)\n",
    "ax.add_feature(cfeature.LAKES, alpha=0.5)\n",
    "# Draw coastlines\n",
    "ax.coastlines()\n",
    "\n",
    "data2plot = electical_system.to_crs(proj.proj4_init)\n",
    "\n",
    "data2plot.plot( ax=ax, column='voltage_kV', linestyle='-', legend=True, legend_kwds={'label': \"volgate (kV)\"})\n",
    "\n",
    "gl = ax.gridlines(crs=ccrs.PlateCarree(), draw_labels=True,\n",
    "                  linewidth=0.5, color='gray', alpha=0.5, linestyle='--')\n",
    "\n",
    "gl.xlocator = mticker.FixedLocator(np.arange(-4,1,2))\n",
    "gl.ylocator = mticker.FixedLocator(np.arange(5,13,3))\n",
    "\n",
    "# Remove legends on different sides of map\n",
    "gl.top_labels = False\n",
    "# gl.left_labels = False\n",
    "# gl. bottom_labels = False\n",
    "gl.right_labels =False"
   ]
  },
  {
   "cell_type": "code",
   "execution_count": null,
   "metadata": {},
   "outputs": [],
   "source": [
    "fig = plt.figure(figsize=(10, 5))\n",
    "# Another way to create an axis with a map projection\n",
    "proj = GhanaUTM(space_surrounding=5e5)\n",
    "\n",
    "ax = fig.add_subplot(1, 1, 1, projection=proj)\n",
    "                      \n",
    "# Default topography image\n",
    "ax.add_feature(cfeature.BORDERS, linestyle='--',linewidth=0.5)\n",
    "ax.add_feature(cfeature.LAND)\n",
    "ax.add_feature(cfeature.OCEAN)\n",
    "ax.add_feature(cfeature.RIVERS,alpha=0.5)\n",
    "ax.add_feature(cfeature.LAKES, alpha=0.5)\n",
    "# Draw coastlines\n",
    "ax.coastlines()\n",
    "\n",
    "data2plot = electical_system.to_crs(proj.proj4_init)\n",
    "\n",
    "data2plot.plot(column='voltage_kV', scheme='natural_breaks', k=4, ax=ax,linestyle='-',legend=True)\n",
    "\n",
    "gl = ax.gridlines(crs=ccrs.PlateCarree(), draw_labels=True,\n",
    "                  linewidth=0.5, color='gray', alpha=0.5, linestyle='--')\n",
    "\n",
    "gl.xlocator = mticker.FixedLocator(np.arange(-4,1,2))\n",
    "gl.ylocator = mticker.FixedLocator(np.arange(5,13,3))\n",
    "\n",
    "# Remove legends on different sides of map\n",
    "gl.top_labels = False\n",
    "# gl.left_labels = False\n",
    "# gl. bottom_labels = False\n",
    "gl.right_labels =False"
   ]
  },
  {
   "cell_type": "markdown",
   "metadata": {},
   "source": [
    "If the previous cell reported the error: \n",
    "``` python\n",
    "ImportError: The 'mapclassify' >= 2.2.0 package is required to use the 'scheme' keyword\n",
    "```\n",
    "Uncomment and execute the following cell (**It may take a couple of minutes**):"
   ]
  },
  {
   "cell_type": "code",
   "execution_count": null,
   "metadata": {},
   "outputs": [],
   "source": [
    "# !conda install mapclassify -q --yes\n",
    "# # Make sure to comment this cell after executing it. "
   ]
  },
  {
   "cell_type": "code",
   "execution_count": null,
   "metadata": {},
   "outputs": [],
   "source": [
    "fig = plt.figure(figsize=(10, 5))\n",
    "# Another way to create an axis with a map projection\n",
    "proj = GhanaUTM(space_surrounding=5e5)\n",
    "\n",
    "ax = fig.add_subplot(1, 1, 1, projection=proj)\n",
    "                      \n",
    "# Default topography image\n",
    "ax.add_feature(cfeature.BORDERS, linestyle='--',linewidth=0.5)\n",
    "ax.add_feature(cfeature.LAND)\n",
    "ax.add_feature(cfeature.OCEAN)\n",
    "ax.add_feature(cfeature.RIVERS,alpha=0.5)\n",
    "ax.add_feature(cfeature.LAKES, alpha=0.5)\n",
    "# Draw coastlines\n",
    "ax.coastlines()\n",
    "\n",
    "data2plot = electical_system.to_crs(proj.proj4_init)\n",
    "\n",
    "data2plot.plot(column='year', scheme='natural_breaks', k=4, ax=ax,linestyle='-',legend=True)\n",
    "\n",
    "gl = ax.gridlines(crs=ccrs.PlateCarree(), draw_labels=True,\n",
    "                  linewidth=0.5, color='gray', alpha=0.5, linestyle='--')\n",
    "\n",
    "gl.xlocator = mticker.FixedLocator(np.arange(-4,1,2))\n",
    "gl.ylocator = mticker.FixedLocator(np.arange(5,13,3))\n",
    "\n",
    "# Remove legends on different sides of map\n",
    "gl.top_labels = False\n",
    "# gl.left_labels = False\n",
    "# gl. bottom_labels = False\n",
    "gl.right_labels =False"
   ]
  },
  {
   "cell_type": "code",
   "execution_count": null,
   "metadata": {},
   "outputs": [],
   "source": [
    "fig = plt.figure(figsize=(10, 5))\n",
    "# Another way to create an axis with a map projection\n",
    "proj = GhanaUTM(space_surrounding=5e5)\n",
    "\n",
    "ax = fig.add_subplot(1, 1, 1, projection=proj)\n",
    "                      \n",
    "# Default topography image\n",
    "ax.add_feature(cfeature.BORDERS, linestyle='--',linewidth=0.5)\n",
    "ax.add_feature(cfeature.LAND)\n",
    "ax.add_feature(cfeature.OCEAN)\n",
    "ax.add_feature(cfeature.RIVERS,alpha=0.5)\n",
    "ax.add_feature(cfeature.LAKES, alpha=0.5)\n",
    "# Draw coastlines\n",
    "ax.coastlines()\n",
    "\n",
    "data2plot = electical_system.to_crs(proj.proj4_init)\n",
    "\n",
    "data2plot.plot(column='length_km', scheme='natural_breaks', k=4, ax=ax,linestyle='-',legend=True)\n",
    "\n",
    "gl = ax.gridlines(crs=ccrs.PlateCarree(), draw_labels=True,\n",
    "                  linewidth=0.5, color='gray', alpha=0.5, linestyle='--')\n",
    "\n",
    "gl.xlocator = mticker.FixedLocator(np.arange(-4,1,2))\n",
    "gl.ylocator = mticker.FixedLocator(np.arange(5,13,3))\n",
    "\n",
    "# Remove legends on different sides of map\n",
    "gl.top_labels = False\n",
    "# gl.left_labels = False\n",
    "# gl. bottom_labels = False\n",
    "gl.right_labels =False"
   ]
  },
  {
   "cell_type": "markdown",
   "metadata": {},
   "source": [
    "## Shape files in GeoPandas"
   ]
  },
  {
   "cell_type": "markdown",
   "metadata": {},
   "source": [
    "GeoPandas also supports `shp` files, `csv` and other formats.\n",
    "Another interesting tutorial can be found at: https://www.datacamp.com/community/tutorials/geospatial-data-python\n"
   ]
  },
  {
   "cell_type": "code",
   "execution_count": null,
   "metadata": {},
   "outputs": [],
   "source": [
    "# We use a PySAL example shapefile\n",
    "import libpysal as ps"
   ]
  },
  {
   "cell_type": "markdown",
   "metadata": {},
   "source": [
    "If the previous cell reported the error: \n",
    "``` python\n",
    "ModuleNotFoundError: No module named 'libpysal'\n",
    "```\n",
    "Uncomment and execute the following cell (**It may take a couple of minutes**):"
   ]
  },
  {
   "cell_type": "code",
   "execution_count": null,
   "metadata": {},
   "outputs": [],
   "source": [
    "# !conda install libpysal -q --yes\n",
    "# # Make sure to comment this cell after executing it. "
   ]
  },
  {
   "cell_type": "code",
   "execution_count": null,
   "metadata": {},
   "outputs": [],
   "source": [
    "avail_examples = ps.examples.available()\n",
    "avail_examples"
   ]
  },
  {
   "cell_type": "markdown",
   "metadata": {},
   "source": [
    "Select an example (i.e. Nepal):"
   ]
  },
  {
   "cell_type": "code",
   "execution_count": null,
   "metadata": {},
   "outputs": [],
   "source": [
    "nepal = ps.examples.load_example(\"Nepal\")\n",
    "nepal.get_file_list()"
   ]
  },
  {
   "cell_type": "code",
   "execution_count": null,
   "metadata": {},
   "outputs": [],
   "source": [
    "# More info of the dataset\n",
    "nepal.explain_url"
   ]
  },
  {
   "cell_type": "markdown",
   "metadata": {},
   "source": [
    "Now let's load the shape file of the example:"
   ]
  },
  {
   "cell_type": "code",
   "execution_count": null,
   "metadata": {},
   "outputs": [],
   "source": [
    "pth = ps.examples.get_path(\"nepal.shp\")\n",
    "aid_nepal = gpd.GeoDataFrame.from_file(pth)\n",
    "aid_nepal.head()"
   ]
  },
  {
   "cell_type": "code",
   "execution_count": null,
   "metadata": {},
   "outputs": [],
   "source": [
    "# Print all column names\n",
    "aid_nepal.columns"
   ]
  },
  {
   "cell_type": "code",
   "execution_count": null,
   "metadata": {},
   "outputs": [],
   "source": [
    "aid_nepal['kids1_5'].hist(bins=10)"
   ]
  },
  {
   "cell_type": "code",
   "execution_count": null,
   "metadata": {},
   "outputs": [],
   "source": [
    "fig = plt.figure(figsize=(10, 5))\n",
    "# Another way to create an axis with a map projection\n",
    "proj = ccrs.Orthographic(85, 15)\n",
    "\n",
    "ax = fig.add_subplot(1, 1, 1, projection=proj)\n",
    "                      \n",
    "# Default topography image\n",
    "ax.add_feature(cfeature.BORDERS, linestyle='--',linewidth=0.5)\n",
    "ax.add_feature(cfeature.LAND)\n",
    "ax.add_feature(cfeature.OCEAN)\n",
    "ax.add_feature(cfeature.RIVERS,alpha=0.5)\n",
    "ax.add_feature(cfeature.LAKES, alpha=0.5)\n",
    "# Draw coastlines\n",
    "ax.coastlines()\n",
    "\n",
    "data2plot = aid_nepal.to_crs(proj.proj4_init)\n",
    "\n",
    "data2plot.plot(column='kids1_5', cmap='OrRd', ax=ax,linestyle='-',legend=True)\n",
    "\n",
    "gl = ax.gridlines(crs=ccrs.PlateCarree(),\n",
    "                  linewidth=0.5, color='gray', alpha=0.5, linestyle='--')\n",
    "\n",
    "ax.set_title('Number of Children Enrolled in Grade 1-5 (2012-2013)')\n",
    "ax.set_global()"
   ]
  },
  {
   "cell_type": "code",
   "execution_count": null,
   "metadata": {},
   "outputs": [],
   "source": [
    "fig = plt.figure(figsize=(10, 5))\n",
    "# Another way to create an axis with a map projection\n",
    "proj = ccrs.Orthographic(85, 15)\n",
    "\n",
    "ax = fig.add_subplot(1, 1, 1, projection=proj)\n",
    "                      \n",
    "# Default topography image\n",
    "ax.add_feature(cfeature.BORDERS, linestyle='--',linewidth=0.5)\n",
    "ax.add_feature(cfeature.LAND)\n",
    "ax.add_feature(cfeature.OCEAN)\n",
    "ax.add_feature(cfeature.RIVERS,alpha=0.5)\n",
    "ax.add_feature(cfeature.LAKES, alpha=0.5)\n",
    "# Draw coastlines\n",
    "ax.coastlines()\n",
    "\n",
    "data2plot = aid_nepal.to_crs(proj.proj4_init)\n",
    "\n",
    "data2plot.plot(column='kids1_5',  scheme='equal_interval', k=5, cmap='OrRd', \n",
    "               ax=ax,linestyle='-',legend=True, edgecolor='gray')\n",
    "\n",
    "gl = ax.gridlines(crs=ccrs.PlateCarree(), draw_labels=True,\n",
    "                  linewidth=0.5, color='gray', alpha=0.5, linestyle='--')\n",
    "\n",
    "ax.set_title('Number of Children Enrolled in Grade 1-5 (2012-2013)');\n",
    "# Remove legends on different sides of map\n",
    "gl.top_labels = False\n",
    "# gl.left_labels = False\n",
    "# gl. bottom_labels = False\n",
    "gl.right_labels =False"
   ]
  },
  {
   "cell_type": "markdown",
   "metadata": {},
   "source": [
    "Check https://geopandas.org/gallery/choropleths.html to continue exploring different data."
   ]
  },
  {
   "cell_type": "markdown",
   "metadata": {},
   "source": [
    "### Let's query data and create a simple animation."
   ]
  },
  {
   "cell_type": "code",
   "execution_count": null,
   "metadata": {},
   "outputs": [],
   "source": [
    "# Get the natural earth low resolution dataset included in GeoPandas\n",
    "world = gpd.read_file(\n",
    "    gpd.datasets.get_path('naturalearth_lowres')\n",
    ")"
   ]
  },
  {
   "cell_type": "code",
   "execution_count": null,
   "metadata": {},
   "outputs": [],
   "source": [
    "# Create figure\n",
    "fig = plt.figure(figsize=(10, 5))\n",
    "# Mapping projection\n",
    "proj=ccrs.Orthographic(central_longitude = 10)\n",
    "ax = fig.add_subplot(1, 1, 1, projection=proj)\n",
    "\n",
    "# Add land feature\n",
    "ax.add_feature(land_50m, zorder=-1)\n",
    "# Set extent of map allows to select the coordinates of the map (Similar result as before).\n",
    "ax.set_global()\n",
    "\n",
    "# We can query data and fields.\n",
    "africa = world.query('continent == \"Africa\"')\n",
    "\n",
    "data2plot = africa.to_crs(proj.proj4_init)\n",
    "\n",
    "data2plot.plot(ax=ax, column='pop_est', legend=True)"
   ]
  },
  {
   "cell_type": "markdown",
   "metadata": {},
   "source": [
    "If you would like to make an animation, you can do something like: "
   ]
  },
  {
   "cell_type": "markdown",
   "metadata": {},
   "source": [
    "You can also look into geoplot, which integrates better with geopandas. \n",
    "> Sometimes works, sometimes it doesn't. You need to make sure you have installed all the right jupyter notebook libraries.  "
   ]
  },
  {
   "cell_type": "code",
   "execution_count": null,
   "metadata": {},
   "outputs": [],
   "source": [
    "from IPython.display import clear_output\n",
    "import collections\n",
    "# Create figure\n",
    "\n",
    "data = collections.defaultdict(list)\n",
    "\n",
    "\n",
    "def animate_map(data, figsize=(5, 5), title=''):\n",
    "    clear_output(wait=True)\n",
    "    fig = plt.figure(figsize=figsize)\n",
    "    # Mapping projection\n",
    "    proj=ccrs.Orthographic(central_longitude = data['lon'])\n",
    "    ax = fig.add_subplot(1, 1, 1, projection=proj)\n",
    "\n",
    "    # Add land feature\n",
    "    ax.add_feature(land_50m, zorder=-1)\n",
    "    # Set extent of map allows to select the coordinates of the map (Similar result as before).\n",
    "    ax.set_global()\n",
    "\n",
    "    # We can query data and fields.\n",
    "    africa = world.query('continent == \"Africa\"')\n",
    "\n",
    "    data2plot = africa.to_crs(proj.proj4_init)\n",
    "\n",
    "    data2plot.plot(ax=ax, column='pop_est', legend=True)\n",
    "    plt.title(title)\n",
    "    # To save all images uncomment next line:\n",
    "    # plt.savefig('map_{0}.png'.format(data['lon']))\n",
    "    plt.show()\n",
    "    \n",
    "# Number of degrees to rotate, increase the number to rotate more.  \n",
    "for lon in np.arange(10):\n",
    "    data['lon'] = lon\n",
    "    animate_map(data,figsize=(10, 5), title=\"Population\")"
   ]
  },
  {
   "cell_type": "code",
   "execution_count": null,
   "metadata": {},
   "outputs": [],
   "source": []
  }
 ],
 "metadata": {
  "kernelspec": {
   "display_name": "Python 3 (ipykernel)",
   "language": "python",
   "name": "python3"
  },
  "language_info": {
   "codemirror_mode": {
    "name": "ipython",
    "version": 3
   },
   "file_extension": ".py",
   "mimetype": "text/x-python",
   "name": "python",
   "nbconvert_exporter": "python",
   "pygments_lexer": "ipython3",
   "version": "3.9.13"
  },
  "toc": {
   "base_numbering": 1,
   "nav_menu": {},
   "number_sections": false,
   "sideBar": true,
   "skip_h1_title": false,
   "title_cell": "Table of Contents",
   "title_sidebar": "Contents",
   "toc_cell": false,
   "toc_position": {},
   "toc_section_display": true,
   "toc_window_display": false
  }
 },
 "nbformat": 4,
 "nbformat_minor": 4
}
